{
  "cells": [
    {
      "cell_type": "markdown",
      "source": [
        "![OEA](https://openeducationanalytics.org/assets/imgs/img_oea_logo.png)\n",
        "# OEA and the OEA Framework\n",
        "\n",
        "[OEA](https://openeducationanalytics.org/) is a community centered around the effective and responsible use of data and analytics in education; and OEA is also an ever-growing open source repository with valuable components for data transformation and analytics.\n",
        "\n",
        "The [OEA framework](https://github.com/microsoft/OpenEduAnalytics/tree/main/framework) is an open source python library and synapse pipeline assets - built in collaboration with the OEA community - that simplifies the process of working with the data in your data lake in a way that follows a standardized data lake architecture and data processing best practices through use of [Apache Spark](https://spark.apache.org/) and [delta lake](https://delta.io/) technologies.\n",
        "\n",
        "Listed below are examples that demonstrate the usage of the OEA framework."
      ],
      "metadata": {
        "nteract": {
          "transient": {
            "deleting": false
          }
        }
      }
    },
    {
      "cell_type": "markdown",
      "source": [
        "# Example #1: End to end (collect, prep, view)\n",
        "The OEA framework comes with a set of Synapse pipelines that demonstrate how to extract data from data sources with common interfaces.\n",
        "\n",
        "By clicking on \"Integrate\" in the left nav bar and opening \"0_main_contoso_v0p2\" you can run an example pipeline that does the following:\n",
        "- 1. Retrieves data from an http endpoint\n",
        "- 2. Lands the data in the stage1 directory\n",
        "- 3. Ingests data into stage2/Ingested within a dev \"workspace\" in your data lake\n",
        "- 4. Refines the data into stage2/Refined, applying pseudonymization based on metadata\n",
        "- 5. Creates a spark db that points to the delta tables in stage2/Ingested and stage2/Refined\n",
        "- 6. Creates a sql serverless db with views pointing to the delta tables in stage2/Ingested and stage2/Refined\n",
        "\n"
      ],
      "metadata": {}
    },
    {
      "cell_type": "markdown",
      "source": [
        "# Example #2: Using synapse notebooks to explore and process data\r\n",
        "To walk through an example that demonstrates the use of the OEA framework within the context of a synapse notebook, take a look at the notebook named **2_example_data_processing**\r\n",
        "\r\n",
        "Open that notebook and walk through each cell for the details."
      ],
      "metadata": {
        "nteract": {
          "transient": {
            "deleting": false
          }
        }
      }
    },
    {
      "cell_type": "markdown",
      "source": [
        "# Example #3: Installing a schema\r\n",
        "It's often helpful to install just a schema (with or without test data) and explore its structure.\r\n",
        "\r\n",
        "Take a look at **3_example_working_with_schemas** for an example of installing a schema with test data and querying the resulting lake db."
      ],
      "metadata": {
        "nteract": {
          "transient": {
            "deleting": false
          }
        }
      }
    }
  ],
  "metadata": {
    "kernelspec": {
      "name": "synapse_pyspark",
      "display_name": "python"
    },
    "language_info": {
      "name": "python"
    },
    "description": null,
    "save_output": true,
    "synapse_widget": {
      "version": "0.1",
      "state": {}
    }
  },
  "nbformat": 4,
  "nbformat_minor": 2
}