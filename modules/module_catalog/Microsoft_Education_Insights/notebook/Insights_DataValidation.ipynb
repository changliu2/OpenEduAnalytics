{
  "nbformat": 4,
  "nbformat_minor": 2,
  "metadata": {
    "kernelspec": {
      "name": "synapse_pyspark",
      "display_name": "Synapse PySpark"
    },
    "language_info": {
      "name": "python"
    },
    "description": null,
    "save_output": true,
    "synapse_widget": {
      "version": "0.1",
      "state": {}
    }
  },
  "cells": [
    {
      "cell_type": "code",
      "execution_count": 51,
      "outputs": [
        {
          "output_type": "display_data",
          "data": {
            "application/vnd.livy.statement-meta+json": {
              "spark_pool": "spark3p3sm",
              "session_id": "104",
              "statement_id": 104,
              "state": "finished",
              "livy_statement_state": "available",
              "queued_time": "2023-04-10T17:45:54.3650779Z",
              "session_start_time": null,
              "execution_start_time": "2023-04-10T17:45:54.5217328Z",
              "execution_finish_time": "2023-04-10T17:45:54.6952306Z",
              "spark_jobs": null,
              "parent_msg_id": "15e45c79-a4cf-464c-8944-48d48202070d"
            },
            "text/plain": "StatementMeta(spark3p3sm, 104, 104, Finished, Available)"
          },
          "metadata": {}
        }
      ],
      "metadata": {},
      "source": [
        "workspace = 'prod'\r\n",
        "collection = \"M365\"\r\n",
        "version = \"1.4.0\"\r\n",
        "options = {'header':False}"
      ]
    },
    {
      "cell_type": "code",
      "execution_count": 52,
      "outputs": [
        {
          "output_type": "display_data",
          "data": {
            "application/vnd.livy.statement-meta+json": {
              "spark_pool": null,
              "session_id": "104",
              "statement_id": -1,
              "state": "finished",
              "livy_statement_state": "available",
              "queued_time": "2023-04-10T17:45:54.4265536Z",
              "session_start_time": null,
              "execution_start_time": "2023-04-10T17:45:56.0927743Z",
              "execution_finish_time": "2023-04-10T17:45:56.0930226Z",
              "spark_jobs": null,
              "parent_msg_id": "737d29b5-f9aa-437a-9863-b829bcc466d1"
            },
            "text/plain": "StatementMeta(, 104, -1, Finished, Available)"
          },
          "metadata": {}
        },
        {
          "output_type": "stream",
          "name": "stdout",
          "text": [
            "2023-04-10 17:45:55,124 - OEA - INFO - Now using workspace: dev\n2023-04-10 17:45:55,125 - OEA - INFO - OEA initialized.\n2023-04-10 17:45:55,432 - OEA - INFO - Now using workspace: prod\n"
          ]
        }
      ],
      "metadata": {
        "jupyter": {
          "source_hidden": false,
          "outputs_hidden": false
        },
        "nteract": {
          "transient": {
            "deleting": false
          }
        }
      },
      "source": [
        "%run /OEATestKit_py"
      ]
    },
    {
      "cell_type": "code",
      "execution_count": 53,
      "outputs": [
        {
          "output_type": "display_data",
          "data": {
            "application/vnd.livy.statement-meta+json": {
              "spark_pool": "spark3p3sm",
              "session_id": "104",
              "statement_id": 108,
              "state": "finished",
              "livy_statement_state": "available",
              "queued_time": "2023-04-10T17:45:54.4612969Z",
              "session_start_time": null,
              "execution_start_time": "2023-04-10T17:45:56.2307871Z",
              "execution_finish_time": "2023-04-10T17:45:56.4243411Z",
              "spark_jobs": null,
              "parent_msg_id": "5a524bbc-2479-4853-94f7-084086a35a59"
            },
            "text/plain": "StatementMeta(spark3p3sm, 104, 108, Finished, Available)"
          },
          "metadata": {}
        }
      ],
      "metadata": {
        "jupyter": {
          "source_hidden": false,
          "outputs_hidden": false
        },
        "nteract": {
          "transient": {
            "deleting": false
          }
        }
      },
      "source": [
        "def should_test(entity_path):\r\n",
        "    #Should only run test on data if there is data to test\r\n",
        "    raw_path = f'stage1/Transactional/{entity_path}'\r\n",
        "    batch_type, source_data_format = oea.get_batch_info(raw_path)\r\n",
        "    source_url = oea.to_url(f'{raw_path}/{batch_type}_batch_data')\r\n",
        "    if batch_type == 'snapshot' or batch_type=='additive': source_url = f'{source_url}/{oea.get_latest_folder(source_url)}'\r\n",
        "    return oea.get_folder_size(source_url) > 0\r\n",
        "    \r\n",
        "def validate_all_data_was_ingested(tables_source):\r\n",
        "    items = oea.get_folders(tables_source)\r\n",
        "    options = {'header':False}\r\n",
        "    for item in items: \r\n",
        "        try:\r\n",
        "            if item == 'metadata.csv':\r\n",
        "                logger.info('ignore metadata processing, since this is not a table to be ingested')\r\n",
        "            elif item == 'activity':\r\n",
        "                oea_test_kit.test_raw_data_is_subset_of_lake(collection, version, item, '_c3', options)\r\n",
        "            elif item == 'AadGroupMembership':\r\n",
        "                if(should_test('M365/v'+ version +'/' + item)):\r\n",
        "                    oea_test_kit.test_raw_data_is_subset_of_lake(collection, version, item, '_c5', options)\r\n",
        "            elif item == 'PersonRelationship':\r\n",
        "                logger.info('No test data')\r\n",
        "            elif item == 'RefTranslation':\r\n",
        "                logger.info('No test data')\r\n",
        "            else:\r\n",
        "                if(should_test('M365/v'+ version +'/' + item)):\r\n",
        "                    oea_test_kit.test_raw_data_is_subset_of_lake(collection, version, item, '_c0', options)\r\n",
        "            print(f\"item {item} passed test\")\r\n",
        "        except AnalysisException as e:\r\n",
        "            print(f\"item {item} failed test\")\r\n",
        "\r\n",
        "def validate_no_duplicates(table_source):\r\n",
        "    items = oea.get_folders(table_source)\r\n",
        "    for item in items: \r\n",
        "        try:\r\n",
        "            if item == 'metadata.csv':\r\n",
        "                logger.info('ignore metadata processing, since this is not a table to be ingested')\r\n",
        "            elif item == 'activity':\r\n",
        "                oea_test_kit.test_has_duplicates(collection, version, item, '_c3')\r\n",
        "            elif item == 'AadGroupMembership':\r\n",
        "                if(should_test('M365/v'+ version +'/' + item)):\r\n",
        "                    oea_test_kit.test_has_duplicates(collection, version, item, '_c5')\r\n",
        "            elif item == 'PersonRelationship':\r\n",
        "                logger.info('No test data')\r\n",
        "            elif item == 'RefTranslation':\r\n",
        "                logger.info('No test data')\r\n",
        "            else:\r\n",
        "                if(should_test('M365/v'+ version +'/' + item)):\r\n",
        "                    oea_test_kit.test_has_duplicates(collection, version, item, '_c0')\r\n",
        "            print(f\"item {item} passed test\")\r\n",
        "        except AnalysisException as e:\r\n",
        "            print(f\"item {item} failed test\")"
      ]
    },
    {
      "cell_type": "code",
      "execution_count": 54,
      "outputs": [
        {
          "output_type": "display_data",
          "data": {
            "application/vnd.livy.statement-meta+json": {
              "spark_pool": "spark3p3sm",
              "session_id": "104",
              "statement_id": 109,
              "state": "finished",
              "livy_statement_state": "available",
              "queued_time": "2023-04-10T17:45:54.5527628Z",
              "session_start_time": null,
              "execution_start_time": "2023-04-10T17:45:56.5682679Z",
              "execution_finish_time": "2023-04-10T17:46:28.5792884Z",
              "spark_jobs": null,
              "parent_msg_id": "e83d3cfa-dd1e-4ea2-b140-271033d4df53"
            },
            "text/plain": "StatementMeta(spark3p3sm, 104, 109, Finished, Available)"
          },
          "metadata": {}
        },
        {
          "output_type": "stream",
          "name": "stdout",
          "text": [
            "item AadGroup passed test\nitem AadGroupMembership passed test\nitem AadUser passed test\nitem AadUserPersonMapping passed test\nitem Course passed test\nitem CourseGradeLevel passed test\nitem CourseSubject passed test\nitem Enrollment passed test\nitem Organization passed test\nitem Person passed test\nitem PersonDemographic passed test\nitem PersonDemographicEthnicity passed test\nitem PersonDemographicPersonFlag passed test\nitem PersonDemographicRace passed test\nitem PersonEmailAddress passed test\nitem PersonIdentifier passed test\nitem PersonOrganizationRole passed test\nitem PersonPhoneNumber passed test\n2023-04-10 17:46:18,585 - OEA - INFO - No test data\nitem PersonRelationship passed test\nitem RefDefinition passed test\nitem Section passed test\nitem SectionGradeLevel passed test\nitem SectionSession passed test\nitem SectionSubject passed test\nitem Session passed test\nitem SourceSystem passed test\nitem activity passed test\n"
          ]
        }
      ],
      "metadata": {
        "jupyter": {
          "source_hidden": false,
          "outputs_hidden": false
        },
        "nteract": {
          "transient": {
            "deleting": false
          }
        }
      },
      "source": [
        "validate_all_data_was_ingested('stage1/Transactional/M365/v' + version)"
      ]
    },
    {
      "cell_type": "code",
      "execution_count": 55,
      "outputs": [
        {
          "output_type": "display_data",
          "data": {
            "application/vnd.livy.statement-meta+json": {
              "spark_pool": "spark3p3sm",
              "session_id": "104",
              "statement_id": 110,
              "state": "finished",
              "livy_statement_state": "available",
              "queued_time": "2023-04-10T17:45:54.6667717Z",
              "session_start_time": null,
              "execution_start_time": "2023-04-10T17:46:28.7234683Z",
              "execution_finish_time": "2023-04-10T17:46:46.1638981Z",
              "spark_jobs": null,
              "parent_msg_id": "601f60be-3fc7-44ee-8b9b-73d07c586017"
            },
            "text/plain": "StatementMeta(spark3p3sm, 104, 110, Finished, Available)"
          },
          "metadata": {}
        },
        {
          "output_type": "stream",
          "name": "stdout",
          "text": [
            "item AadGroup passed test\nitem AadGroupMembership passed test\nitem AadUser passed test\nitem AadUserPersonMapping passed test\nitem Course passed test\nitem CourseGradeLevel passed test\nitem CourseSubject passed test\nitem Enrollment passed test\nitem Organization passed test\nitem Person passed test\nitem PersonDemographic passed test\nitem PersonDemographicEthnicity passed test\nitem PersonDemographicPersonFlag passed test\nitem PersonDemographicRace passed test\nitem PersonEmailAddress passed test\nitem PersonIdentifier passed test\nitem PersonOrganizationRole passed test\nitem PersonPhoneNumber passed test\n2023-04-10 17:46:41,296 - OEA - INFO - No test data\nitem PersonRelationship passed test\nitem RefDefinition passed test\nitem Section passed test\nitem SectionGradeLevel passed test\nitem SectionSession passed test\nitem SectionSubject passed test\nitem Session passed test\nitem SourceSystem passed test\nitem activity passed test\n"
          ]
        }
      ],
      "metadata": {
        "jupyter": {
          "source_hidden": false,
          "outputs_hidden": false
        },
        "nteract": {
          "transient": {
            "deleting": false
          }
        }
      },
      "source": [
        "validate_no_duplicates('stage1/Transactional/M365/v' + version)"
      ]
    }
  ]
}