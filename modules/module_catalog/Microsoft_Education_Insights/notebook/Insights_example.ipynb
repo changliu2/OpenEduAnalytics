{
  "cells": [
    {
      "cell_type": "markdown",
      "metadata": {
        "nteract": {
          "transient": {
            "deleting": false
          }
        }
      },
      "source": [
        "# Test for processing Microsoft Education Insights data\n",
        "\n",
        "This notebook demonstrates possible data processing and exploration of the Microsoft Education Insights data, using the OEA_py class notebook. \n",
        "\n",
        "Most of the data processing done in this notebook are also achieved by executing the Insights module main pipeline. This notebook is designed as an alternate approach to the same processing, as well as module data exploration and visualization. \n",
        "\n",
        "The steps are clearly outlined below:\n",
        "1. Set the workspace,\n",
        "2. Land Insights Module (K-12 or Higher Ed.) Test Data,\n",
        "3. Ingest the Insights Module Test Data,\n",
        "4. Insights Schema Correction,\n",
        "5. Refine the Insights Module Test Data, \n",
        "6. Demonstrate Lake Database Queries/Final Remarks, and\n",
        "7. Appendix"
      ]
    },
    {
      "cell_type": "code",
      "execution_count": 1,
      "metadata": {
        "jupyter": {
          "outputs_hidden": false,
          "source_hidden": false
        },
        "nteract": {
          "transient": {
            "deleting": false
          }
        }
      },
      "outputs": [],
      "source": [
        "%run OEA_py"
      ]
    },
    {
      "cell_type": "code",
      "execution_count": 2,
      "metadata": {
        "jupyter": {
          "outputs_hidden": false,
          "source_hidden": false
        },
        "nteract": {
          "transient": {
            "deleting": false
          }
        }
      },
      "outputs": [],
      "source": [
        "# 1) set the workspace (this determines where in the data lake you'll be writing to and reading from).\n",
        "# You can work in 'dev', 'prod', or a sandbox with any name you choose.\n",
        "# For example, Sam the developer can create a 'sam' workspace and expect to find his datasets in the data lake under oea/sandboxes/sam\n",
        "oea.set_workspace('sam')"
      ]
    },
    {
      "cell_type": "markdown",
      "metadata": {
        "nteract": {
          "transient": {
            "deleting": false
          }
        }
      },
      "source": [
        "## 2.) Land Insights Module (K-12 or Higher Ed.) Test Data\n",
        "Below are 2 code blocks - the first lands test data formatted as K-12 data in your data lake, whereas the second lands Higher Ed. test data in your lake. Choose and run *one* of these blocks.\n",
        "\n",
        "**To-Do's:**\n",
        " - Confirm that files are being landed \"correctly\" in their proper folder partitions \n",
        "    * Took some liberties with test data directory, due to framework updates - although, the test data directory will look significantly different from the production data directory."
      ]
    },
    {
      "cell_type": "code",
      "execution_count": null,
      "metadata": {
        "jupyter": {
          "outputs_hidden": false,
          "source_hidden": false
        },
        "nteract": {
          "transient": {
            "deleting": false
          }
        }
      },
      "outputs": [],
      "source": [
        "# 2.1) Land batch data files into stage1 of the data lake.\n",
        "# In this example we pull Insights K-12 test csv data files from github and land it in oea/sandboxes/sam/stage1/Transactional/M365/v1.14\n",
        "# NOTE: You can choose to ingest Insights Higher Ed. test data instead, by running the code block below rather than this one.\n",
        "data = requests.get('https://raw.githubusercontent.com/microsoft/OpenEduAnalytics/main/modules/module_catalog/Microsoft_Education_Insights/test_data/k12_test_data/activity/2022-01-28/ApplicationUsage.csv').text\n",
        "oea.land(data, 'M365/v1.14/activity', 'activity_k12_test_data.csv', oea.ADDITIVE_BATCH_DATA)\n",
        "\n",
        "data = requests.get('https://raw.githubusercontent.com/microsoft/OpenEduAnalytics/main/modules/module_catalog/Microsoft_Education_Insights/test_data/k12_test_data/roster/2022-01-28T06-16-22/AadGroup/aadgroup.csv').text\n",
        "oea.land(data, 'M365/v1.14/AadGroup', 'aadgroup_k12_test_data.csv', oea.SNAPSHOT_BATCH_DATA)\n",
        "data = requests.get('https://raw.githubusercontent.com/microsoft/OpenEduAnalytics/main/modules/module_catalog/Microsoft_Education_Insights/test_data/k12_test_data/roster/2022-01-28T06-16-22/AadGroupMembership/aadgroupmembership.csv').text\n",
        "oea.land(data, 'M365/v1.14/AadGroupMembership', 'aadgroupmembership_k12_test_data.csv', oea.SNAPSHOT_BATCH_DATA)\n",
        "data = requests.get('https://raw.githubusercontent.com/microsoft/OpenEduAnalytics/main/modules/module_catalog/Microsoft_Education_Insights/test_data/k12_test_data/roster/2022-01-28T06-16-22/AadUser/aaduser.csv').text\n",
        "oea.land(data, 'M365/v1.14/AadUser', 'aaduser_k12_test_data.csv', oea.SNAPSHOT_BATCH_DATA)\n",
        "data = requests.get('https://raw.githubusercontent.com/microsoft/OpenEduAnalytics/main/modules/module_catalog/Microsoft_Education_Insights/test_data/k12_test_data/roster/2022-01-28T06-16-22/AadUserPersonMapping/aaduserpersonmapping.csv').text\n",
        "oea.land(data, 'M365/v1.14/AadUserPersonMapping', 'aaduserpersonmapping_k12_test_data.csv', oea.SNAPSHOT_BATCH_DATA)\n",
        "data = requests.get('https://raw.githubusercontent.com/microsoft/OpenEduAnalytics/main/modules/module_catalog/Microsoft_Education_Insights/test_data/k12_test_data/roster/2022-01-28T06-16-22/Course/course.csv').text\n",
        "oea.land(data, 'M365/v1.14/Course', 'course_k12_test_data.csv', oea.SNAPSHOT_BATCH_DATA)\n",
        "data = requests.get('https://raw.githubusercontent.com/microsoft/OpenEduAnalytics/main/modules/module_catalog/Microsoft_Education_Insights/test_data/k12_test_data/roster/2022-01-28T06-16-22/CourseGradeLevel/coursegradelevel.csv').text\n",
        "oea.land(data, 'M365/v1.14/CourseGradeLevel', 'coursegradelevel_k12_test_data.csv', oea.SNAPSHOT_BATCH_DATA)\n",
        "data = requests.get('https://raw.githubusercontent.com/microsoft/OpenEduAnalytics/main/modules/module_catalog/Microsoft_Education_Insights/test_data/k12_test_data/roster/2022-01-28T06-16-22/CourseSubject/coursesubject.csv').text\n",
        "oea.land(data, 'M365/v1.14/CourseSubject', 'coursesubject_k12_test_data.csv', oea.SNAPSHOT_BATCH_DATA)\n",
        "data = requests.get('https://raw.githubusercontent.com/microsoft/OpenEduAnalytics/main/modules/module_catalog/Microsoft_Education_Insights/test_data/k12_test_data/roster/2022-01-28T06-16-22/Enrollment/enrollment.csv').text\n",
        "oea.land(data, 'M365/v1.14/Enrollment', 'enrollment_k12_test_data.csv', oea.SNAPSHOT_BATCH_DATA)\n",
        "data = requests.get('https://raw.githubusercontent.com/microsoft/OpenEduAnalytics/main/modules/module_catalog/Microsoft_Education_Insights/test_data/k12_test_data/roster/2022-01-28T06-16-22/Organization/organization.csv').text\n",
        "oea.land(data, 'M365/v1.14/Organization', 'organization_k12_test_data.csv', oea.SNAPSHOT_BATCH_DATA)\n",
        "data = requests.get('https://raw.githubusercontent.com/microsoft/OpenEduAnalytics/main/modules/module_catalog/Microsoft_Education_Insights/test_data/k12_test_data/roster/2022-01-28T06-16-22/Person/person.csv').text\n",
        "oea.land(data, 'M365/v1.14/Person', 'person_k12_test_data.csv', oea.SNAPSHOT_BATCH_DATA)\n",
        "data = requests.get('https://raw.githubusercontent.com/microsoft/OpenEduAnalytics/main/modules/module_catalog/Microsoft_Education_Insights/test_data/k12_test_data/roster/2022-01-28T06-16-22/PersonDemographic/persondemographic.csv').text\n",
        "oea.land(data, 'M365/v1.14/PersonDemographic', 'persondemographic_k12_test_data.csv', oea.SNAPSHOT_BATCH_DATA)\n",
        "data = requests.get('https://raw.githubusercontent.com/microsoft/OpenEduAnalytics/main/modules/module_catalog/Microsoft_Education_Insights/test_data/k12_test_data/roster/2022-01-28T06-16-22/PersonDemographicEthnicity/persondemographicethnicity.csv').text\n",
        "oea.land(data, 'M365/v1.14/PersonDemographicEthnicity', 'persondemographicethnicity_k12_test_data.csv', oea.SNAPSHOT_BATCH_DATA)\n",
        "data = requests.get('https://raw.githubusercontent.com/microsoft/OpenEduAnalytics/main/modules/module_catalog/Microsoft_Education_Insights/test_data/k12_test_data/roster/2022-01-28T06-16-22/PersonDemographicPersonFlag/persondemographicpersonflag.csv').text\n",
        "oea.land(data, 'M365/v1.14/PersonDemographicPersonFlag', 'persondemographicpersonflag_k12_test_data.csv', oea.SNAPSHOT_BATCH_DATA)\n",
        "data = requests.get('https://raw.githubusercontent.com/microsoft/OpenEduAnalytics/main/modules/module_catalog/Microsoft_Education_Insights/test_data/k12_test_data/roster/2022-01-28T06-16-22/PersonDemographicRace/persondemographicrace.csv').text\n",
        "oea.land(data, 'M365/v1.14/PersonDemographicRace', 'persondemographicrace_k12_test_data.csv', oea.SNAPSHOT_BATCH_DATA)\n",
        "data = requests.get('https://raw.githubusercontent.com/microsoft/OpenEduAnalytics/main/modules/module_catalog/Microsoft_Education_Insights/test_data/k12_test_data/roster/2022-01-28T06-16-22/PersonEmailAddress/personemailaddress.csv').text\n",
        "oea.land(data, 'M365/v1.14/PersonEmailAddress', 'personemailaddress_k12_test_data.csv', oea.SNAPSHOT_BATCH_DATA)\n",
        "data = requests.get('https://raw.githubusercontent.com/microsoft/OpenEduAnalytics/main/modules/module_catalog/Microsoft_Education_Insights/test_data/k12_test_data/roster/2022-01-28T06-16-22/PersonIdentifier/personidentifier.csv').text\n",
        "oea.land(data, 'M365/v1.14/PersonIdentifier', 'personidentifier_k12_test_data.csv', oea.SNAPSHOT_BATCH_DATA)\n",
        "data = requests.get('https://raw.githubusercontent.com/microsoft/OpenEduAnalytics/main/modules/module_catalog/Microsoft_Education_Insights/test_data/k12_test_data/roster/2022-01-28T06-16-22/PersonOrganizationRole/personorganizationrole.csv').text\n",
        "oea.land(data, 'M365/v1.14/PersonOrganizationRole', 'personorganizationrole_k12_test_data.csv', oea.SNAPSHOT_BATCH_DATA)\n",
        "data = requests.get('https://raw.githubusercontent.com/microsoft/OpenEduAnalytics/main/modules/module_catalog/Microsoft_Education_Insights/test_data/k12_test_data/roster/2022-01-28T06-16-22/PersonPhoneNumber/personphonenumber.csv').text\n",
        "oea.land(data, 'M365/v1.14/PersonPhoneNumber', 'personphonenumber_k12_test_data.csv', oea.SNAPSHOT_BATCH_DATA)\n",
        "data = requests.get('https://raw.githubusercontent.com/microsoft/OpenEduAnalytics/main/modules/module_catalog/Microsoft_Education_Insights/test_data/k12_test_data/roster/2022-01-28T06-16-22/PersonRelationship/personrelationship.csv').text\n",
        "oea.land(data, 'M365/v1.14/PersonRelationship', 'personrelationship_k12_test_data.csv', oea.SNAPSHOT_BATCH_DATA)\n",
        "data = requests.get('https://raw.githubusercontent.com/microsoft/OpenEduAnalytics/main/modules/module_catalog/Microsoft_Education_Insights/test_data/k12_test_data/roster/2022-01-28T06-16-22/RefDefinition/refdefinition.csv').text\n",
        "oea.land(data, 'M365/v1.14/RefDefinition', 'refdefinition_k12_test_data.csv', oea.SNAPSHOT_BATCH_DATA)\n",
        "data = requests.get('https://raw.githubusercontent.com/microsoft/OpenEduAnalytics/main/modules/module_catalog/Microsoft_Education_Insights/test_data/k12_test_data/roster/2022-01-28T06-16-22/RefTranslation/reftranslation.csv').text\n",
        "oea.land(data, 'M365/v1.14/RefTranslation', 'reftranslation_k12_test_data.csv', oea.SNAPSHOT_BATCH_DATA)\n",
        "data = requests.get('https://raw.githubusercontent.com/microsoft/OpenEduAnalytics/main/modules/module_catalog/Microsoft_Education_Insights/test_data/k12_test_data/roster/2022-01-28T06-16-22/Section/section.csv').text\n",
        "oea.land(data, 'M365/v1.14/Section', 'section_k12_test_data.csv', oea.SNAPSHOT_BATCH_DATA)\n",
        "data = requests.get('https://raw.githubusercontent.com/microsoft/OpenEduAnalytics/main/modules/module_catalog/Microsoft_Education_Insights/test_data/k12_test_data/roster/2022-01-28T06-16-22/SectionGradeLevel/sectiongradelevel.csv').text\n",
        "oea.land(data, 'M365/v1.14/SectionGradeLevel', 'sectiongradelevel_k12_test_data.csv', oea.SNAPSHOT_BATCH_DATA)\n",
        "data = requests.get('https://raw.githubusercontent.com/microsoft/OpenEduAnalytics/main/modules/module_catalog/Microsoft_Education_Insights/test_data/k12_test_data/roster/2022-01-28T06-16-22/SectionSession/sectionsession.csv').text\n",
        "oea.land(data, 'M365/v1.14/SectionSession', 'sectionsession_k12_test_data.csv', oea.SNAPSHOT_BATCH_DATA)\n",
        "data = requests.get('https://raw.githubusercontent.com/microsoft/OpenEduAnalytics/main/modules/module_catalog/Microsoft_Education_Insights/test_data/k12_test_data/roster/2022-01-28T06-16-22/SectionSubject/sectionsubject.csv').text\n",
        "oea.land(data, 'M365/v1.14/SectionSubject', 'sectionsubject_k12_test_data.csv', oea.SNAPSHOT_BATCH_DATA)\n",
        "data = requests.get('https://raw.githubusercontent.com/microsoft/OpenEduAnalytics/main/modules/module_catalog/Microsoft_Education_Insights/test_data/k12_test_data/roster/2022-01-28T06-16-22/Session/session.csv').text\n",
        "oea.land(data, 'M365/v1.14/Session', 'session_k12_test_data.csv', oea.SNAPSHOT_BATCH_DATA)\n",
        "data = requests.get('https://raw.githubusercontent.com/microsoft/OpenEduAnalytics/main/modules/module_catalog/Microsoft_Education_Insights/test_data/k12_test_data/roster/2022-01-28T06-16-22/SourceSystem/sourcesystem.csv').text\n",
        "oea.land(data, 'M365/v1.14/SourceSystem', 'sourcesystem_k12_test_data.csv', oea.SNAPSHOT_BATCH_DATA)"
      ]
    },
    {
      "cell_type": "code",
      "execution_count": 3,
      "metadata": {
        "jupyter": {
          "outputs_hidden": false,
          "source_hidden": false
        },
        "nteract": {
          "transient": {
            "deleting": false
          }
        }
      },
      "outputs": [],
      "source": [
        "# 2.2) Land batch data files into stage1 of the data lake.\n",
        "# In this example we pull Insights Higher Ed. test csv data files from github and land it in oea/sandboxes/sam/stage1/Transactional/M365/v1.14\n",
        "# NOTE: You can choose to ingest Insights K-12 test data instead, by running the code block above rather than this one.\n",
        "data = requests.get('https://raw.githubusercontent.com/microsoft/OpenEduAnalytics/main/modules/module_catalog/Microsoft_Education_Insights/test_data/hed_test_data/activity/2022-01-28/ApplicationUsage.csv').text\n",
        "oea.land(data, 'M365/v1.14/activity', 'activity_hed_test_data.csv', oea.ADDITIVE_BATCH_DATA)\n",
        "\n",
        "data = requests.get('https://raw.githubusercontent.com/microsoft/OpenEduAnalytics/main/modules/module_catalog/Microsoft_Education_Insights/test_data/hed_test_data/roster/2022-01-28T06-16-22/AadGroup/aadgroup.csv').text\n",
        "oea.land(data, 'M365/v1.14/AadGroup', 'aadgroup_hed_test_data.csv', oea.SNAPSHOT_BATCH_DATA)\n",
        "data = requests.get('https://raw.githubusercontent.com/microsoft/OpenEduAnalytics/main/modules/module_catalog/Microsoft_Education_Insights/test_data/hed_test_data/roster/2022-01-28T06-16-22/AadGroupMembership/aadgroupmembership.csv').text\n",
        "oea.land(data, 'M365/v1.14/AadGroupMembership', 'aadgroupmembership_hed_test_data.csv', oea.SNAPSHOT_BATCH_DATA)\n",
        "data = requests.get('https://raw.githubusercontent.com/microsoft/OpenEduAnalytics/main/modules/module_catalog/Microsoft_Education_Insights/test_data/hed_test_data/roster/2022-01-28T06-16-22/AadUser/aaduser.csv').text\n",
        "oea.land(data, 'M365/v1.14/AadUser', 'aaduser_hed_test_data.csv', oea.SNAPSHOT_BATCH_DATA)\n",
        "data = requests.get('https://raw.githubusercontent.com/microsoft/OpenEduAnalytics/main/modules/module_catalog/Microsoft_Education_Insights/test_data/hed_test_data/roster/2022-01-28T06-16-22/AadUserPersonMapping/aaduserpersonmapping.csv').text\n",
        "oea.land(data, 'M365/v1.14/AadUserPersonMapping', 'aaduserpersonmapping_hed_test_data.csv', oea.SNAPSHOT_BATCH_DATA)\n",
        "data = requests.get('https://raw.githubusercontent.com/microsoft/OpenEduAnalytics/main/modules/module_catalog/Microsoft_Education_Insights/test_data/hed_test_data/roster/2022-01-28T06-16-22/Course/course.csv').text\n",
        "oea.land(data, 'M365/v1.14/Course', 'course_hed_test_data.csv', oea.SNAPSHOT_BATCH_DATA)\n",
        "data = requests.get('https://raw.githubusercontent.com/microsoft/OpenEduAnalytics/main/modules/module_catalog/Microsoft_Education_Insights/test_data/hed_test_data/roster/2022-01-28T06-16-22/CourseGradeLevel/coursegradelevel.csv').text\n",
        "oea.land(data, 'M365/v1.14/CourseGradeLevel', 'coursegradelevel_hed_test_data.csv', oea.SNAPSHOT_BATCH_DATA)\n",
        "data = requests.get('https://raw.githubusercontent.com/microsoft/OpenEduAnalytics/main/modules/module_catalog/Microsoft_Education_Insights/test_data/hed_test_data/roster/2022-01-28T06-16-22/CourseSubject/coursesubject.csv').text\n",
        "oea.land(data, 'M365/v1.14/CourseSubject', 'coursesubject_hed_test_data.csv', oea.SNAPSHOT_BATCH_DATA)\n",
        "data = requests.get('https://raw.githubusercontent.com/microsoft/OpenEduAnalytics/main/modules/module_catalog/Microsoft_Education_Insights/test_data/hed_test_data/roster/2022-01-28T06-16-22/Enrollment/enrollment.csv').text\n",
        "oea.land(data, 'M365/v1.14/Enrollment', 'enrollment_hed_test_data.csv', oea.SNAPSHOT_BATCH_DATA)\n",
        "data = requests.get('https://raw.githubusercontent.com/microsoft/OpenEduAnalytics/main/modules/module_catalog/Microsoft_Education_Insights/test_data/hed_test_data/roster/2022-01-28T06-16-22/Organization/organization.csv').text\n",
        "oea.land(data, 'M365/v1.14/Organization', 'organization_hed_test_data.csv', oea.SNAPSHOT_BATCH_DATA)\n",
        "data = requests.get('https://raw.githubusercontent.com/microsoft/OpenEduAnalytics/main/modules/module_catalog/Microsoft_Education_Insights/test_data/hed_test_data/roster/2022-01-28T06-16-22/Person/person.csv').text\n",
        "oea.land(data, 'M365/v1.14/Person', 'person_hed_test_data.csv', oea.SNAPSHOT_BATCH_DATA)\n",
        "data = requests.get('https://raw.githubusercontent.com/microsoft/OpenEduAnalytics/main/modules/module_catalog/Microsoft_Education_Insights/test_data/hed_test_data/roster/2022-01-28T06-16-22/PersonDemographic/persondemographic.csv').text\n",
        "oea.land(data, 'M365/v1.14/PersonDemographic', 'persondemographic_hed_test_data.csv', oea.SNAPSHOT_BATCH_DATA)\n",
        "data = requests.get('https://raw.githubusercontent.com/microsoft/OpenEduAnalytics/main/modules/module_catalog/Microsoft_Education_Insights/test_data/hed_test_data/roster/2022-01-28T06-16-22/PersonDemographicEthnicity/persondemographicethnicity.csv').text\n",
        "oea.land(data, 'M365/v1.14/PersonDemographicEthnicity', 'persondemographicethnicity_hed_test_data.csv', oea.SNAPSHOT_BATCH_DATA)\n",
        "data = requests.get('https://raw.githubusercontent.com/microsoft/OpenEduAnalytics/main/modules/module_catalog/Microsoft_Education_Insights/test_data/hed_test_data/roster/2022-01-28T06-16-22/PersonDemographicPersonFlag/persondemographicpersonflag.csv').text\n",
        "oea.land(data, 'M365/v1.14/PersonDemographicPersonFlag', 'persondemographicpersonflag_hed_test_data.csv', oea.SNAPSHOT_BATCH_DATA)\n",
        "data = requests.get('https://raw.githubusercontent.com/microsoft/OpenEduAnalytics/main/modules/module_catalog/Microsoft_Education_Insights/test_data/hed_test_data/roster/2022-01-28T06-16-22/PersonDemographicRace/persondemographicrace.csv').text\n",
        "oea.land(data, 'M365/v1.14/PersonDemographicRace', 'persondemographicrace_hed_test_data.csv', oea.SNAPSHOT_BATCH_DATA)\n",
        "data = requests.get('https://raw.githubusercontent.com/microsoft/OpenEduAnalytics/main/modules/module_catalog/Microsoft_Education_Insights/test_data/hed_test_data/roster/2022-01-28T06-16-22/PersonEmailAddress/personemailaddress.csv').text\n",
        "oea.land(data, 'M365/v1.14/PersonEmailAddress', 'personemailaddress_hed_test_data.csv', oea.SNAPSHOT_BATCH_DATA)\n",
        "data = requests.get('https://raw.githubusercontent.com/microsoft/OpenEduAnalytics/main/modules/module_catalog/Microsoft_Education_Insights/test_data/hed_test_data/roster/2022-01-28T06-16-22/PersonIdentifier/personidentifier.csv').text\n",
        "oea.land(data, 'M365/v1.14/PersonIdentifier', 'personidentifier_hed_test_data.csv', oea.SNAPSHOT_BATCH_DATA)\n",
        "data = requests.get('https://raw.githubusercontent.com/microsoft/OpenEduAnalytics/main/modules/module_catalog/Microsoft_Education_Insights/test_data/hed_test_data/roster/2022-01-28T06-16-22/PersonOrganizationRole/personorganizationrole.csv').text\n",
        "oea.land(data, 'M365/v1.14/PersonOrganizationRole', 'personorganizationrole_hed_test_data.csv', oea.SNAPSHOT_BATCH_DATA)\n",
        "data = requests.get('https://raw.githubusercontent.com/microsoft/OpenEduAnalytics/main/modules/module_catalog/Microsoft_Education_Insights/test_data/hed_test_data/roster/2022-01-28T06-16-22/PersonPhoneNumber/personphonenumber.csv').text\n",
        "oea.land(data, 'M365/v1.14/PersonPhoneNumber', 'personphonenumber_hed_test_data.csv', oea.SNAPSHOT_BATCH_DATA)\n",
        "data = requests.get('https://raw.githubusercontent.com/microsoft/OpenEduAnalytics/main/modules/module_catalog/Microsoft_Education_Insights/test_data/hed_test_data/roster/2022-01-28T06-16-22/PersonRelationship/personrelationship.csv').text\n",
        "oea.land(data, 'M365/v1.14/PersonRelationship', 'personrelationship_hed_test_data.csv', oea.SNAPSHOT_BATCH_DATA)\n",
        "data = requests.get('https://raw.githubusercontent.com/microsoft/OpenEduAnalytics/main/modules/module_catalog/Microsoft_Education_Insights/test_data/hed_test_data/roster/2022-01-28T06-16-22/RefDefinition/refdefinition.csv').text\n",
        "oea.land(data, 'M365/v1.14/RefDefinition', 'refdefinition_hed_test_data.csv', oea.SNAPSHOT_BATCH_DATA)\n",
        "data = requests.get('https://raw.githubusercontent.com/microsoft/OpenEduAnalytics/main/modules/module_catalog/Microsoft_Education_Insights/test_data/hed_test_data/roster/2022-01-28T06-16-22/RefTranslation/reftranslation.csv').text\n",
        "oea.land(data, 'M365/v1.14/RefTranslation', 'reftranslation_hed_test_data.csv', oea.SNAPSHOT_BATCH_DATA)\n",
        "data = requests.get('https://raw.githubusercontent.com/microsoft/OpenEduAnalytics/main/modules/module_catalog/Microsoft_Education_Insights/test_data/hed_test_data/roster/2022-01-28T06-16-22/Section/section.csv').text\n",
        "oea.land(data, 'M365/v1.14/Section', 'section_hed_test_data.csv', oea.SNAPSHOT_BATCH_DATA)\n",
        "data = requests.get('https://raw.githubusercontent.com/microsoft/OpenEduAnalytics/main/modules/module_catalog/Microsoft_Education_Insights/test_data/hed_test_data/roster/2022-01-28T06-16-22/SectionGradeLevel/sectiongradelevel.csv').text\n",
        "oea.land(data, 'M365/v1.14/SectionGradeLevel', 'sectiongradelevel_hed_test_data.csv', oea.SNAPSHOT_BATCH_DATA)\n",
        "data = requests.get('https://raw.githubusercontent.com/microsoft/OpenEduAnalytics/main/modules/module_catalog/Microsoft_Education_Insights/test_data/hed_test_data/roster/2022-01-28T06-16-22/SectionSession/sectionsession.csv').text\n",
        "oea.land(data, 'M365/v1.14/SectionSession', 'sectionsession_hed_test_data.csv', oea.SNAPSHOT_BATCH_DATA)\n",
        "data = requests.get('https://raw.githubusercontent.com/microsoft/OpenEduAnalytics/main/modules/module_catalog/Microsoft_Education_Insights/test_data/hed_test_data/roster/2022-01-28T06-16-22/SectionSubject/sectionsubject.csv').text\n",
        "oea.land(data, 'M365/v1.14/SectionSubject', 'sectionsubject_hed_test_data.csv', oea.SNAPSHOT_BATCH_DATA)\n",
        "data = requests.get('https://raw.githubusercontent.com/microsoft/OpenEduAnalytics/main/modules/module_catalog/Microsoft_Education_Insights/test_data/hed_test_data/roster/2022-01-28T06-16-22/Session/session.csv').text\n",
        "oea.land(data, 'M365/v1.14/Session', 'session_hed_test_data.csv', oea.SNAPSHOT_BATCH_DATA)\n",
        "data = requests.get('https://raw.githubusercontent.com/microsoft/OpenEduAnalytics/main/modules/module_catalog/Microsoft_Education_Insights/test_data/hed_test_data/roster/2022-01-28T06-16-22/SourceSystem/sourcesystem.csv').text\n",
        "oea.land(data, 'M365/v1.14/SourceSystem', 'sourcesystem_hed_test_data.csv', oea.SNAPSHOT_BATCH_DATA)"
      ]
    },
    {
      "cell_type": "markdown",
      "metadata": {
        "nteract": {
          "transient": {
            "deleting": false
          }
        }
      },
      "source": [
        "## 3.) Ingest the Insights Module Test Data\n",
        "\n",
        "This step ingests the Insights module test data from stage1 to stage2/Ingested (ingests either the K-12 or Higher Ed. test data - whichever dataset is in your lake, chosen from the last step).\n",
        "\n",
        "Both test datasets are formatted exactly as the Insights data - thus, there will be no column names or correct dtypes, initially. Ingest the data using the ```oea.ingest()``` function as normal, and next step will correct the table schemas.\n",
        "\n",
        "**To-Do's:**\n",
        " - Check this method of adding a primary key column (MembershipId) to the AadGroupMembership table is sufficient."
      ]
    },
    {
      "cell_type": "code",
      "execution_count": 4,
      "metadata": {
        "jupyter": {
          "outputs_hidden": false,
          "source_hidden": false
        },
        "nteract": {
          "transient": {
            "deleting": false
          }
        }
      },
      "outputs": [],
      "source": [
        "# 3) The next step is to ingest the batch data into stage2\n",
        "# Note that when you run this the first time, you'll see an info message like \"Number of new inbound rows processed: 2\".\n",
        "# If you run this a second time, the number of inbound rows processed will be 0 because the ingestion uses spark structured streaming to keep track of what data has already been processed.\n",
        "options = {'header':False}\n",
        "oea.ingest(f'M365/v1.14/activity', '_c3', options)\n",
        "oea.ingest(f'M365/v1.14/AadGroup', '_c0', options)\n",
        "#oea.ingest(f'M365/v1.14/AadGroupMembership', options) # <- no solution (at the moment) for ingesting this table, since there isn't a unique-primary key\n",
        "oea.ingest(f'M365/v1.14/AadUser', '_c0', options)\n",
        "oea.ingest(f'M365/v1.14/AadUserPersonMapping', '_c0', options)\n",
        "oea.ingest(f'M365/v1.14/Course', '_c0', options)\n",
        "oea.ingest(f'M365/v1.14/CourseGradeLevel', '_c0', options)\n",
        "oea.ingest(f'M365/v1.14/CourseSubject', '_c0', options)\n",
        "oea.ingest(f'M365/v1.14/Enrollment', '_c0', options)\n",
        "oea.ingest(f'M365/v1.14/Organization', '_c0', options)\n",
        "oea.ingest(f'M365/v1.14/Person', '_c0', options)\n",
        "oea.ingest(f'M365/v1.14/PersonDemographic', '_c0', options)\n",
        "oea.ingest(f'M365/v1.14/PersonDemographicEthnicity', '_c0', options)\n",
        "oea.ingest(f'M365/v1.14/PersonDemographicPersonFlag', '_c0', options)\n",
        "oea.ingest(f'M365/v1.14/PersonDemographicRace', '_c0', options)\n",
        "oea.ingest(f'M365/v1.14/PersonEmailAddress', '_c0', options)\n",
        "oea.ingest(f'M365/v1.14/PersonIdentifier', '_c0', options)\n",
        "oea.ingest(f'M365/v1.14/PersonOrganizationRole', '_c0', options)\n",
        "oea.ingest(f'M365/v1.14/PersonPhoneNumber', '_c0', options)\n",
        "#oea.ingest(f'M365/v1.14/PersonRelationship', '_c0', options) # <- no test data currently\n",
        "oea.ingest(f'M365/v1.14/RefDefinition', '_c0', options)\n",
        "#oea.ingest(f'M365/v1.14/RefTranslation', '_c0', options) # <- no test data currently\n",
        "oea.ingest(f'M365/v1.14/Section', '_c0', options)\n",
        "oea.ingest(f'M365/v1.14/SectionGradeLevel', '_c0', options)\n",
        "oea.ingest(f'M365/v1.14/SectionSession', '_c0', options)\n",
        "oea.ingest(f'M365/v1.14/SectionSubject', '_c0', options)\n",
        "oea.ingest(f'M365/v1.14/Session', '_c0', options)\n",
        "oea.ingest(f'M365/v1.14/SourceSystem', '_c0', options)"
      ]
    },
    {
      "cell_type": "code",
      "execution_count": null,
      "metadata": {
        "jupyter": {
          "outputs_hidden": false,
          "source_hidden": false
        },
        "nteract": {
          "transient": {
            "deleting": false
          }
        }
      },
      "outputs": [],
      "source": [
        "# 3.1) read in the original AadGroupMembership table, add the primary key column and confirm it has been added.\n",
        "df = spark.read.format('csv').load(oea.to_url('stage1/Transactional/M365/v1.14/AadGroupMembership'), header='false')\n",
        "df_corrected = df.withColumn('_c5', F.concat(F.col('_c0'),F.lit('_'),F.col('_c1')))\n",
        "df_corrected = df_corrected.select('_c0', '_c1', '_c2', '_c3', '_c4', '_c5')\n",
        "display(df_corrected.limit(10))"
      ]
    },
    {
      "cell_type": "code",
      "execution_count": null,
      "metadata": {
        "jupyter": {
          "outputs_hidden": false,
          "source_hidden": false
        },
        "nteract": {
          "transient": {
            "deleting": false
          }
        }
      },
      "outputs": [],
      "source": [
        "# 3.2) set the current date and time (using the correct format), and write out to the same relative location, with a new rundate partition-folder.\n",
        "import datetime\n",
        "currentDate = datetime.datetime.now()\n",
        "currentDateTime = currentDate.strftime(\"%Y-%m-%d %H:%M:%S\")\n",
        "table_path = 'stage1/Transactional/M365/v1.14/AadGroupMembership/snapshot_batch_data/rundate=' + currentDateTime\n",
        "df_corrected.write.save(oea.to_url(table_path), format='csv', mode='overwrite', overwriteSchema='true', header='false')"
      ]
    },
    {
      "cell_type": "code",
      "execution_count": null,
      "metadata": {
        "jupyter": {
          "outputs_hidden": false,
          "source_hidden": false
        },
        "nteract": {
          "transient": {
            "deleting": false
          }
        }
      },
      "outputs": [],
      "source": [
        "# 3.3) only house the latest rundate folder compared to the old data (which didn't have the primary key column).\n",
        "def clean_data_lake_latest(source_path):\n",
        "    latest_folder = oea.get_latest_folder(source_path)\n",
        "    items = mssparkutils.fs.ls(oea.to_url(source_path))\n",
        "    for item in items:\n",
        "        if item.name != latest_folder:\n",
        "            logger.info('file removal path: ' + item.path + ' with item: ' + item.name)\n",
        "            oea.rm_if_exists(source_path + '/' + item.name)\n",
        "            logger.info('Successfully removed folder: ' + item.name + ' from path: ' + item.path)\n",
        "        else:\n",
        "            logger.info('Kept folder: ' + item.name + ' from path: ' + item.path)\n",
        "    logger.info('Finished cleaning data lake to house only the latest folder')"
      ]
    },
    {
      "cell_type": "code",
      "execution_count": null,
      "metadata": {
        "jupyter": {
          "outputs_hidden": false,
          "source_hidden": false
        },
        "nteract": {
          "transient": {
            "deleting": false
          }
        }
      },
      "outputs": [],
      "source": [
        "clean_data_lake_latest('stage1/Transactional/M365/v1.14/AadGroupMembership/snapshot_batch_data')"
      ]
    },
    {
      "cell_type": "code",
      "execution_count": null,
      "metadata": {
        "jupyter": {
          "outputs_hidden": false,
          "source_hidden": false
        },
        "nteract": {
          "transient": {
            "deleting": false
          }
        }
      },
      "outputs": [],
      "source": [
        "# 3.4) ad hoc work - remove the _SUCCESS file, otherwise this will throw an error when ingesting the table.\n",
        "table_path = 'stage1/Transactional/M365/v1.14/AadGroupMembership/snapshot_batch_data/rundate=' + currentDateTime\n",
        "oea.rm_if_exists(table_path + '/_SUCCESS', False)"
      ]
    },
    {
      "cell_type": "code",
      "execution_count": 5,
      "metadata": {
        "collapsed": false,
        "jupyter": {
          "outputs_hidden": false,
          "source_hidden": false
        },
        "nteract": {
          "transient": {
            "deleting": false
          }
        }
      },
      "outputs": [],
      "source": [
        "# 3.5) Now you can run queries against the auto-generated \"lake database\" with the ingested Insights data.\n",
        "df = spark.sql(\"select * from ldb_sam_s2i_m365_v1p14.activity\")\n",
        "display(df.limit(10))"
      ]
    },
    {
      "cell_type": "markdown",
      "metadata": {
        "nteract": {
          "transient": {
            "deleting": false
          }
        }
      },
      "source": [
        "## 4.) Insights Schema Corrections\n",
        "\n",
        "This step uses the same four functions from the \"Insights_schema_correction\" notebook, where the metadata.csv is used to correct each table's schema. Each table's schema is updated with the corrected column names and dtypes.\n",
        "\n",
        "After the schema is corrected, each table is overwritten in stage2/Ingested."
      ]
    },
    {
      "cell_type": "code",
      "execution_count": 6,
      "metadata": {
        "jupyter": {
          "outputs_hidden": false,
          "source_hidden": false
        },
        "nteract": {
          "transient": {
            "deleting": false
          }
        }
      },
      "outputs": [],
      "source": [
        "# 4) schema correction, since Insights test data initially landed doesn't have column headers or correct dtypes.\n",
        "\n",
        "def _extract_element(lst, element_num=0):\n",
        "    return [item[element_num] for item in lst]\n",
        "\n",
        "def _dtype_config(dtype_lst):\n",
        "    return [item.capitalize() + 'Type()' for item in dtype_lst]\n",
        "\n",
        "def correct_insights_table_schema(df, table_name):\n",
        "    list_of_column_names = _extract_element(metadata[table_name])\n",
        "    list_of_column_dtypes = _extract_element(metadata[table_name], 1)\n",
        "    list_of_column_dtypes = _dtype_config(list_of_column_dtypes)\n",
        "\n",
        "    n = 0\n",
        "    df_updatedColumns = df\n",
        "    for c in df.columns:\n",
        "        if c != 'rundate':\n",
        "            new_col_name = list_of_column_names[n]\n",
        "            df_updatedColumns = df_updatedColumns.withColumnRenamed(c, new_col_name)\n",
        "            if list_of_column_dtypes[n] != 'StringType()':\n",
        "                if list_of_column_dtypes[n] == 'IntegerType()':\n",
        "                    df_updatedColumns = df_updatedColumns.withColumn(new_col_name, df_updatedColumns[new_col_name].cast(IntegerType()))\n",
        "                elif list_of_column_dtypes[n] == 'TimestampType()':\n",
        "                    df_updatedColumns = df_updatedColumns.withColumn(new_col_name, df_updatedColumns[new_col_name].cast(TimestampType()))\n",
        "                elif list_of_column_dtypes == 'ShortType()':\n",
        "                    df_updatedColumns = df_updatedColumns.withColumn(new_col_name, df_updatedColumns[new_col_name].cast(ShortType()))\n",
        "                elif list_of_column_dtypes[n] == 'LongType()':\n",
        "                    df_updatedColumns = df_updatedColumns.withColumn(new_col_name, df_updatedColumns[new_col_name].cast(LongType()))\n",
        "                elif list_of_column_dtypes[n] == 'DoubleType()':\n",
        "                    df_updatedColumns = df_updatedColumns.withColumn(new_col_name, df_updatedColumns[new_col_name].cast(DoubleType()))\n",
        "                elif list_of_column_dtypes[n] == 'DateType()':\n",
        "                    df_updatedColumns = df_updatedColumns.withColumn(new_col_name, df_updatedColumns[new_col_name].cast(DateType()))\n",
        "                elif list_of_column_dtypes[n] == 'BooleanType()':\n",
        "                    df_updatedColumns = df_updatedColumns.withColumn(new_col_name, df_updatedColumns[new_col_name].cast(BooleanType()))\n",
        "        else:\n",
        "            df_updatedColumns = df_updatedColumns\n",
        "        n = n + 1\n",
        "    return df_updatedColumns\n",
        "\n",
        "def correct_insights_dataset(tables_source, write_destination):\n",
        "    items = oea.get_folders(tables_source)\n",
        "    for item in items: \n",
        "        if item == 'metadata.csv':\n",
        "            logger.info('ignore metadata processing, since this is not a table to be ingested')\n",
        "        else:\n",
        "            table_path = tables_source +'/'+ item\n",
        "            spark.sql(\"set spark.sql.streaming.schemaInference=true\")\n",
        "            streaming_df = spark.readStream.format('delta').load(oea.to_url(table_path))\n",
        "            df_corrected = correct_insights_table_schema(streaming_df, table_name=item)\n",
        "            query = df_corrected.writeStream.format('delta').outputMode('append').trigger(once=True).option('checkpointLocation', oea.to_url(table_path) + '/_checkpoints')\n",
        "            query = query.start(oea.to_url(write_destination + '/' +item))\n",
        "            query.awaitTermination() \n",
        "            logger.info('Successfully corrected the schema for table: ' + item + ' from: ' + table_path)"
      ]
    },
    {
      "cell_type": "code",
      "execution_count": 7,
      "metadata": {
        "jupyter": {
          "outputs_hidden": false,
          "source_hidden": false
        },
        "nteract": {
          "transient": {
            "deleting": false
          }
        }
      },
      "outputs": [],
      "source": [
        "metadata = oea.get_metadata_from_url('https://raw.githubusercontent.com/microsoft/OpenEduAnalytics/main/modules/module_catalog/Microsoft_Education_Insights/test_data/metadata.csv')\n",
        "correct_insights_dataset('stage2/Ingested/M365/v1.14', 'stage2/Ingested_Corrected/M365/v1.14')"
      ]
    },
    {
      "cell_type": "code",
      "execution_count": 8,
      "metadata": {
        "collapsed": false,
        "jupyter": {
          "outputs_hidden": false,
          "source_hidden": false
        },
        "nteract": {
          "transient": {
            "deleting": false
          }
        }
      },
      "outputs": [],
      "source": [
        "df = spark.read.format('delta').load(oea.to_url('stage2/Ingested/M365/v1.14/activity'), header='true')\n",
        "display(df.limit(10))"
      ]
    },
    {
      "cell_type": "code",
      "execution_count": 9,
      "metadata": {
        "jupyter": {
          "outputs_hidden": false,
          "source_hidden": false
        },
        "nteract": {
          "transient": {
            "deleting": false
          }
        }
      },
      "outputs": [],
      "source": [
        "df.printSchema()"
      ]
    },
    {
      "cell_type": "markdown",
      "metadata": {
        "nteract": {
          "transient": {
            "deleting": false
          }
        }
      },
      "source": [
        "## 5.) Refine the Insights Module Test Data\n",
        "This step then refines the Insights test data from stage2/Ingested to stage2/Refined, using the metadata.csv. This step is responsible for pseudonymization, which preserves sensitive student information by either hashing or masking the sensitive columns. \n",
        "\n",
        "Tables are separated into either ```stage2/Refined/M365/v1.14/general``` or ```stage2/Refined/M365/v1.14/sensitive```, depending on whether each table is pseudonymized or has a sensitive column-hashing/masking mapping, respectively.\n",
        "\n",
        "There are some minor bugs with this step, as some of the lookup tables are not created, as needed. This will be updated.\n",
        "\n",
        "**To-Do's:**\n",
        " - Find workaround for creating lookup tables, when the primary key is un-hashed after pseudonymization \n",
        "    * (i.e. *affected tables*: PersonDemographicEthnicity, PersonDemographicPersonFlag, PersonDemographicRace, PersonEmailAddress, PersonIdentifier, PersonOrganizationRole, and PersonPhoneNumber). \n",
        " - Resolve ingesting and refining AadGroupMembership table."
      ]
    },
    {
      "cell_type": "code",
      "execution_count": 13,
      "metadata": {
        "jupyter": {
          "outputs_hidden": false,
          "source_hidden": false
        },
        "nteract": {
          "transient": {
            "deleting": false
          }
        }
      },
      "outputs": [],
      "source": [
        "# 2) this step refines the data through the use of metadata (this is where the pseudonymization of the data occurs).\n",
        "def refine_corrected(entity_path, metadata=None, primary_key='id'):\n",
        "    source_path = f'stage2/Ingested_Corrected/{entity_path}'\n",
        "    primary_key = oea.fix_column_name(primary_key) # fix the column name, in case it has a space in it or some other invalid character\n",
        "    path_dict = oea.parse_path(source_path)\n",
        "    sink_general_path = path_dict['entity_parent_path'].replace('Ingested_Corrected', 'Refined') + '/general/' + path_dict['entity']\n",
        "    sink_sensitive_path = path_dict['entity_parent_path'].replace('Ingested_Corrected', 'Refined') + '/sensitive/' + path_dict['entity'] + '_lookup'\n",
        "    if not metadata:\n",
        "        all_metadata = oea.get_metadata_from_path(path_dict['entity_parent_path'])\n",
        "        metadata = all_metadata[path_dict['entity']]\n",
        "\n",
        "    df_changes = oea.get_latest_changes(source_path, sink_general_path)\n",
        "    spark_schema = oea.to_spark_schema(metadata)\n",
        "    df_changes = oea.modify_schema(df_changes, spark_schema)        \n",
        "\n",
        "    if df_changes.count() > 0:\n",
        "        df_pseudo, df_lookup = oea.pseudonymize(df_changes, metadata)\n",
        "        oea.upsert(df_pseudo, sink_general_path, primary_key) # todo: remove this assumption that the primary key will always be hashed during pseduonymization\n",
        "        oea.upsert(df_lookup, sink_sensitive_path, primary_key)    \n",
        "        oea.add_to_lake_db(sink_general_path)\n",
        "        oea.add_to_lake_db(sink_sensitive_path)\n",
        "        logger.info(f'Processed {df_changes.count()} updated rows from {source_path} into stage2/Refined')\n",
        "    else:\n",
        "        logger.info(f'No updated rows in {source_path} to process.')\n",
        "    return df_changes.count()\n",
        "\n",
        "def refine_insights_dataset(tables_source):\n",
        "    items = oea.get_folders(tables_source)\n",
        "    for item in items: \n",
        "        table_path = tables_source +'/'+ item\n",
        "        if item == 'metadata.csv':\n",
        "            logger.info('ignore metadata processing, since this is not a table to be ingested')\n",
        "        else:\n",
        "            try:\n",
        "                if item == 'activity':\n",
        "                    refine_corrected('M365/v1.14/activity', metadata[item], 'SignalId')\n",
        "                elif item == 'AadGroup':\n",
        "                    refine_corrected('M365/v1.14/AadGroup', metadata[item], 'ObjectId_pseudonym')\n",
        "                elif item == 'AadGroupMembership':\n",
        "                    refine_corrected('M365/v1.14/AadGroup', metadata[item], 'MembershipId')\n",
        "                elif item == 'AadUser':\n",
        "                    refine_corrected('M365/v1.14/AadUser', metadata[item], 'ObjectId_pseudonym')\n",
        "                elif item == 'AadUserPersonMapping':\n",
        "                    refine_corrected('M365/v1.14/AadUserPersonMapping', metadata[item], 'ObjectId_pseudonym')\n",
        "                elif item == 'Person':\n",
        "                    refine_corrected('M365/v1.14/Person', metadata[item], 'Id_pseudonym')\n",
        "                elif item == 'PersonDemographic':\n",
        "                    refine_corrected('M365/v1.14/PersonDemographic', metadata[item], 'PersonId_pseudonym')\n",
        "                else:\n",
        "                    refine_corrected('M365/v1.14/' + item, metadata[item], 'Id')\n",
        "            except AnalysisException as e:\n",
        "                # This means the table may have not been properly refined due to errors with the primary key not aligning with columns expected in the lookup table.\n",
        "                pass\n",
        "            \n",
        "            logger.info('Refined table: ' + item + ' from: ' + table_path)"
      ]
    },
    {
      "cell_type": "code",
      "execution_count": 14,
      "metadata": {
        "jupyter": {
          "outputs_hidden": false,
          "source_hidden": false
        },
        "nteract": {
          "transient": {
            "deleting": false
          }
        }
      },
      "outputs": [],
      "source": [
        "metadata = oea.get_metadata_from_url('https://raw.githubusercontent.com/microsoft/OpenEduAnalytics/main/modules/module_catalog/Microsoft_Education_Insights/test_data/metadata.csv')\n",
        "refine_insights_dataset('stage2/Ingested/M365/v1.14')"
      ]
    },
    {
      "cell_type": "code",
      "execution_count": 11,
      "metadata": {
        "collapsed": false,
        "jupyter": {
          "outputs_hidden": false,
          "source_hidden": false
        },
        "nteract": {
          "transient": {
            "deleting": false
          }
        }
      },
      "outputs": [],
      "source": [
        "# This block represents what the blocks above (in this step) accomplish\n",
        "#metadata = oea.get_metadata_from_url('https://raw.githubusercontent.com/microsoft/OpenEduAnalytics/main/modules/module_catalog/Microsoft_Education_Insights/test_data/metadata.csv')\n",
        "\n",
        "#oea.refine('M365/v1.14/activity', metadata['activity'], 'SignalId')\n",
        "#oea.refine('M365/v1.14/AadGroup', metadata['AadGroup'], 'ObjectId_pseudonym')\n",
        "#oea.refine('M365/v1.14/AadGroupMembership', metadata['AadGroupMembership']) # <- no solution (at the moment) for refining this table, since there isn't a unique-primary key\n",
        "#oea.refine('M365/v1.14/AadUser', metadata['AadUser'], 'ObjectId_pseudonym')\n",
        "#oea.refine('M365/v1.14/AadUserPersonMapping', metadata['AadUserPersonMapping'], 'ObjectId_pseudonym')\n",
        "#oea.refine('M365/v1.14/Course', metadata['Course'], 'Id')\n",
        "#oea.refine('M365/v1.14/CourseGradeLevel', metadata['CourseGradeLevel'], 'Id')\n",
        "#oea.refine('M365/v1.14/CourseSubject', metadata['CourseSubject'], 'Id')\n",
        "#oea.refine('M365/v1.14/Enrollment', metadata['Enrollment'], 'Id')\n",
        "#oea.refine('M365/v1.14/Organization', metadata['Organization'], 'Id')\n",
        "#oea.refine('M365/v1.14/Person', metadata['Person'], 'Id_pseudonym')\n",
        "#oea.refine('M365/v1.14/PersonDemographic', metadata['PersonDemographic'], 'PersonId_pseudonym')\n",
        "#oea.refine('M365/v1.14/PersonDemographicEthnicity', metadata['PersonDemographicEthnicity'], 'Id')\n",
        "#oea.refine('M365/v1.14/PersonDemographicPersonFlag', metadata['PersonDemographicPersonFlag'], 'Id')\n",
        "#oea.refine('M365/v1.14/PersonDemographicRace', metadata['PersonDemographicRace'], 'Id')\n",
        "#oea.refine('M365/v1.14/PersonEmailAddress', metadata['PersonEmailAddress'], 'Id')\n",
        "#oea.refine('M365/v1.14/PersonIdentifier', metadata['PersonIdentifier'], 'Id')\n",
        "#oea.refine('M365/v1.14/PersonOrganizationRole', metadata['PersonOrganizationRole'], 'Id')\n",
        "#oea.refine('M365/v1.14/PersonPhoneNumber', metadata['PersonPhoneNumber'], 'Id')\n",
        "#oea.refine('M365/v1.14/PersonRelationship', metadata['PersonRelationship'], 'Id') # <- no test data currently\n",
        "#oea.refine('M365/v1.14/RefDefinition', metadata['RefDefinition'], 'Id')\n",
        "#oea.refine('M365/v1.14/RefTranslation', metadata['RefTranslation'], 'Id') # <- no test data currently\n",
        "#oea.refine('M365/v1.14/Section', metadata['Section'], 'Id')\n",
        "#oea.refine('M365/v1.14/SectionGradeLevel', metadata['SectionGradeLevel'], 'Id')\n",
        "#oea.refine('M365/v1.14/SectionSession', metadata['SectionSession'], 'Id')\n",
        "#oea.refine('M365/v1.14/SectionSubject', metadata['SectionSubject'], 'Id')\n",
        "#oea.refine('M365/v1.14/Session', metadata['Session'], 'Id')\n",
        "#oea.refine('M365/v1.14/SourceSystem', metadata['SourceSystem'], 'Id')"
      ]
    },
    {
      "cell_type": "markdown",
      "metadata": {
        "nteract": {
          "transient": {
            "deleting": false
          }
        }
      },
      "source": [
        "## 6.) Demonstrate Lake Database Queries/Final Remarks"
      ]
    },
    {
      "cell_type": "code",
      "execution_count": 17,
      "metadata": {
        "jupyter": {
          "outputs_hidden": false,
          "source_hidden": false
        },
        "nteract": {
          "transient": {
            "deleting": false
          }
        }
      },
      "outputs": [],
      "source": [
        "oea.add_to_lake_db('stage2/Refined/M365/v1.14/general/activity')"
      ]
    },
    {
      "cell_type": "code",
      "execution_count": 18,
      "metadata": {
        "collapsed": false,
        "jupyter": {
          "outputs_hidden": false,
          "source_hidden": false
        },
        "nteract": {
          "transient": {
            "deleting": false
          }
        }
      },
      "outputs": [],
      "source": [
        "# 6) Now you can query the refined data tables in the lake db\n",
        "df = spark.sql(\"select * from ldb_sam_s2r_m365_v1p14.activity\")\n",
        "display(df)\n",
        "df.printSchema()\n",
        "df = spark.sql(\"select * from ldb_sam_s2r_m365_v1p14.AadGroup_lookup\")\n",
        "display(df)\n",
        "df.printSchema()\n",
        "# You can use the \"lookup\" table for joins (people with restricted access won't be able to perform this query because they won't have access to data in the \"sensitive\" folder in the data lake)\n",
        "df = spark.sql(\"select a.SignalType, a.StartTime, a.SignalId, a.AppName, a.ActorId_pseudonym, a.ActorRole, agl.DisplayName from ldb_sam_s2r_m365_v1p14.AadGroup_lookup agl, ldb_sam_s2r_m365_v1p14.activity a where agl.ObjectId = a.ClassId\")\n",
        "display(df)"
      ]
    },
    {
      "cell_type": "code",
      "execution_count": 19,
      "metadata": {
        "jupyter": {
          "outputs_hidden": false,
          "source_hidden": false
        },
        "nteract": {
          "transient": {
            "deleting": false
          }
        }
      },
      "outputs": [],
      "source": [
        "# Run this cell to reset this example (deleting all the example Insights data in your workspace)\n",
        "oea.rm_if_exists('stage1/Transactional/M365')\n",
        "oea.rm_if_exists('stage2/Ingested/M365')\n",
        "oea.rm_if_exists('stage2/Refined/M365')\n",
        "oea.drop_lake_db('ldb_sam_s2i_m365_v1p14')\n",
        "oea.drop_lake_db('ldb_sam_s2r_m365_v1p14')"
      ]
    },
    {
      "cell_type": "markdown",
      "metadata": {
        "nteract": {
          "transient": {
            "deleting": false
          }
        }
      },
      "source": [
        "## Appendix"
      ]
    },
    {
      "cell_type": "code",
      "execution_count": null,
      "metadata": {
        "jupyter": {
          "outputs_hidden": false,
          "source_hidden": false
        },
        "nteract": {
          "transient": {
            "deleting": false
          }
        }
      },
      "outputs": [],
      "source": [
        "# generate an initial metadata file for manual modification\n",
        "metadata = oea.create_metadata_from_lake_db('ldb_sam_s2i_m365_v1p14')\n",
        "dlw = DataLakeWriter(oea.to_url('stage1/Transactional/M365'))\n",
        "dlw.write('metadata.csv', metadata)"
      ]
    }
  ],
  "metadata": {
    "description": null,
    "kernelspec": {
      "display_name": "Synapse PySpark",
      "name": "synapse_pyspark"
    },
    "language_info": {
      "name": "python"
    },
    "save_output": true,
    "synapse_widget": {
      "state": {},
      "version": "0.1"
    }
  },
  "nbformat": 4,
  "nbformat_minor": 2
}
