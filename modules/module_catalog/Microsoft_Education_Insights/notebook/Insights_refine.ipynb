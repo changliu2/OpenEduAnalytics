{
  "cells": [
    {
      "cell_type": "markdown",
      "metadata": {
        "nteract": {
          "transient": {
            "deleting": false
          }
        }
      },
      "source": [
        "# Insights Module - Refine\n",
        "\n",
        "This notebook demonstrates the utility of the OEA_py class notebook, and speeding up the process of refining/pseudonymizing the Insights data.\n",
        "\n",
        "The steps outlined below describe how this notebook is used to refine the Microsoft Education Insights module tables:\n",
        "\n",
        "- Set the workspace for where the tables are located. \n",
        "- 1 function is defined and used:\n",
        "   1. **refine_corrected**: almost identical to the ```oea.refine()``` function, except reads from ```stage2/Ingested_Corrected``` rather than ```stage2/Ingested```.\n",
        "   2. **refine_insights_dataset**: uses the Insights metadata.csv to pseudonymize each table according to whether it is to be hashed, masked, or has no-operation."
      ]
    },
    {
      "cell_type": "code",
      "execution_count": null,
      "metadata": {
        "jupyter": {
          "outputs_hidden": false,
          "source_hidden": false
        },
        "nteract": {
          "transient": {
            "deleting": false
          }
        },
        "tags": [
          "parameters"
        ]
      },
      "outputs": [],
      "source": [
        "workspace = 'dev'\n",
        "version = '1.14'"
      ]
    },
    {
      "cell_type": "code",
      "execution_count": null,
      "metadata": {
        "jupyter": {
          "outputs_hidden": false,
          "source_hidden": false
        },
        "nteract": {
          "transient": {
            "deleting": false
          }
        }
      },
      "outputs": [],
      "source": [
        "%run OEA_py"
      ]
    },
    {
      "cell_type": "code",
      "execution_count": null,
      "metadata": {
        "jupyter": {
          "outputs_hidden": false,
          "source_hidden": false
        },
        "nteract": {
          "transient": {
            "deleting": false
          }
        }
      },
      "outputs": [],
      "source": [
        "# 1) set the workspace (this determines where in the data lake you'll be writing to and reading from).\n",
        "# You can work in 'dev', 'prod', or a sandbox with any name you choose.\n",
        "# For example, Sam the developer can create a 'sam' workspace and expect to find his datasets in the data lake under oea/sandboxes/sam\n",
        "oea.set_workspace(workspace)"
      ]
    },
    {
      "cell_type": "code",
      "execution_count": null,
      "metadata": {
        "jupyter": {
          "outputs_hidden": false,
          "source_hidden": false
        },
        "nteract": {
          "transient": {
            "deleting": false
          }
        }
      },
      "outputs": [],
      "source": [
        "# 2) this step refines the data through the use of metadata (this is where the pseudonymization of the data occurs).\n",
        "def refine_corrected(entity_path, metadata=None, primary_key='id'):\n",
        "    source_path = f'stage2/Ingested_Corrected/{entity_path}'\n",
        "    primary_key = oea.fix_column_name(primary_key) # fix the column name, in case it has a space in it or some other invalid character\n",
        "    path_dict = oea.parse_path(source_path)\n",
        "    sink_general_path = path_dict['entity_parent_path'].replace('Ingested_Corrected', 'Refined') + '/general/' + path_dict['entity']\n",
        "    sink_sensitive_path = path_dict['entity_parent_path'].replace('Ingested_Corrected', 'Refined') + '/sensitive/' + path_dict['entity'] + '_lookup'\n",
        "    if not metadata:\n",
        "        all_metadata = oea.get_metadata_from_path(path_dict['entity_parent_path'])\n",
        "        metadata = all_metadata[path_dict['entity']]\n",
        "\n",
        "    df_changes = oea.get_latest_changes(source_path, sink_general_path)\n",
        "    spark_schema = oea.to_spark_schema(metadata)\n",
        "    df_changes = oea.modify_schema(df_changes, spark_schema)\n",
        "\n",
        "    if df_changes.count() > 0:\n",
        "        df_pseudo, df_lookup = oea.pseudonymize(df_changes, metadata)\n",
        "        oea.upsert(df_pseudo, sink_general_path, primary_key) # todo: remove this assumption that the primary key will always be hashed during pseduonymization\n",
        "        oea.add_to_lake_db(sink_general_path)\n",
        "        oea.upsert(df_lookup, sink_sensitive_path, primary_key) \n",
        "        oea.add_to_lake_db(sink_sensitive_path)\n",
        "        logger.info(f'Processed {df_changes.count()} updated rows from {source_path} into stage2/Refined')\n",
        "    else:\n",
        "        logger.info(f'No updated rows in {source_path} to process.')\n",
        "    return df_changes.count()\n",
        "\n",
        "def refine_insights_dataset(tables_source):\n",
        "    items = oea.get_folders(tables_source)\n",
        "    for item in items: \n",
        "        table_path = tables_source +'/'+ item\n",
        "        if item == 'metadata.csv':\n",
        "            logger.info('ignore metadata processing, since this is not a table to be ingested')\n",
        "        else:\n",
        "            try:\n",
        "                if item == 'activity':\n",
        "                    refine_corrected('M365/v' + version + '/activity', metadata[item], 'SignalId')\n",
        "                elif item == 'AadGroup':\n",
        "                    refine_corrected('M365/v' + version + '/AadGroup', metadata[item], 'ObjectId_pseudonym')\n",
        "                elif item == 'AadGroupMembership':\n",
        "                    refine_corrected('M365/v' + version + '/AadGroupMembership', metadata[item], 'MembershipId')\n",
        "                elif item == 'AadUser':\n",
        "                    refine_corrected('M365/v' + version + '/AadUser', metadata[item], 'ObjectId_pseudonym')\n",
        "                elif item == 'AadUserPersonMapping':\n",
        "                    refine_corrected('M365/v' + version + '/AadUserPersonMapping', metadata[item], 'ObjectId_pseudonym')\n",
        "                elif item == 'Person':\n",
        "                    refine_corrected('M365/v' + version + '/Person', metadata[item], 'Id_pseudonym')\n",
        "                elif item == 'PersonDemographic':\n",
        "                    refine_corrected('M365/v' + version + '/PersonDemographic', metadata[item], 'PersonId_pseudonym')\n",
        "                else:\n",
        "                    refine_corrected('M365/v' + version + '/' + item, metadata[item], 'Id')\n",
        "            except AnalysisException as e:\n",
        "                # This means the table may have not been properly refined due to errors with the primary key not aligning with columns expected in the lookup table.\n",
        "                pass\n",
        "            \n",
        "            logger.info('Refined table: ' + item + ' from: ' + table_path)"
      ]
    },
    {
      "cell_type": "code",
      "execution_count": null,
      "metadata": {
        "jupyter": {
          "outputs_hidden": false,
          "source_hidden": false
        },
        "nteract": {
          "transient": {
            "deleting": false
          }
        }
      },
      "outputs": [],
      "source": [
        "metadata = oea.get_metadata_from_url('https://raw.githubusercontent.com/microsoft/OpenEduAnalytics/main/modules/module_catalog/Microsoft_Education_Insights/test_data/metadata.csv')\n",
        "refine_insights_dataset('stage2/Ingested/M365/v' + version)"
      ]
    }
  ],
  "metadata": {
    "description": null,
    "kernelspec": {
      "display_name": "python",
      "name": "synapse_pyspark"
    },
    "language_info": {
      "name": "python"
    },
    "save_output": true
  },
  "nbformat": 4,
  "nbformat_minor": 2
}
