{
  "nbformat": 4,
  "nbformat_minor": 2,
  "cells": [
    {
      "cell_type": "markdown",
      "metadata": {
        "nteract": {
          "transient": {
            "deleting": false
          }
        }
      },
      "source": [
        "# Insights Module Ingestion - Schema Correction\r\n",
        "\r\n",
        "This notebook demonstrates the utility of the OEA_py class notebook, while correcting module tables initially ingested without headers and incorrect data types.\r\n",
        "\r\n",
        "Tables are read from ```stage2/Ingested/M365/v1.14``` and written out, with the corrected schema, to ```stage2/Ingested_Corrected/M365/v1.14```\r\n",
        "\r\n",
        "The steps outlined below describe how this notebook is used to correct the Microsoft Education Insights module tables:\r\n",
        "- Set the workspace for where the table schemas are to be corrected. \r\n",
        "- 4 functions are defined and used:\r\n",
        "   1. **_extract_element**: uses the Insights metadata to extract the correct column names.\r\n",
        "   2. **_dtype_config**: uses the Insights metadata to extract the correct column dtypes.\r\n",
        "   3. **correct_insights_table_schema**: uses the corrected column names and dtypes to correct the schema per table given to the function.\r\n",
        "   4. **correct_insights_dataset**: extracts the names of all the folders currently stored in stage2/Ingested/M365, corrects the schema per table using the function above, and overwrites the tables with the updated schemas.\r\n",
        "   "
      ]
    },
    {
      "cell_type": "code",
      "execution_count": null,
      "outputs": [],
      "metadata": {
        "jupyter": {
          "source_hidden": false,
          "outputs_hidden": false
        },
        "nteract": {
          "transient": {
            "deleting": false
          }
        },
        "tags": [
          "parameters"
        ]
      },
      "source": [
        "workspace = 'dev'\r\n",
        "version = '1.14'"
      ]
    },
    {
      "cell_type": "code",
      "execution_count": null,
      "outputs": [],
      "metadata": {
        "jupyter": {
          "source_hidden": false,
          "outputs_hidden": false
        },
        "nteract": {
          "transient": {
            "deleting": false
          }
        }
      },
      "source": [
        "%run OEA_py"
      ]
    },
    {
      "cell_type": "code",
      "execution_count": null,
      "outputs": [],
      "metadata": {
        "jupyter": {
          "source_hidden": false,
          "outputs_hidden": false
        },
        "nteract": {
          "transient": {
            "deleting": false
          }
        }
      },
      "source": [
        "# 1) set the workspace (this determines where in the data lake you'll be writing to and reading from).\r\n",
        "# You can work in 'dev', 'prod', or a sandbox with any name you choose.\r\n",
        "# For example, Sam the developer can create a 'sam' workspace and expect to find his datasets in the data lake under oea/sandboxes/sam\r\n",
        "oea.set_workspace(workspace)"
      ]
    },
    {
      "cell_type": "code",
      "execution_count": null,
      "outputs": [],
      "metadata": {
        "jupyter": {
          "source_hidden": false,
          "outputs_hidden": false
        },
        "nteract": {
          "transient": {
            "deleting": false
          }
        }
      },
      "source": [
        "# 2) schema correction, since Insights data initially landed doesn't have column headers\r\n",
        "\r\n",
        "def _extract_element(lst, element_num=0):\r\n",
        "    return [item[element_num] for item in lst]\r\n",
        "\r\n",
        "def _dtype_config(dtype_lst):\r\n",
        "    return [item.capitalize() + 'Type()' for item in dtype_lst]\r\n",
        "\r\n",
        "def correct_insights_table_schema(df, table_name):\r\n",
        "    list_of_column_names = _extract_element(metadata[table_name])\r\n",
        "    list_of_column_dtypes = _extract_element(metadata[table_name], 1)\r\n",
        "    list_of_column_dtypes = _dtype_config(list_of_column_dtypes)\r\n",
        "\r\n",
        "    n = 0\r\n",
        "    df_updatedColumns = df\r\n",
        "    for c in df.columns:\r\n",
        "        if c != 'rundate':\r\n",
        "            new_col_name = list_of_column_names[n]\r\n",
        "            df_updatedColumns = df_updatedColumns.withColumnRenamed(c, new_col_name)\r\n",
        "            if list_of_column_dtypes[n] != 'StringType()':\r\n",
        "                if list_of_column_dtypes[n] == 'IntegerType()':\r\n",
        "                    df_updatedColumns = df_updatedColumns.withColumn(new_col_name, df_updatedColumns[new_col_name].cast(IntegerType()))\r\n",
        "                elif list_of_column_dtypes[n] == 'TimestampType()':\r\n",
        "                    df_updatedColumns = df_updatedColumns.withColumn(new_col_name, df_updatedColumns[new_col_name].cast(TimestampType()))\r\n",
        "                elif list_of_column_dtypes == 'ShortType()':\r\n",
        "                    df_updatedColumns = df_updatedColumns.withColumn(new_col_name, df_updatedColumns[new_col_name].cast(ShortType()))\r\n",
        "                elif list_of_column_dtypes[n] == 'LongType()':\r\n",
        "                    df_updatedColumns = df_updatedColumns.withColumn(new_col_name, df_updatedColumns[new_col_name].cast(LongType()))\r\n",
        "                elif list_of_column_dtypes[n] == 'DoubleType()':\r\n",
        "                    df_updatedColumns = df_updatedColumns.withColumn(new_col_name, df_updatedColumns[new_col_name].cast(DoubleType()))\r\n",
        "                elif list_of_column_dtypes[n] == 'DateType()':\r\n",
        "                    df_updatedColumns = df_updatedColumns.withColumn(new_col_name, df_updatedColumns[new_col_name].cast(DateType()))\r\n",
        "                elif list_of_column_dtypes[n] == 'BooleanType()':\r\n",
        "                    df_updatedColumns = df_updatedColumns.withColumn(new_col_name, df_updatedColumns[new_col_name].cast(BooleanType()))\r\n",
        "        else:\r\n",
        "            df_updatedColumns = df_updatedColumns\r\n",
        "        n = n + 1\r\n",
        "    return df_updatedColumns"
      ]
    },
    {
      "cell_type": "code",
      "execution_count": null,
      "outputs": [],
      "metadata": {
        "jupyter": {
          "source_hidden": false,
          "outputs_hidden": false
        },
        "nteract": {
          "transient": {
            "deleting": false
          }
        }
      },
      "source": [
        "def correct_insights_dataset(tables_source, write_destination):\r\n",
        "    items = oea.get_folders(tables_source)\r\n",
        "    for item in items: \r\n",
        "        if item == 'metadata.csv':\r\n",
        "            logger.info('ignore metadata processing, since this is not a table to be ingested')\r\n",
        "        else:\r\n",
        "            table_path = tables_source +'/'+ item\r\n",
        "            mode = 'append' if item == 'activity' else 'overwrite'\r\n",
        "            df = spark.read.format('delta').load(oea.to_url(table_path))\r\n",
        "            df_corrected = correct_insights_table_schema(df, table_name=item)\r\n",
        "            df_corrected.write.format('delta').mode(mode).save(oea.to_url(write_destination + '/' +item))\r\n",
        "            logger.info('Successfully corrected the schema for table: ' + item + ' from: ' + table_path)"
      ]
    },
    {
      "cell_type": "code",
      "execution_count": null,
      "outputs": [],
      "metadata": {
        "jupyter": {
          "source_hidden": false,
          "outputs_hidden": false
        },
        "nteract": {
          "transient": {
            "deleting": false
          }
        }
      },
      "source": [
        "metadata = oea.get_metadata_from_url('https://raw.githubusercontent.com/microsoft/OpenEduAnalytics/main/modules/module_catalog/Microsoft_Education_Insights/test_data/metadata.csv')\r\n",
        "correct_insights_dataset('stage2/Ingested/M365/v' + version, 'stage2/Ingested_Corrected/M365/v' + version)"
      ]
    },
    {
      "cell_type": "code",
      "execution_count": null,
      "outputs": [],
      "metadata": {
        "jupyter": {
          "source_hidden": false,
          "outputs_hidden": false
        },
        "nteract": {
          "transient": {
            "deleting": false
          }
        },
        "collapsed": false
      },
      "source": [
        "df = spark.read.format('delta').load(oea.to_url('stage2/Ingested_Corrected/M365/v'+ version + '/activity'), header='true')\r\n",
        "display(df.limit(10))"
      ]
    },
    {
      "cell_type": "code",
      "execution_count": null,
      "outputs": [],
      "metadata": {
        "jupyter": {
          "source_hidden": false,
          "outputs_hidden": false
        },
        "nteract": {
          "transient": {
            "deleting": false
          }
        }
      },
      "source": [
        "df.printSchema()"
      ]
    }
  ],
  "metadata": {
    "description": null,
    "save_output": true,
    "kernelspec": {
      "name": "synapse_pyspark",
      "display_name": "Synapse PySpark"
    },
    "language_info": {
      "name": "python"
    }
  }
}
