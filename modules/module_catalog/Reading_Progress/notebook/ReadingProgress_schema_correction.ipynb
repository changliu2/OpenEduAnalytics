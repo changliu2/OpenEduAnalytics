{
  "cells": [
    {
      "cell_type": "markdown",
      "source": [
        "# Reading Progress Module Ingestion - Schema Correction\r\n",
        "\r\n",
        "This notebook demonstrates the utility of the OEA_py class notebook, while correcting module tables initially ingested without headers and incorrect data types.\r\n",
        "\r\n",
        "Tables are read from ```stage2/Ingested/reading_progress/v0.1``` and written out, with the corrected schema, to ```stage2/Ingested_Corrected/reading_progress/v0.1```\r\n",
        "\r\n",
        "The steps outlined below describe how this notebook is used to correct the Microsoft Education Insights module tables:\r\n",
        "- Set the workspace for where the table schemas are to be corrected. \r\n",
        "- 4 functions are defined and used:\r\n",
        "   1. **_extract_element**: uses the Insights metadata to extract the correct column names.\r\n",
        "   2. **_dtype_config**: uses the Insights metadata to extract the correct column dtypes.\r\n",
        "   3. **correct_insights_table_schema**: uses the corrected column names and dtypes to correct the schema per table given to the function.\r\n",
        "   4. **correct_reading_progress_dataset**: extracts the names of all the folders currently stored in stage2/Ingested/reading_progress, corrects the schema per table using the function above, and overwrites the tables with the updated schemas.\r\n",
        "   "
      ],
      "metadata": {
        "nteract": {
          "transient": {
            "deleting": false
          }
        }
      }
    },
    {
      "cell_type": "code",
      "source": [
        "workspace = 'dev'"
      ],
      "outputs": [],
      "execution_count": null,
      "metadata": {
        "jupyter": {
          "source_hidden": false,
          "outputs_hidden": false
        },
        "nteract": {
          "transient": {
            "deleting": false
          }
        },
        "tags": [
          "parameters"
        ]
      }
    },
    {
      "cell_type": "code",
      "source": [
        "%run OEA_py"
      ],
      "outputs": [],
      "execution_count": null,
      "metadata": {
        "jupyter": {
          "source_hidden": false,
          "outputs_hidden": false
        },
        "nteract": {
          "transient": {
            "deleting": false
          }
        }
      }
    },
    {
      "cell_type": "code",
      "source": [
        "# 1) set the workspace (this determines where in the data lake you'll be writing to and reading from).\r\n",
        "# You can work in 'dev', 'prod', or a sandbox with any name you choose.\r\n",
        "# For example, Sam the developer can create a 'sam' workspace and expect to find his datasets in the data lake under oea/sandboxes/sam\r\n",
        "oea.set_workspace(workspace)"
      ],
      "outputs": [],
      "execution_count": null,
      "metadata": {
        "jupyter": {
          "source_hidden": false,
          "outputs_hidden": false
        },
        "nteract": {
          "transient": {
            "deleting": false
          }
        }
      }
    },
    {
      "cell_type": "code",
      "source": [
        "# 2) schema correction, since Insights data initially landed doesn't have column headers\r\n",
        "def _extract_element(lst, element_num=0):\r\n",
        "    return [item[element_num] for item in lst]\r\n",
        "\r\n",
        "def _dtype_config(dtype_lst):\r\n",
        "    return [item.capitalize() + 'Type()' for item in dtype_lst]\r\n",
        "\r\n",
        "def correct_insights_table_schema(df, table_name):\r\n",
        "    list_of_column_names = _extract_element(metadata[table_name])\r\n",
        "    list_of_column_dtypes = _extract_element(metadata[table_name], 1)\r\n",
        "    list_of_column_dtypes = _dtype_config(list_of_column_dtypes)\r\n",
        "\r\n",
        "    n = 0\r\n",
        "    df_updatedColumns = df\r\n",
        "    for c in df.columns:\r\n",
        "        if c != 'rundate':\r\n",
        "            new_col_name = list_of_column_names[n]\r\n",
        "            df_updatedColumns = df_updatedColumns.withColumnRenamed(c, new_col_name)\r\n",
        "            if list_of_column_dtypes[n] != 'StringType()':\r\n",
        "                if list_of_column_dtypes[n] == 'IntegerType()':\r\n",
        "                    df_updatedColumns = df_updatedColumns.withColumn(new_col_name, df_updatedColumns[new_col_name].cast(IntegerType()))\r\n",
        "                elif list_of_column_dtypes[n] == 'TimestampType()':\r\n",
        "                    df_updatedColumns = df_updatedColumns.withColumn(new_col_name, df_updatedColumns[new_col_name].cast(TimestampType()))\r\n",
        "                elif list_of_column_dtypes == 'ShortType()':\r\n",
        "                    df_updatedColumns = df_updatedColumns.withColumn(new_col_name, df_updatedColumns[new_col_name].cast(ShortType()))\r\n",
        "                elif list_of_column_dtypes[n] == 'LongType()':\r\n",
        "                    df_updatedColumns = df_updatedColumns.withColumn(new_col_name, df_updatedColumns[new_col_name].cast(LongType()))\r\n",
        "                elif list_of_column_dtypes[n] == 'DoubleType()':\r\n",
        "                    df_updatedColumns = df_updatedColumns.withColumn(new_col_name, df_updatedColumns[new_col_name].cast(DoubleType()))\r\n",
        "                elif list_of_column_dtypes[n] == 'DateType()':\r\n",
        "                    df_updatedColumns = df_updatedColumns.withColumn(new_col_name, df_updatedColumns[new_col_name].cast(DateType()))\r\n",
        "                elif list_of_column_dtypes[n] == 'BooleanType()':\r\n",
        "                    df_updatedColumns = df_updatedColumns.withColumn(new_col_name, df_updatedColumns[new_col_name].cast(BooleanType()))\r\n",
        "        else:\r\n",
        "            df_updatedColumns = df_updatedColumns\r\n",
        "        n = n + 1\r\n",
        "    return df_updatedColumns"
      ],
      "outputs": [],
      "execution_count": null,
      "metadata": {
        "jupyter": {
          "source_hidden": false,
          "outputs_hidden": false
        },
        "nteract": {
          "transient": {
            "deleting": false
          }
        }
      }
    },
    {
      "cell_type": "code",
      "source": [
        "def correct_reading_progress_dataset(tables_source, write_destination):\r\n",
        "    items = oea.get_folders(tables_source)\r\n",
        "    for item in items: \r\n",
        "        if item == 'metadata.csv':\r\n",
        "            logger.info('ignore metadata processing, since this is not a table to be ingested')\r\n",
        "        else:\r\n",
        "            table_path = tables_source +'/'+ item\r\n",
        "            spark.sql(\"set spark.sql.streaming.schemaInference=true\")\r\n",
        "            streaming_df = spark.readStream.format('delta').load(oea.to_url(table_path))\r\n",
        "            df_corrected = correct_insights_table_schema(streaming_df, table_name=item)\r\n",
        "            query = df_corrected.writeStream.format('delta').outputMode('append').trigger(once=True).option('checkpointLocation', oea.to_url(table_path) + '/_checkpoints')\r\n",
        "            query = query.start(oea.to_url(write_destination + '/' +item))\r\n",
        "            query.awaitTermination() \r\n",
        "            logger.info('Successfully corrected the schema for table: ' + item + ' from: ' + table_path)"
      ],
      "outputs": [],
      "execution_count": null,
      "metadata": {
        "jupyter": {
          "source_hidden": false,
          "outputs_hidden": false
        },
        "nteract": {
          "transient": {
            "deleting": false
          }
        }
      }
    },
    {
      "cell_type": "code",
      "source": [
        "metadata = oea.get_metadata_from_url('https://raw.githubusercontent.com/microsoft/OpenEduAnalytics/main/modules/module_catalog/Microsoft_Education_Insights/test_data/metadata.csv')\r\n",
        "correct_reading_progress_dataset('stage2/Ingested/reading_progress/v0.1', 'stage2/Ingested_Corrected/reading_progress/v0.1')"
      ],
      "outputs": [],
      "execution_count": null,
      "metadata": {
        "jupyter": {
          "source_hidden": false,
          "outputs_hidden": false
        },
        "nteract": {
          "transient": {
            "deleting": false
          }
        }
      }
    }
  ],
  "metadata": {
    "kernelspec": {
      "name": "synapse_pyspark",
      "display_name": "Synapse PySpark"
    },
    "language_info": {
      "name": "python"
    },
    "description": "Used for \"2_ingest_reading_progress\" pipeline. Corrects the schema from Insights data originally landed - updating column names and data types from the metadata.",
    "save_output": true,
    "synapse_widget": {
      "version": "0.1",
      "state": {}
    }
  },
  "nbformat": 4,
  "nbformat_minor": 2
}