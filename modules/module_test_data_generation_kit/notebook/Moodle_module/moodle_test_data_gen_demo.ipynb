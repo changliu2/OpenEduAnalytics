{
  "cells": [
    {
      "cell_type": "markdown",
      "source": [
        "# Test Data Generation: Moodle Tables Demonstration Notebook\r\n",
        "\r\n",
        "**Affiliation**: *Kwantum Edu Analytics*. **Last Modified**: *5/9/2023*.\r\n",
        "\r\n",
        "This OEA test data generation notebook illustrates use of the OEA_py, moodle_roster_test_data_gen_py and moodle_activity_test_data_gen_py python classes for creating and developing Moodle table test data in stage1.\r\n",
        "\r\n",
        "Use the main function outlined in the moodle_roster_test_data_gen_py class notebook ```genMoodleRoster(startdate, enddate, reportgendate, use_general_module_base_truth)``` to create test data for **8** SIS tables. \r\n",
        "\r\n",
        "Use the main function outlined in the moodle_activity_test_data_gen_py class notebook ```genMoodleActivity(startdate, enddate, reportgendate, moodle_roster_tables_source_path, max_num_activities_per_class)``` to create test data for **16** activity tables. \r\n",
        "\r\n",
        "Parameter descriptions, additional information around methods and test data generation processes/comments are given in the class notebooks. \r\n",
        "\r\n",
        "*These methods only create higher ed. Moodle module test data currently; these can be updated and adapted to generate K-12 test data.*"
      ],
      "metadata": {
        "nteract": {
          "transient": {
            "deleting": false
          }
        }
      }
    },
    {
      "cell_type": "code",
      "source": [
        "%run OEA_py"
      ],
      "outputs": [],
      "execution_count": null,
      "metadata": {
        "jupyter": {
          "source_hidden": false,
          "outputs_hidden": false
        },
        "nteract": {
          "transient": {
            "deleting": false
          }
        }
      }
    },
    {
      "cell_type": "code",
      "source": [
        "# set the workspace (this determines where in the data lake you'll be writing to and reading from).\r\n",
        "# You can work in 'dev', 'prod', or a sandbox with any name you choose.\r\n",
        "# For example, Sam the developer can create a 'sam' workspace and expect to find his datasets in the data lake under oea/sandboxes/sam\r\n",
        "oea.set_workspace('dev')"
      ],
      "outputs": [],
      "execution_count": null,
      "metadata": {
        "jupyter": {
          "source_hidden": false,
          "outputs_hidden": false
        },
        "nteract": {
          "transient": {
            "deleting": false
          }
        }
      }
    },
    {
      "cell_type": "markdown",
      "source": [
        "## Generate Moodle Roster Test Data\r\n",
        "\r\n",
        "The functions below create the 8 tables described in the moodle_roster_test_data_gen_py class notebook."
      ],
      "metadata": {
        "nteract": {
          "transient": {
            "deleting": false
          }
        }
      }
    },
    {
      "cell_type": "code",
      "source": [
        "%run /moodle_roster_test_data_gen_py"
      ],
      "outputs": [],
      "execution_count": null,
      "metadata": {
        "jupyter": {
          "source_hidden": false,
          "outputs_hidden": false
        },
        "nteract": {
          "transient": {
            "deleting": false
          }
        }
      }
    },
    {
      "cell_type": "code",
      "source": [
        "rosterdatagen = MoodleRosterDataGen()"
      ],
      "outputs": [],
      "execution_count": null,
      "metadata": {
        "jupyter": {
          "source_hidden": false,
          "outputs_hidden": false
        },
        "nteract": {
          "transient": {
            "deleting": false
          }
        }
      }
    },
    {
      "cell_type": "code",
      "source": [
        "# depending on sizes of base tables, Moodle generation can take up to 5 min (approx. 2 min when using general module base tables) \r\n",
        "# refer to the moodle_test_data_gen_py class notebook for additional details\r\n",
        "\r\n",
        "start_date = '2022-01-01T00:00:00' # roster start date\r\n",
        "end_date = '2022-06-01T00:00:00' # roster end date\r\n",
        "report_gen_date = '2022-02-02T00:00:00' # date the tables/reports were (fictitously) generated\r\n",
        "use_general_module_base_truth_tables = True # <- choose whether you'd like to generate test data based on user-generated base-truth tables (set to \"False\"), or to import and use general module base-truth tables (to link with other OEA module test datasets; set to \"True\").\r\n",
        "\r\n",
        "rosterdatagen.genMoodleRoster(start_date, end_date, report_gen_date, use_general_module_base_truth_tables)"
      ],
      "outputs": [],
      "execution_count": null,
      "metadata": {
        "jupyter": {
          "source_hidden": false,
          "outputs_hidden": false
        },
        "nteract": {
          "transient": {
            "deleting": false
          }
        }
      }
    },
    {
      "cell_type": "markdown",
      "source": [
        "## Generate Moodle Activity Test Data\r\n",
        "\r\n",
        "The functions below create the 16 tables described in the moodle_activity_test_data_gen_py class notebook.\r\n",
        "\r\n",
        "**Note**: The function to generate Moodle activity test data, requires that Moodle roster test data tables have already been created."
      ],
      "metadata": {
        "nteract": {
          "transient": {
            "deleting": false
          }
        }
      }
    },
    {
      "cell_type": "code",
      "source": [
        "%run /moodle_activity_test_data_gen_py"
      ],
      "outputs": [],
      "execution_count": null,
      "metadata": {
        "jupyter": {
          "source_hidden": false,
          "outputs_hidden": false
        },
        "nteract": {
          "transient": {
            "deleting": false
          }
        }
      }
    },
    {
      "cell_type": "code",
      "source": [
        "activitydatagen = MoodleActivityDataGen()"
      ],
      "outputs": [],
      "execution_count": null,
      "metadata": {
        "jupyter": {
          "source_hidden": false,
          "outputs_hidden": false
        },
        "nteract": {
          "transient": {
            "deleting": false
          }
        }
      }
    },
    {
      "cell_type": "code",
      "source": [
        "start_date = '2022-01-01T00:00:00' # roster start date\r\n",
        "end_date = '2022-06-01T00:00:00' # roster end date\r\n",
        "report_gen_date = '2022-02-02T00:00:00' # date the tables/reports were (fictitously) generated\r\n",
        "moodle_roster_tables_source_path = 'stage1/Transactional/test_data/v0.1/moodle_gen' # <- directory path of the Moodle roster tables\r\n",
        "max_num_activities_per_class = 3 # <- choose max number of assignments, lessons, etc. you'd like to generate per class (NOTE: students with activities are chosen at random).\r\n",
        "\r\n",
        "activitydatagen.genMoodleActivity(start_date, end_date, report_gen_date, moodle_roster_tables_source_path, max_num_activities_per_class)"
      ],
      "outputs": [],
      "execution_count": null,
      "metadata": {
        "jupyter": {
          "source_hidden": false,
          "outputs_hidden": false
        },
        "nteract": {
          "transient": {
            "deleting": false
          }
        }
      }
    }
  ],
  "metadata": {
    "kernelspec": {
      "name": "synapse_pyspark",
      "display_name": "Synapse PySpark"
    },
    "language_info": {
      "name": "python"
    },
    "description": null,
    "save_output": true,
    "synapse_widget": {
      "version": "0.1",
      "state": {}
    }
  },
  "nbformat": 4,
  "nbformat_minor": 2
}