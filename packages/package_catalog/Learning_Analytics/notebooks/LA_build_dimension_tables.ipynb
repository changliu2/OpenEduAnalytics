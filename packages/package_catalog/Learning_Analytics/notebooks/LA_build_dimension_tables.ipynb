{
  "cells": [
    {
      "attachments": {},
      "cell_type": "markdown",
      "metadata": {
        "nteract": {
          "transient": {
            "deleting": false
          }
        }
      },
      "source": [
        "# Learning Analytics Package: Build Dimension Tables\n",
        "\n",
        "Builds the dimension tables used for the Learning Analytics package **v1.0** dashboard, in the context of using the Higher Ed. test data from Microsoft Education Insights roster, activity, and Microsoft Graph meeting attendance data.\n",
        "\n",
        "The following tables are created in each of the steps outlined below (and above the cells for enrichment/curation):\n",
        "\n",
        "1. dim_Student,\n",
        "2. dim_Student_lookup,\n",
        "3. dim_Instructor,\n",
        "4. dim_Section,\n",
        "5. dim_Course,\n",
        "6. dim_School,\n",
        "7. dim_Meeting,\n",
        "8. dim_AssignmentStatus,\n",
        "9. dim_Assignment\n",
        "10. dim_SignalType, and\n",
        "11. dim_Date.\n",
        "\n",
        "This package-notebook also uses two methods (defined and outlined below):\n",
        " - **_publish_to_stage2**: uses the OEA_py function *upsert* to land the current dataframe in stage2/Enriched\n",
        " - **publish**: uses the method above to land the package dimension tables in stage2, then writes the same table to stage3/Published. Delta checkpoints are landed in the respective stage2/Enriched directory."
      ]
    },
    {
      "cell_type": "code",
      "execution_count": 2,
      "metadata": {
        "jupyter": {
          "outputs_hidden": false,
          "source_hidden": false
        },
        "nteract": {
          "transient": {
            "deleting": false
          }
        },
        "tags": [
          "parameters"
        ]
      },
      "outputs": [
        {
          "data": {
            "application/vnd.livy.statement-meta+json": {
              "execution_finish_time": "2023-05-22T02:58:45.1734888Z",
              "execution_start_time": "2023-05-22T02:58:44.9947431Z",
              "livy_statement_state": "available",
              "parent_msg_id": "67cf7dd1-8a13-4360-a5f6-efa168ac7496",
              "queued_time": "2023-05-22T02:58:44.774851Z",
              "session_id": "97",
              "session_start_time": "2023-05-22T02:58:44.862967Z",
              "spark_jobs": null,
              "spark_pool": "spark3p3sm",
              "state": "finished",
              "statement_id": 3
            },
            "text/plain": [
              "StatementMeta(spark3p3sm, 97, 3, Finished, Available)"
            ]
          },
          "metadata": {},
          "output_type": "display_data"
        }
      ],
      "source": [
        "workspace = 'dev'\n",
        "insights_version = '1.14'"
      ]
    },
    {
      "cell_type": "code",
      "execution_count": 3,
      "metadata": {
        "jupyter": {
          "outputs_hidden": false,
          "source_hidden": false
        },
        "nteract": {
          "transient": {
            "deleting": false
          }
        }
      },
      "outputs": [
        {
          "data": {
            "application/vnd.livy.statement-meta+json": {
              "execution_finish_time": "2023-05-22T02:58:56.2769931Z",
              "execution_start_time": "2023-05-22T02:58:56.2767959Z",
              "livy_statement_state": "available",
              "parent_msg_id": "46871675-7513-4363-90de-1894d3876623",
              "queued_time": "2023-05-22T02:58:46.9408491Z",
              "session_id": "97",
              "session_start_time": null,
              "spark_jobs": null,
              "spark_pool": null,
              "state": "finished",
              "statement_id": -1
            },
            "text/plain": [
              "StatementMeta(, 97, -1, Finished, Available)"
            ]
          },
          "metadata": {},
          "output_type": "display_data"
        },
        {
          "name": "stdout",
          "output_type": "stream",
          "text": [
            "2023-05-22 02:58:54,806 - OEA - INFO - Now using workspace: dev\n",
            "2023-05-22 02:58:54,807 - OEA - INFO - OEA initialized.\n"
          ]
        }
      ],
      "source": [
        "%run OEA_py"
      ]
    },
    {
      "cell_type": "code",
      "execution_count": 4,
      "metadata": {
        "jupyter": {
          "outputs_hidden": false,
          "source_hidden": false
        },
        "nteract": {
          "transient": {
            "deleting": false
          }
        }
      },
      "outputs": [
        {
          "data": {
            "application/vnd.livy.statement-meta+json": {
              "execution_finish_time": "2023-05-22T03:00:06.4841675Z",
              "execution_start_time": "2023-05-22T03:00:06.3075439Z",
              "livy_statement_state": "available",
              "parent_msg_id": "884a0177-4f78-499c-ad15-122817763feb",
              "queued_time": "2023-05-22T03:00:06.155075Z",
              "session_id": "97",
              "session_start_time": null,
              "spark_jobs": null,
              "spark_pool": "spark3p3sm",
              "state": "finished",
              "statement_id": 5
            },
            "text/plain": [
              "StatementMeta(spark3p3sm, 97, 5, Finished, Available)"
            ]
          },
          "metadata": {},
          "output_type": "display_data"
        },
        {
          "name": "stdout",
          "output_type": "stream",
          "text": [
            "2023-05-22 03:00:06,285 - OEA - INFO - Now using workspace: dev\n"
          ]
        }
      ],
      "source": [
        "# 1) set the workspace (this determines where in the data lake you'll be writing to and reading from).\n",
        "# You can work in 'dev', 'prod', or a sandbox with any name you choose.\n",
        "# For example, Sam the developer can create a 'sam' workspace and expect to find his datasets in the data lake under oea/sandboxes/sam\n",
        "oea.set_workspace(workspace)"
      ]
    },
    {
      "attachments": {},
      "cell_type": "markdown",
      "metadata": {
        "nteract": {
          "transient": {
            "deleting": false
          }
        }
      },
      "source": [
        "## 0.) Define the Publish Function\n",
        "\n",
        "### Notes\n",
        " - Can go about this in 2 ways (*thinking the second makes more sense*): \n",
        "   1. Write a new function (publish) that reads in a set of dfs, the aggregations, etc. writes checkpoints out to a new folder in stage 2, and then writes updated schema to stage3\n",
        "   2. Perform aggregations and write finalized table to stage2, then publish to stage3 (keeps checkpoints in stage2 folder).\n"
      ]
    },
    {
      "cell_type": "code",
      "execution_count": 6,
      "metadata": {
        "jupyter": {
          "outputs_hidden": false,
          "source_hidden": false
        },
        "nteract": {
          "transient": {
            "deleting": false
          }
        }
      },
      "outputs": [
        {
          "data": {
            "application/vnd.livy.statement-meta+json": {
              "execution_finish_time": "2023-05-22T03:00:23.9806016Z",
              "execution_start_time": "2023-05-22T03:00:23.8009497Z",
              "livy_statement_state": "available",
              "parent_msg_id": "3d083879-164b-43a4-ade8-9975f94f7f25",
              "queued_time": "2023-05-22T03:00:23.6275596Z",
              "session_id": "97",
              "session_start_time": null,
              "spark_jobs": null,
              "spark_pool": "spark3p3sm",
              "state": "finished",
              "statement_id": 7
            },
            "text/plain": [
              "StatementMeta(spark3p3sm, 97, 7, Finished, Available)"
            ]
          },
          "metadata": {},
          "output_type": "display_data"
        }
      ],
      "source": [
        "def _publish_to_stage2(df, destination, pk):\n",
        "    oea.upsert(df, destination, pk)\n",
        "\n",
        "def publish(df, stage2_destination, stage3_destination, primary_key='id'):\n",
        "    _publish_to_stage2(df, stage2_destination, primary_key)\n",
        "\n",
        "    streaming_df = spark.read.format('delta').load(oea.to_url(stage2_destination))\n",
        "    # for more info on append vs complete vs update modes for structured streaming: https://spark.apache.org/docs/latest/structured-streaming-programming-guide.html#basic-concepts\n",
        "    streaming_df.write.format('delta').mode('append').save(oea.to_url(stage3_destination))\n",
        "    number_of_new_inbound_rows = streaming_df.count()\n",
        "    logger.info(f'Number of new inbound rows processed: {number_of_new_inbound_rows}')\n",
        "    return number_of_new_inbound_rows"
      ]
    },
    {
      "attachments": {},
      "cell_type": "markdown",
      "metadata": {
        "nteract": {
          "transient": {
            "deleting": false
          }
        }
      },
      "source": [
        "## 1.) Build dim_Student Table\n",
        "\n",
        "Data aggregations and curation on Insights roster data: AADUser and Person (as well as others).\n",
        "\n",
        "This table has one row per student in the Insights roster data for the education system, with details around:\n",
        " - student IDs (previously, student internal ID or PersonId from Person table), \n",
        " - student names (masked), \n",
        " - student educational-grade levels, \n",
        " - student UserPrincipalNames (pseudonymized UPNs from the AADUser table),\n",
        " - student date of birth (from PersonDemographic table, currently hashed here), and\n",
        " - student address (currently, birth city and state - which is hashed for pseudo data - since Insights data doesn't hold current address data).\n",
        "\n",
        "This table is then written out to```(stage2 and stage3)/(Enriched and Published)/learning_analytics/v1.0/general/dim_Student```."
      ]
    },
    {
      "cell_type": "code",
      "execution_count": null,
      "metadata": {
        "jupyter": {
          "outputs_hidden": false,
          "source_hidden": false
        },
        "nteract": {
          "transient": {
            "deleting": false
          }
        }
      },
      "outputs": [
        {
          "data": {
            "application/vnd.livy.statement-meta+json": {
              "execution_finish_time": "2023-01-11T18:00:57.8995149Z",
              "execution_start_time": "2023-01-11T18:00:05.6676706Z",
              "livy_statement_state": "available",
              "queued_time": "2023-01-11T17:56:52.4154089Z",
              "session_id": "58",
              "session_start_time": null,
              "spark_jobs": null,
              "spark_pool": "spark3p2med",
              "state": "finished",
              "statement_id": 5
            },
            "text/plain": [
              "StatementMeta(spark3p2med, 58, 5, Finished, Available)"
            ]
          },
          "metadata": {},
          "output_type": "display_data"
        }
      ],
      "source": [
        "# read in tables needed\n",
        "dfInsights_aaduserpersonmapping = oea.load('stage2/Refined/M365/v' + insights_version + '/general/AadUserPersonMapping')\n",
        "dfInsights_aaduser = oea.load('stage2/Refined/M365/v' + insights_version + '/general/AadUser')\n",
        "dfInsights_person = oea.load('stage2/Refined/M365/v' + insights_version + '/general/Person')\n",
        "dfInsights_personOrgRole = oea.load('stage2/Refined/M365/v' + insights_version + '/general/PersonOrganizationRole')\n",
        "dfInsights_refDefinition = oea.load('stage2/Refined/M365/v' + insights_version + '/general/RefDefinition')\n",
        "# lookup(s)\n",
        "dfInsights_persondemographic_np = oea.load('stage2/Refined/M365/v' + insights_version + '/sensitive/PersonDemographic_lookup')"
      ]
    },
    {
      "cell_type": "code",
      "execution_count": null,
      "metadata": {
        "collapsed": false,
        "jupyter": {
          "outputs_hidden": false,
          "source_hidden": false
        },
        "nteract": {
          "transient": {
            "deleting": false
          }
        }
      },
      "outputs": [
        {
          "data": {
            "application/vnd.livy.statement-meta+json": {
              "execution_finish_time": "2023-01-11T18:01:06.7142121Z",
              "execution_start_time": "2023-01-11T18:00:58.0250363Z",
              "livy_statement_state": "available",
              "queued_time": "2023-01-11T17:57:26.0547116Z",
              "session_id": "58",
              "session_start_time": null,
              "spark_jobs": null,
              "spark_pool": "spark3p2med",
              "state": "finished",
              "statement_id": 6
            },
            "text/plain": [
              "StatementMeta(spark3p2med, 58, 6, Finished, Available)"
            ]
          },
          "metadata": {},
          "output_type": "display_data"
        },
        {
          "data": {
            "application/vnd.synapse.widget-view+json": {
              "widget_id": "389813b4-c8d4-4382-bdea-a2690818eedc",
              "widget_type": "Synapse.DataFrame"
            },
            "text/plain": [
              "SynapseWidget(Synapse.DataFrame, 389813b4-c8d4-4382-bdea-a2690818eedc)"
            ]
          },
          "metadata": {},
          "output_type": "display_data"
        }
      ],
      "source": [
        "# idea is eventually to actually write the OEA standardized schema to stage2/Enriched, then perform the aggregations and cleaning, and then write to stage3/Published.\n",
        "# NOTE: Update as needed; remove unused or irrelelvant columns.\n",
        "\n",
        "# start with Insights roster tables: Person and join with PersonOrganizationRole - to create the start of the Student table\n",
        "dfInsights = dfInsights_personOrgRole.join(dfInsights_person, dfInsights_personOrgRole.PersonId_pseudonym == dfInsights_person.Id_pseudonym, how='inner')\n",
        "dfInsights = dfInsights.select('PersonId_pseudonym', 'Surname', 'GivenName', 'MiddleName', 'RefRoleId', 'RefGradeLevelId')\n",
        "# join Insights table with the RefDefinition table - to get the Role of each person, and filter by only student SIS data\n",
        "dfInsights = dfInsights.join(dfInsights_refDefinition, dfInsights.RefRoleId == dfInsights_refDefinition.Id, how='inner')\n",
        "dfInsights = dfInsights.withColumnRenamed('Code', 'PersonRole')\n",
        "dfStudent = dfInsights.filter(dfInsights['PersonRole'] == 'Student')\n",
        "dfStudent = dfStudent.select('PersonId_pseudonym', 'Surname', 'GivenName', 'MiddleName', 'PersonRole', 'RefGradeLevelId')\n",
        "# join Student table with RefDefinition table, again - to get the grade of each student\n",
        "dfStudent = dfStudent.join(dfInsights_refDefinition, dfInsights.RefGradeLevelId == dfInsights_refDefinition.Id, how='inner')\n",
        "dfStudent = dfStudent.withColumnRenamed('Code', 'StudentGrade')\n",
        "dfStudent = dfStudent.select('PersonId_pseudonym', 'Surname', 'GivenName', 'MiddleName', 'PersonRole', 'StudentGrade')\n",
        "# join Student table with the AADUserPersonMapping table - to get the External Student ID\n",
        "dfInsights_aaduserpersonmapping = dfInsights_aaduserpersonmapping.withColumnRenamed('PersonId_pseudonym', 'StudentId_internal_pseudonym')\n",
        "dfStudent = dfStudent.join(dfInsights_aaduserpersonmapping, dfStudent.PersonId_pseudonym == dfInsights_aaduserpersonmapping.StudentId_internal_pseudonym, how='inner')\n",
        "dfStudent = dfStudent.withColumnRenamed('ObjectId_pseudonym', 'StudentId_external_pseudonym')\n",
        "dfStudent = dfStudent.select('StudentId_internal_pseudonym', 'StudentId_external_pseudonym', 'Surname', 'GivenName', 'MiddleName', 'PersonRole', 'StudentGrade')\n",
        "# join Student table with AAD User table to extract each student's UPN, and remove unneeded columns \n",
        "df_metadata = dfInsights_aaduser.select('ObjectId_pseudonym', 'UserPrincipalName_pseudonym')\n",
        "dfStudent = dfStudent.join(df_metadata, dfStudent.StudentId_external_pseudonym == df_metadata.ObjectId_pseudonym, how='inner')\n",
        "dfStudent = dfStudent.drop('ObjectId_pseudonym', 'PersonRole')\n",
        "# join with Person Demographic table to extract each student's DoB and birth location (since current address isn't available from Insights roster data)\n",
        "# also drop student external IDs (AAD IDs), and use Person ID as the primary key\n",
        "df_metadata = dfInsights_persondemographic_np.select('PersonId_pseudonym', 'BirthDate', 'BirthCity', 'BirthState')\n",
        "df_metadata = df_metadata.filter(df_metadata['BirthDate'] != 'BirthDate')\n",
        "dfStudent = dfStudent.join(df_metadata, dfStudent.StudentId_internal_pseudonym == df_metadata.PersonId_pseudonym, how='inner')\n",
        "dfStudent = dfStudent.drop('PersonId_pseudonym', 'StudentId_external_pseudonym').withColumnRenamed('StudentId_internal_pseudonym', 'StudentId_pseudonym')\n",
        "display(dfStudent.limit(10))"
      ]
    },
    {
      "attachments": {},
      "cell_type": "markdown",
      "metadata": {
        "nteract": {
          "transient": {
            "deleting": false
          }
        }
      },
      "source": [
        "### Write to Stage 3"
      ]
    },
    {
      "cell_type": "code",
      "execution_count": null,
      "metadata": {
        "jupyter": {
          "outputs_hidden": false,
          "source_hidden": false
        },
        "nteract": {
          "transient": {
            "deleting": false
          }
        }
      },
      "outputs": [
        {
          "data": {
            "application/vnd.livy.statement-meta+json": {
              "execution_finish_time": "2023-01-11T18:10:06.517043Z",
              "execution_start_time": "2023-01-11T18:09:57.8476268Z",
              "livy_statement_state": "available",
              "queued_time": "2023-01-11T18:09:57.7413184Z",
              "session_id": "58",
              "session_start_time": null,
              "spark_jobs": null,
              "spark_pool": "spark3p2med",
              "state": "finished",
              "statement_id": 14
            },
            "text/plain": [
              "StatementMeta(spark3p2med, 58, 14, Finished, Available)"
            ]
          },
          "metadata": {},
          "output_type": "display_data"
        },
        {
          "name": "stdout",
          "output_type": "stream",
          "text": [
            "2023-01-11 18:10:06,073 - OEA - INFO - Number of new inbound rows processed: 600\n"
          ]
        },
        {
          "data": {
            "text/plain": [
              "600"
            ]
          },
          "execution_count": 31,
          "metadata": {},
          "output_type": "execute_result"
        }
      ],
      "source": [
        "publish(dfStudent, 'stage2/Enriched/learning_analytics/v1.0/general/dim_Student', 'stage3/Published/learning_analytics/v1.0/general/dim_Student', primary_key='StudentId_pseudonym')"
      ]
    },
    {
      "attachments": {},
      "cell_type": "markdown",
      "metadata": {
        "nteract": {
          "transient": {
            "deleting": false
          }
        }
      },
      "source": [
        "## 2.) Build dim_Student_lookup Table\n",
        "\n",
        "Data aggregations and curation on previously created dim_Student table and Insights roster data: Person_lookup (as well as others).\n",
        "\n",
        "This table has one row per student in the Insights roster data, with details around:\n",
        " - student IDs (previously, student internal ID or PersonId from Person table; contains both hashed-pseudonym IDs and unhashed IDs), \n",
        " - student UserPrincipalNames (contains both hashed-pseudonym UPNs and unhashed UPNs), and\n",
        " - student names (unmasked).\n",
        "\n",
        "This table is then written out to```(stage2 and stage3)/(Enriched and Published)/learning_analytics/v1.0/sensitive/dim_Student_lookup```."
      ]
    },
    {
      "cell_type": "code",
      "execution_count": null,
      "metadata": {
        "jupyter": {
          "outputs_hidden": false,
          "source_hidden": false
        },
        "nteract": {
          "transient": {
            "deleting": false
          }
        }
      },
      "outputs": [
        {
          "data": {
            "application/vnd.livy.statement-meta+json": {
              "execution_finish_time": "2023-01-11T18:11:12.8972788Z",
              "execution_start_time": "2023-01-11T18:11:11.0306528Z",
              "livy_statement_state": "available",
              "queued_time": "2023-01-11T18:11:10.8750626Z",
              "session_id": "58",
              "session_start_time": null,
              "spark_jobs": null,
              "spark_pool": "spark3p2med",
              "state": "finished",
              "statement_id": 15
            },
            "text/plain": [
              "StatementMeta(spark3p2med, 58, 15, Finished, Available)"
            ]
          },
          "metadata": {},
          "output_type": "display_data"
        }
      ],
      "source": [
        "dfInsights_person_np = oea.load('stage2/Refined/M365/v'+ insights_version +'/sensitive/Person_lookup')\n",
        "dfInsights_aaduser_np = oea.load('stage2/Refined/M365/v' + insights_version + '/sensitive/AadUser_lookup')"
      ]
    },
    {
      "cell_type": "code",
      "execution_count": null,
      "metadata": {
        "collapsed": false,
        "jupyter": {
          "outputs_hidden": false,
          "source_hidden": false
        },
        "nteract": {
          "transient": {
            "deleting": false
          }
        }
      },
      "outputs": [
        {
          "data": {
            "application/vnd.livy.statement-meta+json": {
              "execution_finish_time": "2023-01-11T18:11:24.477678Z",
              "execution_start_time": "2023-01-11T18:11:20.4989114Z",
              "livy_statement_state": "available",
              "queued_time": "2023-01-11T18:11:20.3892032Z",
              "session_id": "58",
              "session_start_time": null,
              "spark_jobs": null,
              "spark_pool": "spark3p2med",
              "state": "finished",
              "statement_id": 16
            },
            "text/plain": [
              "StatementMeta(spark3p2med, 58, 16, Finished, Available)"
            ]
          },
          "metadata": {},
          "output_type": "display_data"
        },
        {
          "data": {
            "application/vnd.synapse.widget-view+json": {
              "widget_id": "9e25ee00-da5a-4a46-97de-0abfeab26a03",
              "widget_type": "Synapse.DataFrame"
            },
            "text/plain": [
              "SynapseWidget(Synapse.DataFrame, 9e25ee00-da5a-4a46-97de-0abfeab26a03)"
            ]
          },
          "metadata": {},
          "output_type": "display_data"
        }
      ],
      "source": [
        "# isolate relevant fields from dfStudent, and join with Person_lookup to get unhashed IDs as well as student names\n",
        "dfStudent_lookup = dfStudent.select('StudentId_pseudonym', 'UserPrincipalName_pseudonym')\n",
        "dfStudent_lookup = dfStudent_lookup.join(dfInsights_person_np, dfStudent_lookup.StudentId_pseudonym == dfInsights_person_np.Id_pseudonym, how='inner').drop('Id_pseudonym')\n",
        "dfStudent_lookup = dfStudent_lookup.select('StudentId_pseudonym','Id','Surname','GivenName','MiddleName','UserPrincipalName_pseudonym').withColumnRenamed('Id', 'StudentId')\n",
        "# join dfStudent with AADUser_lookup unhashed UPNs\n",
        "dfInsights_aaduser_np_ = dfInsights_aaduser_np.select('UserPrincipalName', 'UserPrincipalName_pseudonym').withColumnRenamed('UserPrincipalName_pseudonym', 'UPN_pseudo')\n",
        "dfStudent_lookup = dfStudent_lookup.join(dfInsights_aaduser_np_, dfStudent_lookup.UserPrincipalName_pseudonym == dfInsights_aaduser_np_.UPN_pseudo, how='inner').drop('UPN_pseudo')\n",
        "display(dfStudent_lookup.limit(10))"
      ]
    },
    {
      "attachments": {},
      "cell_type": "markdown",
      "metadata": {
        "nteract": {
          "transient": {
            "deleting": false
          }
        }
      },
      "source": [
        "### Write to Stage 3"
      ]
    },
    {
      "cell_type": "code",
      "execution_count": null,
      "metadata": {
        "jupyter": {
          "outputs_hidden": false,
          "source_hidden": false
        },
        "nteract": {
          "transient": {
            "deleting": false
          }
        }
      },
      "outputs": [
        {
          "data": {
            "application/vnd.livy.statement-meta+json": {
              "execution_finish_time": "2023-01-11T18:12:58.4520252Z",
              "execution_start_time": "2023-01-11T18:12:47.8073835Z",
              "livy_statement_state": "available",
              "queued_time": "2023-01-11T18:12:47.6838757Z",
              "session_id": "58",
              "session_start_time": null,
              "spark_jobs": null,
              "spark_pool": "spark3p2med",
              "state": "finished",
              "statement_id": 17
            },
            "text/plain": [
              "StatementMeta(spark3p2med, 58, 17, Finished, Available)"
            ]
          },
          "metadata": {},
          "output_type": "display_data"
        },
        {
          "name": "stdout",
          "output_type": "stream",
          "text": [
            "2023-01-11 18:12:57,409 - OEA - INFO - Number of new inbound rows processed: 600\n"
          ]
        },
        {
          "data": {
            "text/plain": [
              "600"
            ]
          },
          "execution_count": 37,
          "metadata": {},
          "output_type": "execute_result"
        }
      ],
      "source": [
        "publish(dfStudent_lookup, 'stage2/Enriched/learning_analytics/v1.0/sensitive/dim_Student_lookup', 'stage3/Published/learning_analytics/v1.0/sensitive/dim_Student_lookup', primary_key='StudentId_pseudonym')"
      ]
    },
    {
      "attachments": {},
      "cell_type": "markdown",
      "metadata": {
        "nteract": {
          "transient": {
            "deleting": false
          }
        }
      },
      "source": [
        "## 3.) Build dim_Instructor Table\n",
        "\n",
        "Data aggregations and curation on Insights activity and roster data: activity and Person (as well as others). *Note*: This only grabs the instructors listed in the Insights activity data; update for production purposes.\n",
        "\n",
        "This table has one row per instructor in the Insights roster data for the education system, with details around:\n",
        " - instructor IDs (previously, instructor internal ID or Person ID from the Person table), and\n",
        " - instructor names.\n",
        "\n",
        "This table is then written out to```(stage2 and stage3)/(Enriched and Published)/learning_analytics/v1.0/general/dim_Instructor```."
      ]
    },
    {
      "cell_type": "code",
      "execution_count": null,
      "metadata": {
        "jupyter": {
          "outputs_hidden": false,
          "source_hidden": false
        },
        "nteract": {
          "transient": {
            "deleting": false
          }
        }
      },
      "outputs": [
        {
          "data": {
            "application/vnd.livy.statement-meta+json": {
              "execution_finish_time": "2023-01-11T18:13:13.4143521Z",
              "execution_start_time": "2023-01-11T18:13:11.5525719Z",
              "livy_statement_state": "available",
              "queued_time": "2023-01-11T18:13:11.4151254Z",
              "session_id": "58",
              "session_start_time": null,
              "spark_jobs": null,
              "spark_pool": "spark3p2med",
              "state": "finished",
              "statement_id": 18
            },
            "text/plain": [
              "StatementMeta(spark3p2med, 58, 18, Finished, Available)"
            ]
          },
          "metadata": {},
          "output_type": "display_data"
        }
      ],
      "source": [
        "dfInsights_activity = oea.load('stage2/Refined/M365/v' + insights_version + '/general/activity')\n",
        "dfInsights_aaduser = oea.load('stage2/Refined/M365/v' + insights_version + '/general/AadUser')\n",
        "dfInsights_aaduserpersonmapping = oea.load('stage2/Refined/M365/v' + insights_version + '/general/AadUserPersonMapping')\n",
        "# lookup(s)\n",
        "dfInsights_aaduser_np = oea.load('stage2/Refined/M365/v' + insights_version + '/sensitive/AadUser_lookup')"
      ]
    },
    {
      "cell_type": "code",
      "execution_count": null,
      "metadata": {
        "collapsed": false,
        "jupyter": {
          "outputs_hidden": false,
          "source_hidden": false
        },
        "nteract": {
          "transient": {
            "deleting": false
          }
        }
      },
      "outputs": [
        {
          "data": {
            "application/vnd.livy.statement-meta+json": {
              "execution_finish_time": "2023-01-11T18:14:11.4261022Z",
              "execution_start_time": "2023-01-11T18:14:05.9933819Z",
              "livy_statement_state": "available",
              "queued_time": "2023-01-11T18:14:05.8744564Z",
              "session_id": "58",
              "session_start_time": null,
              "spark_jobs": null,
              "spark_pool": "spark3p2med",
              "state": "finished",
              "statement_id": 19
            },
            "text/plain": [
              "StatementMeta(spark3p2med, 58, 19, Finished, Available)"
            ]
          },
          "metadata": {},
          "output_type": "display_data"
        },
        {
          "data": {
            "application/vnd.synapse.widget-view+json": {
              "widget_id": "b098aa1a-8ec1-4b5a-bc07-9b2afa12f79d",
              "widget_type": "Synapse.DataFrame"
            },
            "text/plain": [
              "SynapseWidget(Synapse.DataFrame, b098aa1a-8ec1-4b5a-bc07-9b2afa12f79d)"
            ]
          },
          "metadata": {},
          "output_type": "display_data"
        }
      ],
      "source": [
        "# NOTE: Clean up this to only do the processes needed\n",
        "\"\"\"CONSIDER CREATING INSTRUCTOR GENERAL vs. LOOKUP\"\"\"\n",
        "# extract the classes/instructors initally provided from the Insights Activity test data, and extract the Instructor IDs, number of sections that the instructor currently teaches.\n",
        "dfInstructor = dfInsights_activity.filter(dfInsights_activity['ActorRole'] != 'Student')\n",
        "dfInstructor = dfInstructor.select('ClassId', 'ActorId_pseudonym', 'ActorRole')\n",
        "dfInstructor = dfInstructor.distinct()\n",
        "dfInstructor = dfInstructor.groupBy('ActorId_pseudonym').count()\n",
        "dfInstructor = dfInstructor.withColumnRenamed('ActorId_pseudonym', 'InstructorId_external_pseudonym').withColumnRenamed('count', 'NumSectionsCurrentlyInstructed')\n",
        "# use the AADUser_pseudo table to get the AAD User Object ID of each professor (to get their name)\n",
        "df_metadata = dfInsights_aaduser.filter(dfInsights_aaduser['Role'] != 'student')\n",
        "df_metadata = df_metadata.select('ObjectId_pseudonym', 'TeacherId_pseudonym', 'Role')\n",
        "dfInstructor = dfInstructor.join(df_metadata, dfInstructor.InstructorId_external_pseudonym == df_metadata.TeacherId_pseudonym, how='left')\n",
        "dfInstructor = dfInstructor.drop('TeacherId_pseudonym').withColumnRenamed('Role', 'InstructorRole')\n",
        "# use the AADUser_lookup table to get each professor's name\n",
        "df_metadata2 = dfInsights_aaduser_np.select('UserPrincipalName', 'ObjectId_pseudonym').withColumnRenamed('ObjectId_pseudonym', 'id')\n",
        "dfInstructor = dfInstructor.join(df_metadata2, dfInstructor.ObjectId_pseudonym == df_metadata2.id, how='inner')\n",
        "dfInstructor = dfInstructor.drop('id').withColumnRenamed('UserPrincipalName', 'InstructorName')\n",
        "# add each instructor's hashed internal ID (i.e. ID from Insights Person table)\n",
        "df_metadata = dfInsights_aaduserpersonmapping.select('ObjectId_pseudonym', 'PersonId_pseudonym').withColumnRenamed('ObjectId_pseudonym', 'id')\n",
        "dfInstructor = dfInstructor.join(df_metadata, dfInstructor.ObjectId_pseudonym == df_metadata.id, how='inner')\n",
        "dfInstructor = dfInstructor.withColumnRenamed('PersonId_pseudonym', 'InstructorId_internal_pseudonym')\n",
        "dfInstructor = dfInstructor.select('InstructorId_external_pseudonym', 'InstructorId_internal_pseudonym', 'InstructorRole', 'InstructorName', 'NumSectionsCurrentlyInstructed')\n",
        "display(dfInstructor.limit(10))"
      ]
    },
    {
      "cell_type": "code",
      "execution_count": null,
      "metadata": {
        "collapsed": false,
        "jupyter": {
          "outputs_hidden": false,
          "source_hidden": false
        },
        "nteract": {
          "transient": {
            "deleting": false
          }
        }
      },
      "outputs": [
        {
          "data": {
            "application/vnd.livy.statement-meta+json": {
              "execution_finish_time": "2023-01-11T18:14:57.784717Z",
              "execution_start_time": "2023-01-11T18:14:55.9334907Z",
              "livy_statement_state": "available",
              "queued_time": "2023-01-11T18:14:55.8178569Z",
              "session_id": "58",
              "session_start_time": null,
              "spark_jobs": null,
              "spark_pool": "spark3p2med",
              "state": "finished",
              "statement_id": 20
            },
            "text/plain": [
              "StatementMeta(spark3p2med, 58, 20, Finished, Available)"
            ]
          },
          "metadata": {},
          "output_type": "display_data"
        },
        {
          "data": {
            "application/vnd.synapse.widget-view+json": {
              "widget_id": "50982658-a53f-46c3-a681-b25810a23887",
              "widget_type": "Synapse.DataFrame"
            },
            "text/plain": [
              "SynapseWidget(Synapse.DataFrame, 50982658-a53f-46c3-a681-b25810a23887)"
            ]
          },
          "metadata": {},
          "output_type": "display_data"
        }
      ],
      "source": [
        "# ad hoc - remove unused columns\n",
        "dfInstructor = dfInstructor.select('InstructorId_internal_pseudonym', 'InstructorName').withColumnRenamed('InstructorId_internal_pseudonym', 'InstructorId_pseudonym')\n",
        "display(dfInstructor.limit(10))"
      ]
    },
    {
      "attachments": {},
      "cell_type": "markdown",
      "metadata": {
        "nteract": {
          "transient": {
            "deleting": false
          }
        }
      },
      "source": [
        "### Write to Stage 3"
      ]
    },
    {
      "cell_type": "code",
      "execution_count": null,
      "metadata": {
        "jupyter": {
          "outputs_hidden": false,
          "source_hidden": false
        },
        "nteract": {
          "transient": {
            "deleting": false
          }
        }
      },
      "outputs": [
        {
          "data": {
            "application/vnd.livy.statement-meta+json": {
              "execution_finish_time": "2023-01-11T18:16:08.0725671Z",
              "execution_start_time": "2023-01-11T18:16:01.1697754Z",
              "livy_statement_state": "available",
              "queued_time": "2023-01-11T18:16:01.0414767Z",
              "session_id": "58",
              "session_start_time": null,
              "spark_jobs": null,
              "spark_pool": "spark3p2med",
              "state": "finished",
              "statement_id": 21
            },
            "text/plain": [
              "StatementMeta(spark3p2med, 58, 21, Finished, Available)"
            ]
          },
          "metadata": {},
          "output_type": "display_data"
        },
        {
          "name": "stdout",
          "output_type": "stream",
          "text": [
            "2023-01-11 18:16:07,628 - OEA - INFO - Number of new inbound rows processed: 40\n"
          ]
        },
        {
          "data": {
            "text/plain": [
              "40"
            ]
          },
          "execution_count": 45,
          "metadata": {},
          "output_type": "execute_result"
        }
      ],
      "source": [
        "publish(dfInstructor, 'stage2/Enriched/learning_analytics/v1.0/general/dim_Instructor', 'stage3/Published/learning_analytics/v1.0/general/dim_Instructor', primary_key='InstructorId_pseudonym')"
      ]
    },
    {
      "attachments": {},
      "cell_type": "markdown",
      "metadata": {
        "nteract": {
          "transient": {
            "deleting": false
          }
        }
      },
      "source": [
        "## 4.) Build dim_Section Table\n",
        "\n",
        "Data aggregations and curation on Insights roster data: Section and SectionSession (and others). \n",
        "\n",
        "This table has one row per section/class in the Insights Section table, with details around:\n",
        " - section ID, \n",
        " - section name,\n",
        " - section start & end date, and\n",
        " - calendar cycle that this particular section belongs to.\n",
        "\n",
        "This table is then written out to```(stage2 and stage3)/(Enriched and Published)/learning_analytics/v1.0/general/dim_Section```."
      ]
    },
    {
      "cell_type": "code",
      "execution_count": null,
      "metadata": {
        "jupyter": {
          "outputs_hidden": false,
          "source_hidden": false
        },
        "nteract": {
          "transient": {
            "deleting": false
          }
        }
      },
      "outputs": [
        {
          "data": {
            "application/vnd.livy.statement-meta+json": {
              "execution_finish_time": "2023-01-11T18:16:45.3969437Z",
              "execution_start_time": "2023-01-11T18:16:40.0119189Z",
              "livy_statement_state": "available",
              "queued_time": "2023-01-11T18:16:39.8833434Z",
              "session_id": "58",
              "session_start_time": null,
              "spark_jobs": null,
              "spark_pool": "spark3p2med",
              "state": "finished",
              "statement_id": 22
            },
            "text/plain": [
              "StatementMeta(spark3p2med, 58, 22, Finished, Available)"
            ]
          },
          "metadata": {},
          "output_type": "display_data"
        }
      ],
      "source": [
        "dfInsights_activity = oea.load('stage2/Refined/M365/v' + insights_version + '/general/activity')\n",
        "dfInsights_aadgroup = oea.load('stage2/Refined/M365/v' + insights_version + '/general/AadGroup')\n",
        "#dfInsights_aadgroupmembership = oea.load('stage2/Refined/M365/v' + insights_version + '/general/AadGroupMembership')\n",
        "dfInsights_aaduserpersonmapping = oea.load('stage2/Refined/M365/v' + insights_version + '/general/AadUserPersonMapping')\n",
        "dfInsights_enrollment = oea.load('stage2/Refined/M365/v' + insights_version + '/general/Enrollment')\n",
        "dfInsights_section = oea.load('stage2/Refined/M365/v' + insights_version + '/general/Section')\n",
        "dfInsights_sectionsession = oea.load('stage2/Refined/M365/v' + insights_version + '/general/SectionSession')\n",
        "dfInsights_session = oea.load('stage2/Refined/M365/v' + insights_version + '/general/Session')\n",
        "# lookup(s)\n",
        "dfInsights_aadgroup_np = oea.load('stage2/Refined/M365/v' + insights_version + '/sensitive/AadGroup_lookup')"
      ]
    },
    {
      "cell_type": "code",
      "execution_count": null,
      "metadata": {
        "collapsed": false,
        "jupyter": {
          "outputs_hidden": false,
          "source_hidden": false
        },
        "nteract": {
          "transient": {
            "deleting": false
          }
        }
      },
      "outputs": [
        {
          "data": {
            "application/vnd.livy.statement-meta+json": {
              "execution_finish_time": "2023-01-11T18:16:59.5920015Z",
              "execution_start_time": "2023-01-11T18:16:56.6693912Z",
              "livy_statement_state": "available",
              "queued_time": "2023-01-11T18:16:56.4849025Z",
              "session_id": "58",
              "session_start_time": null,
              "spark_jobs": null,
              "spark_pool": "spark3p2med",
              "state": "finished",
              "statement_id": 23
            },
            "text/plain": [
              "StatementMeta(spark3p2med, 58, 23, Finished, Available)"
            ]
          },
          "metadata": {},
          "output_type": "display_data"
        },
        {
          "data": {
            "application/vnd.synapse.widget-view+json": {
              "widget_id": "31bbb1f5-8bd1-4135-abc9-f81c87a083e6",
              "widget_type": "Synapse.DataFrame"
            },
            "text/plain": [
              "SynapseWidget(Synapse.DataFrame, 31bbb1f5-8bd1-4135-abc9-f81c87a083e6)"
            ]
          },
          "metadata": {},
          "output_type": "display_data"
        }
      ],
      "source": [
        "# NOTE: Clean up this to only do the processes needed\n",
        "# extract the classes initally provided from the Insights Activity test data, and extract the Teacher IDs \n",
        "dfClass = dfInsights_activity.filter(dfInsights_activity['ActorRole'] != 'Student')\n",
        "dfClass = dfClass.filter(dfClass['ActorRole'] != 'ActorRole')\n",
        "dfClass = dfClass.select('ClassId', 'ActorId_pseudonym', 'ActorRole')\n",
        "dfClass = dfClass.groupBy('ClassId', 'ActorId_pseudonym', 'ActorRole').count()\n",
        "dfClass = dfClass.withColumnRenamed('ClassId', 'AADGroup_ClassId').withColumnRenamed('ActorId_pseudonym', 'InstructorId_external_pseudonym').withColumnRenamed('ActorRole', 'PersonRole')\n",
        "dfClass = dfClass.drop('count')\n",
        "# join the Insights AADGroup_pseudo and _lookup table to the dfClass table, to provide mapping of the hashed and non-hashed AADGroup Class IDs\n",
        "dfInsights_aadgroup_np_ = dfInsights_aadgroup_np.select('ObjectId', 'DisplayName', 'ObjectId_pseudonym').withColumnRenamed('ObjectId', 'Id').withColumnRenamed('ObjectId_pseudonym', 'AADGroup_ClassId_pseudonym')\n",
        "dfClass = dfClass.join(dfInsights_aadgroup_np_, dfClass.AADGroup_ClassId == dfInsights_aadgroup_np_.Id, how='inner')\n",
        "dfClass = dfClass.drop('Id')\n",
        "dfInsights_aadgroup_ = dfInsights_aadgroup.select('ObjectId_pseudonym', 'SectionId')\n",
        "dfClass = dfClass.join(dfInsights_aadgroup_, dfClass.AADGroup_ClassId_pseudonym == dfInsights_aadgroup_.ObjectId_pseudonym, how='inner')\n",
        "dfClass = dfClass.drop('ObjectId_pseudonym', 'PersonRole').withColumnRenamed('DisplayName', 'SectionName')\n",
        "# then, use the Enrollment table to group by class/Section and count the number of students enrolled within each class\n",
        "df_metadata = dfInsights_enrollment.select('PersonId_pseudonym', 'SectionId', 'RefSectionRoleId').withColumnRenamed('SectionId', 'id')\n",
        "df_metadata = df_metadata.filter(df_metadata['RefSectionRoleId'] == 'Student')\n",
        "df_metadata = df_metadata.groupBy('id').count()\n",
        "df_metadata = df_metadata.withColumnRenamed('count', 'NumStudentsEnrolledInSection')\n",
        "dfClass = dfClass.join(df_metadata, dfClass.SectionId == df_metadata.id, how='inner')\n",
        "dfClass = dfClass.select('SectionId', 'SectionName', 'InstructorId_external_pseudonym', 'NumStudentsEnrolledInSection')\n",
        "display(dfClass.limit(10))"
      ]
    },
    {
      "cell_type": "code",
      "execution_count": null,
      "metadata": {
        "collapsed": false,
        "jupyter": {
          "outputs_hidden": false,
          "source_hidden": false
        },
        "nteract": {
          "transient": {
            "deleting": false
          }
        }
      },
      "outputs": [
        {
          "data": {
            "application/vnd.livy.statement-meta+json": {
              "execution_finish_time": "2023-01-11T18:17:09.2041062Z",
              "execution_start_time": "2023-01-11T18:17:05.2603049Z",
              "livy_statement_state": "available",
              "queued_time": "2023-01-11T18:17:05.1539985Z",
              "session_id": "58",
              "session_start_time": null,
              "spark_jobs": null,
              "spark_pool": "spark3p2med",
              "state": "finished",
              "statement_id": 24
            },
            "text/plain": [
              "StatementMeta(spark3p2med, 58, 24, Finished, Available)"
            ]
          },
          "metadata": {},
          "output_type": "display_data"
        },
        {
          "data": {
            "application/vnd.synapse.widget-view+json": {
              "widget_id": "982736f4-7e65-4989-b373-d870ab4fc78e",
              "widget_type": "Synapse.DataFrame"
            },
            "text/plain": [
              "SynapseWidget(Synapse.DataFrame, 982736f4-7e65-4989-b373-d870ab4fc78e)"
            ]
          },
          "metadata": {},
          "output_type": "display_data"
        }
      ],
      "source": [
        "# ad hoc - drop now-unused columns and join with SectionSession data\n",
        "dfSection = dfClass.select('SectionId', 'SectionName')\n",
        "df_metadata1 = dfInsights_sectionsession.select('SectionId', 'SessionId').withColumnRenamed('SectionId', 'id')\n",
        "dfSection = dfSection.join(df_metadata1, dfSection.SectionId == df_metadata1.id, how='inner').drop('id')\n",
        "df_metadata2 = dfInsights_session.select('Id', 'Name', 'StartDate', 'EndDate')\n",
        "dfSection = dfSection.join(df_metadata2, dfSection.SessionId == df_metadata2.Id, how='inner').drop('SessionId', 'Id')\n",
        "dfSection = dfSection.select('SectionId', 'SectionName', 'StartDate', 'EndDate', 'Name').withColumnRenamed('StartDate', 'SectionStartDate').withColumnRenamed('EndDate', 'SectionEndDate').withColumnRenamed('Name', 'CalendarCycle')\n",
        "display(dfSection.limit(10))"
      ]
    },
    {
      "attachments": {},
      "cell_type": "markdown",
      "metadata": {
        "nteract": {
          "transient": {
            "deleting": false
          }
        }
      },
      "source": [
        "### Write to Stage 3"
      ]
    },
    {
      "cell_type": "code",
      "execution_count": null,
      "metadata": {
        "jupyter": {
          "outputs_hidden": false,
          "source_hidden": false
        },
        "nteract": {
          "transient": {
            "deleting": false
          }
        }
      },
      "outputs": [
        {
          "data": {
            "application/vnd.livy.statement-meta+json": {
              "execution_finish_time": "2023-01-11T18:18:39.6738794Z",
              "execution_start_time": "2023-01-11T18:18:30.8510335Z",
              "livy_statement_state": "available",
              "queued_time": "2023-01-11T18:18:30.7036186Z",
              "session_id": "58",
              "session_start_time": null,
              "spark_jobs": null,
              "spark_pool": "spark3p2med",
              "state": "finished",
              "statement_id": 25
            },
            "text/plain": [
              "StatementMeta(spark3p2med, 58, 25, Finished, Available)"
            ]
          },
          "metadata": {},
          "output_type": "display_data"
        },
        {
          "name": "stdout",
          "output_type": "stream",
          "text": [
            "2023-01-11 18:18:39,226 - OEA - INFO - Number of new inbound rows processed: 87\n"
          ]
        },
        {
          "data": {
            "text/plain": [
              "87"
            ]
          },
          "execution_count": 53,
          "metadata": {},
          "output_type": "execute_result"
        }
      ],
      "source": [
        "publish(dfSection, 'stage2/Enriched/learning_analytics/v1.0/general/dim_Section', 'stage3/Published/learning_analytics/v1.0/general/dim_Section', primary_key='SectionId')"
      ]
    },
    {
      "attachments": {},
      "cell_type": "markdown",
      "metadata": {
        "nteract": {
          "transient": {
            "deleting": false
          }
        }
      },
      "source": [
        "## 5.) Build dim_Course Table\n",
        "\n",
        "Data aggregations and curation on Insights roster data: Course and CourseGradeLevel (and others). \n",
        "\n",
        "This table has one row per course in the Insights Course table, with details around:\n",
        " - course ID, \n",
        " - course name,\n",
        " - course grade level, and\n",
        " - the number of students enrolled in each course.\n",
        "\n",
        "This table is then written out to```(stage2 and stage3)/(Enriched and Published)/learning_analytics/v1.0/general/dim_Course```."
      ]
    },
    {
      "cell_type": "code",
      "execution_count": null,
      "metadata": {
        "jupyter": {
          "outputs_hidden": false,
          "source_hidden": false
        },
        "nteract": {
          "transient": {
            "deleting": false
          }
        }
      },
      "outputs": [
        {
          "data": {
            "application/vnd.livy.statement-meta+json": {
              "execution_finish_time": "2023-01-11T18:30:34.3431388Z",
              "execution_start_time": "2023-01-11T18:30:33.8175526Z",
              "livy_statement_state": "available",
              "queued_time": "2023-01-11T18:30:33.7030433Z",
              "session_id": "58",
              "session_start_time": null,
              "spark_jobs": null,
              "spark_pool": "spark3p2med",
              "state": "finished",
              "statement_id": 29
            },
            "text/plain": [
              "StatementMeta(spark3p2med, 58, 29, Finished, Available)"
            ]
          },
          "metadata": {},
          "output_type": "display_data"
        }
      ],
      "source": [
        "dfInsights_course = oea.load('stage2/Refined/M365/v' + insights_version + '/general/Course')\n",
        "dfInsights_coursegradelevel = oea.load('stage2/Refined/M365/v' + insights_version + '/general/CourseGradeLevel')\n",
        "dfInsights_enrollment = oea.load('stage2/Refined/M365/v' + insights_version + '/general/Enrollment')\n",
        "dfInsights_refdefinition = oea.load('stage2/Refined/M365/v' + insights_version + '/general/RefDefinition')\n",
        "dfInsights_section = oea.load('stage2/Refined/M365/v' + insights_version + '/general/Section')"
      ]
    },
    {
      "cell_type": "code",
      "execution_count": null,
      "metadata": {
        "collapsed": false,
        "jupyter": {
          "outputs_hidden": false,
          "source_hidden": false
        },
        "nteract": {
          "transient": {
            "deleting": false
          }
        }
      },
      "outputs": [
        {
          "data": {
            "application/vnd.livy.statement-meta+json": {
              "execution_finish_time": "2023-01-11T18:19:56.513875Z",
              "execution_start_time": "2023-01-11T18:19:53.6881386Z",
              "livy_statement_state": "available",
              "queued_time": "2023-01-11T18:19:53.559018Z",
              "session_id": "58",
              "session_start_time": null,
              "spark_jobs": null,
              "spark_pool": "spark3p2med",
              "state": "finished",
              "statement_id": 27
            },
            "text/plain": [
              "StatementMeta(spark3p2med, 58, 27, Finished, Available)"
            ]
          },
          "metadata": {},
          "output_type": "display_data"
        },
        {
          "data": {
            "application/vnd.synapse.widget-view+json": {
              "widget_id": "f02f70c3-f58f-4b11-b22c-e7fb58d51137",
              "widget_type": "Synapse.DataFrame"
            },
            "text/plain": [
              "SynapseWidget(Synapse.DataFrame, f02f70c3-f58f-4b11-b22c-e7fb58d51137)"
            ]
          },
          "metadata": {},
          "output_type": "display_data"
        }
      ],
      "source": [
        "# NOTE: Clean up this to only do the processes needed; CourseGradeLevel bug.\n",
        "# grab each course's ID and name, and RefGradeLevelId\n",
        "dfCourse = dfInsights_course.select('Id', 'Name')\n",
        "df_metadata = dfInsights_coursegradelevel.select('CourseId', 'RefGradeLevelId')\n",
        "df_metadata = df_metadata.filter(df_metadata['CourseId'] != 'CourseId')\n",
        "dfCourse = dfCourse.join(df_metadata, dfCourse.Id == df_metadata.CourseId, how='inner').drop('CourseId')\n",
        "# join class table with RefDefinition table to get the grade level of each course\n",
        "df_metadata = dfInsights_refdefinition.select('Id', 'Code').withColumnRenamed('Id', 'refId')\n",
        "dfCourse = dfCourse.join(df_metadata, dfCourse.RefGradeLevelId == df_metadata.refId, how='inner').drop('refId', 'RefGradeLevelId')\n",
        "dfCourse = dfCourse.withColumnRenamed('Id', 'CourseId').withColumnRenamed('Name', 'CourseName').withColumnRenamed('Code', 'CourseGradeLevel')\n",
        "display(dfCourse.limit(10))"
      ]
    },
    {
      "cell_type": "code",
      "execution_count": null,
      "metadata": {
        "collapsed": false,
        "jupyter": {
          "outputs_hidden": false,
          "source_hidden": false
        },
        "nteract": {
          "transient": {
            "deleting": false
          }
        }
      },
      "outputs": [
        {
          "data": {
            "application/vnd.livy.statement-meta+json": {
              "execution_finish_time": "2023-01-11T18:31:01.5134673Z",
              "execution_start_time": "2023-01-11T18:30:56.1478908Z",
              "livy_statement_state": "available",
              "queued_time": "2023-01-11T18:30:56.0337517Z",
              "session_id": "58",
              "session_start_time": null,
              "spark_jobs": null,
              "spark_pool": "spark3p2med",
              "state": "finished",
              "statement_id": 30
            },
            "text/plain": [
              "StatementMeta(spark3p2med, 58, 30, Finished, Available)"
            ]
          },
          "metadata": {},
          "output_type": "display_data"
        },
        {
          "name": "stdout",
          "output_type": "stream",
          "text": [
            "Number of Courses (should be 87):\n",
            "87\n"
          ]
        },
        {
          "data": {
            "application/vnd.synapse.widget-view+json": {
              "widget_id": "9dba11c3-5f29-4c8c-b699-c972ad858b07",
              "widget_type": "Synapse.DataFrame"
            },
            "text/plain": [
              "SynapseWidget(Synapse.DataFrame, 9dba11c3-5f29-4c8c-b699-c972ad858b07)"
            ]
          },
          "metadata": {},
          "output_type": "display_data"
        }
      ],
      "source": [
        "# NOTE: This will need to be updated for production purposes.\n",
        "# add a column for the number of enrolled students - found through using the Insights Enrollment and Section tables\n",
        "df_metadata = dfInsights_enrollment.select('PersonId_pseudonym', 'SectionId', 'RefSectionRoleId')\n",
        "df_metadata = df_metadata.filter(df_metadata['RefSectionRoleId'] == 'Student')\n",
        "df_metadata2 = dfInsights_section.select('Id', 'CourseId')\n",
        "df_metadata = df_metadata.join(df_metadata2, df_metadata.SectionId == df_metadata2.Id, how='inner').drop('SectionId', 'Id')\n",
        "df_metadata = df_metadata.withColumnRenamed('CourseId', 'id')\n",
        "df_metadata = df_metadata.groupBy('id').count()\n",
        "df_metadata = df_metadata.withColumnRenamed('count', 'EnrolledStudents')\n",
        "dfCourse = dfCourse.join(df_metadata, dfCourse.CourseId == df_metadata.id, how='inner').drop('id')\n",
        "print('Number of Courses (should be 87):')\n",
        "print(dfCourse.count())\n",
        "display(dfCourse.limit(10))"
      ]
    },
    {
      "attachments": {},
      "cell_type": "markdown",
      "metadata": {
        "nteract": {
          "transient": {
            "deleting": false
          }
        }
      },
      "source": [
        "### Write to Stage 3"
      ]
    },
    {
      "cell_type": "code",
      "execution_count": null,
      "metadata": {
        "jupyter": {
          "outputs_hidden": false,
          "source_hidden": false
        },
        "nteract": {
          "transient": {
            "deleting": false
          }
        }
      },
      "outputs": [
        {
          "data": {
            "application/vnd.livy.statement-meta+json": {
              "execution_finish_time": "2023-01-11T18:33:20.6358871Z",
              "execution_start_time": "2023-01-11T18:33:11.872578Z",
              "livy_statement_state": "available",
              "queued_time": "2023-01-11T18:33:11.7672537Z",
              "session_id": "58",
              "session_start_time": null,
              "spark_jobs": null,
              "spark_pool": "spark3p2med",
              "state": "finished",
              "statement_id": 31
            },
            "text/plain": [
              "StatementMeta(spark3p2med, 58, 31, Finished, Available)"
            ]
          },
          "metadata": {},
          "output_type": "display_data"
        },
        {
          "name": "stdout",
          "output_type": "stream",
          "text": [
            "2023-01-11 18:33:19,158 - OEA - INFO - Number of new inbound rows processed: 87\n"
          ]
        },
        {
          "data": {
            "text/plain": [
              "87"
            ]
          },
          "execution_count": 65,
          "metadata": {},
          "output_type": "execute_result"
        }
      ],
      "source": [
        "publish(dfCourse, 'stage2/Enriched/learning_analytics/v1.0/general/dim_Course', 'stage3/Published/learning_analytics/v1.0/general/dim_Course', primary_key='CourseId')"
      ]
    },
    {
      "attachments": {},
      "cell_type": "markdown",
      "metadata": {
        "nteract": {
          "transient": {
            "deleting": false
          }
        }
      },
      "source": [
        "## 6.) Build dim_School Table\n",
        "\n",
        "Data aggregations and curation on Insights roster data: Organization. \n",
        "\n",
        "This table has one row per school in the Insights Organization table, with details around:\n",
        " - school ID, \n",
        " - school name,\n",
        " - country of location, and\n",
        " - latitude & longitude coordinates of school location.\n",
        "\n",
        "This table is then written out to```(stage2 and stage3)/(Enriched and Published)/learning_analytics/v1.0/general/dim_School```."
      ]
    },
    {
      "cell_type": "code",
      "execution_count": null,
      "metadata": {
        "jupyter": {
          "outputs_hidden": false,
          "source_hidden": false
        },
        "nteract": {
          "transient": {
            "deleting": false
          }
        }
      },
      "outputs": [
        {
          "data": {
            "application/vnd.livy.statement-meta+json": {
              "execution_finish_time": "2023-01-11T18:33:28.2146896Z",
              "execution_start_time": "2023-01-11T18:33:27.0870257Z",
              "livy_statement_state": "available",
              "queued_time": "2023-01-11T18:33:26.9802118Z",
              "session_id": "58",
              "session_start_time": null,
              "spark_jobs": null,
              "spark_pool": "spark3p2med",
              "state": "finished",
              "statement_id": 32
            },
            "text/plain": [
              "StatementMeta(spark3p2med, 58, 32, Finished, Available)"
            ]
          },
          "metadata": {},
          "output_type": "display_data"
        }
      ],
      "source": [
        "dfInsights_org = oea.load('stage2/Refined/M365/v' + insights_version + '/general/Organization')"
      ]
    },
    {
      "cell_type": "code",
      "execution_count": null,
      "metadata": {
        "collapsed": false,
        "jupyter": {
          "outputs_hidden": false,
          "source_hidden": false
        },
        "nteract": {
          "transient": {
            "deleting": false
          }
        }
      },
      "outputs": [
        {
          "data": {
            "application/vnd.livy.statement-meta+json": {
              "execution_finish_time": "2023-01-11T18:33:30.6828889Z",
              "execution_start_time": "2023-01-11T18:33:30.1578528Z",
              "livy_statement_state": "available",
              "queued_time": "2023-01-11T18:33:30.0501108Z",
              "session_id": "58",
              "session_start_time": null,
              "spark_jobs": null,
              "spark_pool": "spark3p2med",
              "state": "finished",
              "statement_id": 33
            },
            "text/plain": [
              "StatementMeta(spark3p2med, 58, 33, Finished, Available)"
            ]
          },
          "metadata": {},
          "output_type": "display_data"
        },
        {
          "data": {
            "application/vnd.synapse.widget-view+json": {
              "widget_id": "2c8a6f08-c3b4-41af-babb-470dc7e342c5",
              "widget_type": "Synapse.DataFrame"
            },
            "text/plain": [
              "SynapseWidget(Synapse.DataFrame, 2c8a6f08-c3b4-41af-babb-470dc7e342c5)"
            ]
          },
          "metadata": {},
          "output_type": "display_data"
        }
      ],
      "source": [
        "# isolate the relevant columns from the Organization table\n",
        "dfSchool = dfInsights_org.select('Id', 'Name')\n",
        "dfSchool = dfSchool.withColumnRenamed('Id', 'SchoolId').withColumnRenamed('Name', 'SchoolName')\n",
        "# fill in US for country of location, temporarily - and add additional columns as placeholders for now\n",
        "dfSchool = dfSchool.withColumn('Country', F.lit('United States of America')).withColumn('Latitude', F.lit('')).withColumn('Longitude', F.lit(''))\n",
        "display(dfSchool)"
      ]
    },
    {
      "attachments": {},
      "cell_type": "markdown",
      "metadata": {
        "nteract": {
          "transient": {
            "deleting": false
          }
        }
      },
      "source": [
        "### Write to Stage 3"
      ]
    },
    {
      "cell_type": "code",
      "execution_count": null,
      "metadata": {
        "jupyter": {
          "outputs_hidden": false,
          "source_hidden": false
        },
        "nteract": {
          "transient": {
            "deleting": false
          }
        }
      },
      "outputs": [
        {
          "data": {
            "application/vnd.livy.statement-meta+json": {
              "execution_finish_time": "2023-01-11T18:34:11.2772262Z",
              "execution_start_time": "2023-01-11T18:34:05.8525779Z",
              "livy_statement_state": "available",
              "queued_time": "2023-01-11T18:34:05.7451868Z",
              "session_id": "58",
              "session_start_time": null,
              "spark_jobs": null,
              "spark_pool": "spark3p2med",
              "state": "finished",
              "statement_id": 34
            },
            "text/plain": [
              "StatementMeta(spark3p2med, 58, 34, Finished, Available)"
            ]
          },
          "metadata": {},
          "output_type": "display_data"
        },
        {
          "name": "stdout",
          "output_type": "stream",
          "text": [
            "2023-01-11 18:34:10,951 - OEA - INFO - Number of new inbound rows processed: 5\n"
          ]
        },
        {
          "data": {
            "text/plain": [
              "5"
            ]
          },
          "execution_count": 71,
          "metadata": {},
          "output_type": "execute_result"
        }
      ],
      "source": [
        "publish(dfSchool, 'stage2/Enriched/learning_analytics/v1.0/general/dim_School', 'stage3/Published/learning_analytics/v1.0/general/dim_School', primary_key='SchoolId')"
      ]
    },
    {
      "attachments": {},
      "cell_type": "markdown",
      "metadata": {
        "nteract": {
          "transient": {
            "deleting": false
          }
        }
      },
      "source": [
        "## 7.) Build dim_Meeting Table\n",
        "\n",
        "Data aggregations and curation on Insights activity data and Graph meeting_attendance_report pertaining to meetings. \n",
        "\n",
        "This table has one row per meeting recorded in both Insights and from the Graph query, with details around:\n",
        " - meeting ID,\n",
        " - date of the meeting,\n",
        " - meeting start time,\n",
        " - meeting end time, and\n",
        " - type of meeting.\n",
        "\n",
        "This table is then written out to```(stage2 and stage3)/(Enriched and Published)/learning_analytics/v1.0/general/dim_Meeting```."
      ]
    },
    {
      "cell_type": "code",
      "execution_count": null,
      "metadata": {
        "jupyter": {
          "outputs_hidden": false,
          "source_hidden": false
        },
        "nteract": {
          "transient": {
            "deleting": false
          }
        }
      },
      "outputs": [
        {
          "data": {
            "application/vnd.livy.statement-meta+json": {
              "execution_finish_time": "2023-01-11T18:38:30.2326893Z",
              "execution_start_time": "2023-01-11T18:38:28.3977086Z",
              "livy_statement_state": "available",
              "queued_time": "2023-01-11T18:38:28.2697807Z",
              "session_id": "58",
              "session_start_time": null,
              "spark_jobs": null,
              "spark_pool": "spark3p2med",
              "state": "finished",
              "statement_id": 35
            },
            "text/plain": [
              "StatementMeta(spark3p2med, 58, 35, Finished, Available)"
            ]
          },
          "metadata": {},
          "output_type": "display_data"
        }
      ],
      "source": [
        "dfInsights_activity = oea.load('stage2/Refined/M365/v' + insights_version + '/general/activity')\n",
        "dfGraph_meetingAtten = oea.load('stage2/Refined/graph_api/v1.0/general/meeting_attendance_report')"
      ]
    },
    {
      "cell_type": "code",
      "execution_count": null,
      "metadata": {
        "collapsed": false,
        "jupyter": {
          "outputs_hidden": false,
          "source_hidden": false
        },
        "nteract": {
          "transient": {
            "deleting": false
          }
        }
      },
      "outputs": [
        {
          "data": {
            "application/vnd.livy.statement-meta+json": {
              "execution_finish_time": "2023-01-11T18:38:37.1071033Z",
              "execution_start_time": "2023-01-11T18:38:35.2679008Z",
              "livy_statement_state": "available",
              "queued_time": "2023-01-11T18:38:35.0989628Z",
              "session_id": "58",
              "session_start_time": null,
              "spark_jobs": null,
              "spark_pool": "spark3p2med",
              "state": "finished",
              "statement_id": 36
            },
            "text/plain": [
              "StatementMeta(spark3p2med, 58, 36, Finished, Available)"
            ]
          },
          "metadata": {},
          "output_type": "display_data"
        },
        {
          "data": {
            "application/vnd.synapse.widget-view+json": {
              "widget_id": "aaf219c2-b679-4cb4-add9-d8cebe2f8722",
              "widget_type": "Synapse.DataFrame"
            },
            "text/plain": [
              "SynapseWidget(Synapse.DataFrame, aaf219c2-b679-4cb4-add9-d8cebe2f8722)"
            ]
          },
          "metadata": {},
          "output_type": "display_data"
        }
      ],
      "source": [
        "# grab only the relevant data for the Meeting dimension table from Graph\n",
        "dfMeeting = dfGraph_meetingAtten.select('meetingId', 'meetingStartDateTime', 'meetingEndDateTime')\n",
        "dfMeeting = dfMeeting.groupBy('meetingId', 'meetingStartDateTime', 'meetingEndDateTime').count()\n",
        "dfMeeting = dfMeeting.drop('count')\n",
        "# grab only the relevant data for the Meeting table from Insights activity, and join the meeting type to the dfMeeting table\n",
        "df_metadata = dfInsights_activity.select('MeetingSessionId', 'MeetingType')\n",
        "df_metadata = df_metadata.groupBy('MeetingSessionId', 'MeetingType').count()\n",
        "df_metadata = df_metadata.drop('count')\n",
        "dfMeeting = dfMeeting.join(df_metadata, dfMeeting.meetingId == df_metadata.MeetingSessionId, how='inner').drop('MeetingSessionId')\n",
        "dfMeeting = dfMeeting.withColumnRenamed('meetingId', 'MeetingId').withColumnRenamed('meetingStartDateTime', 'StartTime').withColumnRenamed('meetingEndDateTime', 'EndTime')\n",
        "# add an additional column for the date of the meeting, and make the time columns only contain the times, without dates\n",
        "dfMeeting = dfMeeting.withColumn('MeetingDate', F.to_date(F.col('StartTime')))\n",
        "dfMeeting = dfMeeting.withColumn('STime', F.date_format('StartTime', 'HH:mm:ss')).withColumn('ETime', F.date_format('EndTime', 'HH:mm:ss')).drop('StartTime', 'EndTime')\n",
        "dfMeeting = dfMeeting.withColumnRenamed('STime', 'StartTime').withColumnRenamed('ETime', 'EndTime')\n",
        "dfMeeting = dfMeeting.select('MeetingId', 'MeetingDate', 'StartTime', 'EndTime', 'MeetingType')\n",
        "display(dfMeeting.limit(10))"
      ]
    },
    {
      "attachments": {},
      "cell_type": "markdown",
      "metadata": {
        "nteract": {
          "transient": {
            "deleting": false
          }
        }
      },
      "source": [
        "### Write to Stage 3"
      ]
    },
    {
      "cell_type": "code",
      "execution_count": null,
      "metadata": {
        "jupyter": {
          "outputs_hidden": false,
          "source_hidden": false
        },
        "nteract": {
          "transient": {
            "deleting": false
          }
        }
      },
      "outputs": [
        {
          "data": {
            "application/vnd.livy.statement-meta+json": {
              "execution_finish_time": "2023-01-11T18:39:37.3412897Z",
              "execution_start_time": "2023-01-11T18:39:30.2643382Z",
              "livy_statement_state": "available",
              "queued_time": "2023-01-11T18:39:30.1549355Z",
              "session_id": "58",
              "session_start_time": null,
              "spark_jobs": null,
              "spark_pool": "spark3p2med",
              "state": "finished",
              "statement_id": 37
            },
            "text/plain": [
              "StatementMeta(spark3p2med, 58, 37, Finished, Available)"
            ]
          },
          "metadata": {},
          "output_type": "display_data"
        },
        {
          "name": "stdout",
          "output_type": "stream",
          "text": [
            "2023-01-11 18:39:35,853 - OEA - INFO - Number of new inbound rows processed: 261\n"
          ]
        },
        {
          "data": {
            "text/plain": [
              "261"
            ]
          },
          "execution_count": 77,
          "metadata": {},
          "output_type": "execute_result"
        }
      ],
      "source": [
        "publish(dfMeeting, 'stage2/Enriched/learning_analytics/v1.0/general/dim_Meeting', 'stage3/Published/learning_analytics/v1.0/general/dim_Meeting', primary_key='MeetingId')"
      ]
    },
    {
      "attachments": {},
      "cell_type": "markdown",
      "metadata": {
        "nteract": {
          "transient": {
            "deleting": false
          }
        }
      },
      "source": [
        "## 8.) Build dim_AssignmentStatus Table\n",
        "\n",
        "Data aggregations and curation on Insights activity data pertaining to the 4 possible assignment status's seen from the Insights activity table.\n",
        "\n",
        "This table has one row per assignment status from the activity table, with details on what the encoded AssignmentStatusId represents.\n",
        "\n",
        "This table is then written out to```(stage2 and stage3)/(Enriched and Published)/learning_analytics/v1.0/general/dim_AssignmentStatus```."
      ]
    },
    {
      "cell_type": "code",
      "execution_count": null,
      "metadata": {
        "jupyter": {
          "outputs_hidden": false,
          "source_hidden": false
        },
        "nteract": {
          "transient": {
            "deleting": false
          }
        }
      },
      "outputs": [
        {
          "data": {
            "application/vnd.livy.statement-meta+json": {
              "execution_finish_time": "2023-01-11T18:40:29.4950172Z",
              "execution_start_time": "2023-01-11T18:40:29.3216987Z",
              "livy_statement_state": "available",
              "queued_time": "2023-01-11T18:40:29.1623166Z",
              "session_id": "58",
              "session_start_time": null,
              "spark_jobs": null,
              "spark_pool": "spark3p2med",
              "state": "finished",
              "statement_id": 38
            },
            "text/plain": [
              "StatementMeta(spark3p2med, 58, 38, Finished, Available)"
            ]
          },
          "metadata": {},
          "output_type": "display_data"
        }
      ],
      "source": [
        "dfInsights_activity = oea.load('stage2/Refined/M365/v' + insights_version + '/general/activity')"
      ]
    },
    {
      "cell_type": "code",
      "execution_count": null,
      "metadata": {
        "collapsed": false,
        "jupyter": {
          "outputs_hidden": false,
          "source_hidden": false
        },
        "nteract": {
          "transient": {
            "deleting": false
          }
        }
      },
      "outputs": [
        {
          "data": {
            "application/vnd.livy.statement-meta+json": {
              "execution_finish_time": "2023-01-11T18:40:34.9406229Z",
              "execution_start_time": "2023-01-11T18:40:33.8068213Z",
              "livy_statement_state": "available",
              "queued_time": "2023-01-11T18:40:33.6720241Z",
              "session_id": "58",
              "session_start_time": null,
              "spark_jobs": null,
              "spark_pool": "spark3p2med",
              "state": "finished",
              "statement_id": 39
            },
            "text/plain": [
              "StatementMeta(spark3p2med, 58, 39, Finished, Available)"
            ]
          },
          "metadata": {},
          "output_type": "display_data"
        },
        {
          "data": {
            "application/vnd.synapse.widget-view+json": {
              "widget_id": "eae073d2-6fda-4d00-8418-9cc3c6acf63b",
              "widget_type": "Synapse.DataFrame"
            },
            "text/plain": [
              "SynapseWidget(Synapse.DataFrame, eae073d2-6fda-4d00-8418-9cc3c6acf63b)"
            ]
          },
          "metadata": {},
          "output_type": "display_data"
        }
      ],
      "source": [
        "# build assignment status table, based on the possible assignment actions from the Insights activity table\n",
        "dfAssignStatus = dfInsights_activity.select('AppName', 'Action')\n",
        "dfAssignStatus = dfAssignStatus.filter(dfAssignStatus['AppName'] == 'Assignments')\n",
        "dfAssignStatus = dfAssignStatus.groupBy('Action').count()\n",
        "dfAssignStatus = dfAssignStatus.withColumn('AssignmentStatusId', F.when(F.col('Action') == 'Assigned', '1').otherwise(F.when(F.col('Action') == 'Visited', '2').otherwise(F.when(F.col('Action') == 'Submitted', '3').otherwise(F.when(F.col('Action') == 'Returned', '4')))))\n",
        "dfAssignStatus = dfAssignStatus.drop('count').withColumnRenamed('Action', 'AssignmentStatus')\n",
        "display(dfAssignStatus.limit(10))"
      ]
    },
    {
      "attachments": {},
      "cell_type": "markdown",
      "metadata": {
        "nteract": {
          "transient": {
            "deleting": false
          }
        }
      },
      "source": [
        "### Write to Stage 3"
      ]
    },
    {
      "cell_type": "code",
      "execution_count": null,
      "metadata": {
        "jupyter": {
          "outputs_hidden": false,
          "source_hidden": false
        },
        "nteract": {
          "transient": {
            "deleting": false
          }
        }
      },
      "outputs": [
        {
          "data": {
            "application/vnd.livy.statement-meta+json": {
              "execution_finish_time": "2023-01-11T18:42:02.9588647Z",
              "execution_start_time": "2023-01-11T18:41:57.632421Z",
              "livy_statement_state": "available",
              "queued_time": "2023-01-11T18:41:57.3351772Z",
              "session_id": "58",
              "session_start_time": null,
              "spark_jobs": null,
              "spark_pool": "spark3p2med",
              "state": "finished",
              "statement_id": 40
            },
            "text/plain": [
              "StatementMeta(spark3p2med, 58, 40, Finished, Available)"
            ]
          },
          "metadata": {},
          "output_type": "display_data"
        },
        {
          "name": "stdout",
          "output_type": "stream",
          "text": [
            "2023-01-11 18:42:02,894 - OEA - INFO - Number of new inbound rows processed: 4\n"
          ]
        },
        {
          "data": {
            "text/plain": [
              "4"
            ]
          },
          "execution_count": 83,
          "metadata": {},
          "output_type": "execute_result"
        }
      ],
      "source": [
        "publish(dfAssignStatus, 'stage2/Enriched/learning_analytics/v1.0/general/dim_AssignmentStatus', 'stage3/Published/learning_analytics/v1.0/general/dim_AssignmentStatus', primary_key='AssignmentStatusId')"
      ]
    },
    {
      "attachments": {},
      "cell_type": "markdown",
      "metadata": {
        "nteract": {
          "transient": {
            "deleting": false
          }
        }
      },
      "source": [
        "## 9.) Build dim_Assignment Table\n",
        "Data aggregations and curation on Insights activity data pertaining to assignments. \n",
        "\n",
        "This table has one row per assignments from the Insights activity data, with details around the assigned and due dates.\n",
        "\n",
        "This table is then written out to```(stage2 and stage3)/(Enriched and Published)/learning_analytics/v1.0/general/dim_Assignment```."
      ]
    },
    {
      "cell_type": "code",
      "execution_count": null,
      "metadata": {
        "jupyter": {
          "outputs_hidden": false,
          "source_hidden": false
        },
        "nteract": {
          "transient": {
            "deleting": false
          }
        }
      },
      "outputs": [],
      "source": [
        "dfInsights_activity = oea.load('stage2/Refined/M365/v' + insights_version + '/general/activity')"
      ]
    },
    {
      "cell_type": "code",
      "execution_count": null,
      "metadata": {
        "jupyter": {
          "outputs_hidden": false,
          "source_hidden": false
        },
        "nteract": {
          "transient": {
            "deleting": false
          }
        }
      },
      "outputs": [],
      "source": [
        "dfAssign = dfInsights_activity.filter(dfInsights_activity['Action'] == 'Assigned')\n",
        "dfAssign = dfAssign.groupBy('AssignmentId', 'DueDate', 'StartTime').count()\n",
        "dfAssign = dfAssign.drop('count').withColumn('AssignedDate', F.to_date(F.col('StartTime'))).withColumn('DueDate', F.to_date(F.col('DueDate'))).drop('StartTime')\n",
        "print('Number of Assignments Recorded:')\n",
        "print(dfAssign.count())\n",
        "display(dfAssign.limit(10))"
      ]
    },
    {
      "cell_type": "code",
      "execution_count": null,
      "metadata": {
        "jupyter": {
          "outputs_hidden": false,
          "source_hidden": false
        },
        "nteract": {
          "transient": {
            "deleting": false
          }
        }
      },
      "outputs": [],
      "source": [
        "dfTest = dfInsights_activity.groupBy('AssignmentId').count()\n",
        "print(dfTest.count())"
      ]
    },
    {
      "attachments": {},
      "cell_type": "markdown",
      "metadata": {
        "nteract": {
          "transient": {
            "deleting": false
          }
        }
      },
      "source": [
        "### Write to Stage 3"
      ]
    },
    {
      "cell_type": "code",
      "execution_count": null,
      "metadata": {
        "jupyter": {
          "outputs_hidden": false,
          "source_hidden": false
        },
        "nteract": {
          "transient": {
            "deleting": false
          }
        }
      },
      "outputs": [],
      "source": [
        "publish(dfAssign, 'stage2/Enriched/learning_analytics/v1.0/general/dim_Assignment', 'stage3/Published/learning_analytics/v1.0/general/dim_Assignment', primary_key='AssignmentId')"
      ]
    },
    {
      "attachments": {},
      "cell_type": "markdown",
      "metadata": {
        "nteract": {
          "transient": {
            "deleting": false
          }
        }
      },
      "source": [
        "## 10.) Build dim_SignalType Table\n",
        "\n",
        "Data aggregations and curation on Insights activity data pertaining to the various Insights activity SignalTypes. \n",
        "\n",
        "This table has one row per Insights SignalType from within the Activity data, with details and categorization of the SignalType.\n",
        "\n",
        "This table is then written out to```(stage2 and stage3)/(Enriched and Published)/learning_analytics/v1.0/general/dim_SignalType```."
      ]
    },
    {
      "cell_type": "code",
      "execution_count": null,
      "metadata": {
        "jupyter": {
          "outputs_hidden": false,
          "source_hidden": false
        },
        "nteract": {
          "transient": {
            "deleting": false
          }
        }
      },
      "outputs": [
        {
          "data": {
            "application/vnd.livy.statement-meta+json": {
              "execution_finish_time": "2023-01-11T18:42:08.0679867Z",
              "execution_start_time": "2023-01-11T18:42:07.9052063Z",
              "livy_statement_state": "available",
              "queued_time": "2023-01-11T18:42:07.7943482Z",
              "session_id": "58",
              "session_start_time": null,
              "spark_jobs": null,
              "spark_pool": "spark3p2med",
              "state": "finished",
              "statement_id": 41
            },
            "text/plain": [
              "StatementMeta(spark3p2med, 58, 41, Finished, Available)"
            ]
          },
          "metadata": {},
          "output_type": "display_data"
        }
      ],
      "source": [
        "dfInsights_activity = oea.load('stage2/Refined/M365/v' + insights_version + '/general/activity')"
      ]
    },
    {
      "cell_type": "code",
      "execution_count": null,
      "metadata": {
        "collapsed": false,
        "jupyter": {
          "outputs_hidden": false,
          "source_hidden": false
        },
        "nteract": {
          "transient": {
            "deleting": false
          }
        }
      },
      "outputs": [
        {
          "data": {
            "application/vnd.livy.statement-meta+json": {
              "execution_finish_time": "2023-01-11T18:42:23.6890996Z",
              "execution_start_time": "2023-01-11T18:42:16.7989789Z",
              "livy_statement_state": "available",
              "queued_time": "2023-01-11T18:42:16.6760106Z",
              "session_id": "58",
              "session_start_time": null,
              "spark_jobs": null,
              "spark_pool": "spark3p2med",
              "state": "finished",
              "statement_id": 42
            },
            "text/plain": [
              "StatementMeta(spark3p2med, 58, 42, Finished, Available)"
            ]
          },
          "metadata": {},
          "output_type": "display_data"
        },
        {
          "data": {
            "application/vnd.synapse.widget-view+json": {
              "widget_id": "27a7502d-cd08-4acc-bb9c-1d34fd86912a",
              "widget_type": "Synapse.DataFrame"
            },
            "text/plain": [
              "SynapseWidget(Synapse.DataFrame, 27a7502d-cd08-4acc-bb9c-1d34fd86912a)"
            ]
          },
          "metadata": {},
          "output_type": "display_data"
        }
      ],
      "source": [
        "# NOTE: Clean encoding process.\n",
        "# build signal type table, based on the possible signal types from the Insights activity table\n",
        "dfSignalType = dfInsights_activity.select('SignalType', 'AppName')\n",
        "dfSignalType = dfSignalType.groupBy('SignalType').count()\n",
        "# create a new column for categorizing the signals\n",
        "def SignalCat(SignalType):\n",
        "    if SignalType == 'PostChannelMessage':\n",
        "        res = 'Messaging'\n",
        "    elif SignalType == 'ReplyChannelMessage':\n",
        "        res = 'Messaging'\n",
        "    elif SignalType == 'VisitTeamChannel':\n",
        "        res = 'Messaging'\n",
        "    elif SignalType == 'ExpandChannelMessage':\n",
        "        res = 'Messaging'\n",
        "    elif SignalType == 'ReactedWithEmoji':\n",
        "        res = 'Messaging'\n",
        "    elif SignalType == 'Like':\n",
        "        res = 'Files'\n",
        "    elif SignalType == 'Unlike':\n",
        "        res = 'Files'\n",
        "    elif SignalType == 'FileAccessed':\n",
        "        res = 'Files'\n",
        "    elif SignalType == 'FileModified':\n",
        "        res = 'Files'\n",
        "    elif SignalType == 'FileDownloaded':\n",
        "        res = 'Files'\n",
        "    elif SignalType == 'FileUploaded':\n",
        "        res = 'Files'\n",
        "    elif SignalType == 'ShareNotificationRequested':\n",
        "        res = 'Files'\n",
        "    elif SignalType == 'AddedToSharedWithMe':\n",
        "        res = 'Files'\n",
        "    elif SignalType == 'CommentCreated':\n",
        "        res = 'Files'\n",
        "    elif SignalType == 'CommentDeleted':\n",
        "        res = 'Files'\n",
        "    elif SignalType == 'UserAtMentioned':\n",
        "        res = 'Files'\n",
        "    elif SignalType == 'Reflect':\n",
        "        res = 'Reflect'\n",
        "    elif SignalType == 'OneNotePageChanged':\n",
        "        res = 'Notebook'\n",
        "    elif SignalType == 'SubmissionEvent':\n",
        "        res = 'Assignments'\n",
        "    elif SignalType == 'AssignmentEvent':\n",
        "        res = 'Assignments'\n",
        "    elif SignalType == 'CallRecordSummarized':\n",
        "        res = 'TeamsMeeting'\n",
        "    else:\n",
        "        res = ''\n",
        "    return res\n",
        "\n",
        "def SignalTypeId(SignalType):\n",
        "    if SignalType == 'PostChannelMessage':\n",
        "        res = '000001'\n",
        "    elif SignalType == 'ReplyChannelMessage':\n",
        "        res = '000002'\n",
        "    elif SignalType == 'VisitTeamChannel':\n",
        "        res = '000003'\n",
        "    elif SignalType == 'ExpandChannelMessage':\n",
        "        res = '000004'\n",
        "    elif SignalType == 'ReactedWithEmoji':\n",
        "        res = '000005'\n",
        "    elif SignalType == 'Like':\n",
        "        res = '000010'\n",
        "    elif SignalType == 'Unlike':\n",
        "        res = '000011'\n",
        "    elif SignalType == 'FileAccessed':\n",
        "        res = '000020'\n",
        "    elif SignalType == 'FileModified':\n",
        "        res = '000021'\n",
        "    elif SignalType == 'FileDownloaded':\n",
        "        res = '000022'\n",
        "    elif SignalType == 'FileUploaded':\n",
        "        res = '000023'\n",
        "    elif SignalType == 'ShareNotificationRequested':\n",
        "        res = '000030'\n",
        "    elif SignalType == 'AddedToSharedWithMe':\n",
        "        res = '000040'\n",
        "    elif SignalType == 'CommentCreated':\n",
        "        res = '000050'\n",
        "    elif SignalType == 'CommentDeleted':\n",
        "        res = '000051'\n",
        "    elif SignalType == 'UserAtMentioned':\n",
        "        res = '000060'\n",
        "    elif SignalType == 'Reflect':\n",
        "        res = '000100'\n",
        "    elif SignalType == 'OneNotePageChanged':\n",
        "        res = '001000'\n",
        "    elif SignalType == 'SubmissionEvent':\n",
        "        res = '020000'\n",
        "    elif SignalType == 'AssignmentEvent':\n",
        "        res = '010000'\n",
        "    elif SignalType == 'CallRecordSummarized':\n",
        "        res = '100000'\n",
        "    else:\n",
        "        res = ''\n",
        "    return res\n",
        "# define the function/dataType\n",
        "new_f = F.udf(SignalCat, StringType())\n",
        "new_f2 = F.udf(SignalTypeId, StringType())\n",
        "  \n",
        "# add the new column\n",
        "dfSignalType = dfSignalType.withColumn(\"SignalCategory\", new_f('SignalType'))\n",
        "dfSignalType = dfSignalType.withColumn('SignalTypeId', new_f2('SignalType'))\n",
        "dfSignalType = dfSignalType.drop('count')\n",
        "display(dfSignalType)"
      ]
    },
    {
      "attachments": {},
      "cell_type": "markdown",
      "metadata": {
        "nteract": {
          "transient": {
            "deleting": false
          }
        }
      },
      "source": [
        "### Write to Stage 3"
      ]
    },
    {
      "cell_type": "code",
      "execution_count": null,
      "metadata": {
        "jupyter": {
          "outputs_hidden": false,
          "source_hidden": false
        },
        "nteract": {
          "transient": {
            "deleting": false
          }
        }
      },
      "outputs": [
        {
          "data": {
            "application/vnd.livy.statement-meta+json": {
              "execution_finish_time": "2023-01-11T18:43:26.0038249Z",
              "execution_start_time": "2023-01-11T18:43:18.9758505Z",
              "livy_statement_state": "available",
              "queued_time": "2023-01-11T18:43:18.7966597Z",
              "session_id": "58",
              "session_start_time": null,
              "spark_jobs": null,
              "spark_pool": "spark3p2med",
              "state": "finished",
              "statement_id": 43
            },
            "text/plain": [
              "StatementMeta(spark3p2med, 58, 43, Finished, Available)"
            ]
          },
          "metadata": {},
          "output_type": "display_data"
        },
        {
          "name": "stdout",
          "output_type": "stream",
          "text": [
            "2023-01-11 18:43:24,564 - OEA - INFO - Number of new inbound rows processed: 21\n"
          ]
        },
        {
          "data": {
            "text/plain": [
              "21"
            ]
          },
          "execution_count": 89,
          "metadata": {},
          "output_type": "execute_result"
        }
      ],
      "source": [
        "publish(dfSignalType, 'stage2/Enriched/learning_analytics/v1.0/general/dim_SignalType', 'stage3/Published/learning_analytics/v1.0/general/dim_SignalType', primary_key='SignalTypeId')"
      ]
    },
    {
      "attachments": {},
      "cell_type": "markdown",
      "metadata": {
        "nteract": {
          "transient": {
            "deleting": false
          }
        }
      },
      "source": [
        "## 11.) Build dim_Date Table\n",
        "\n",
        "Data aggregations and curation on Insights activity data pertaining to the various dates seen from activity. This table is used in the Power BI data model to connect dates seen tables, for filters in the dashboard.\n",
        "\n",
        "This table has one row per date seen from the activity data used, with details on that particular date.\n",
        "\n",
        "This table is then written out to```(stage2 and stage3)/(Enriched and Published)/learning_analytics/v1.0/general/dim_Date```."
      ]
    },
    {
      "cell_type": "code",
      "execution_count": null,
      "metadata": {
        "jupyter": {
          "outputs_hidden": false,
          "source_hidden": false
        },
        "nteract": {
          "transient": {
            "deleting": false
          }
        }
      },
      "outputs": [
        {
          "data": {
            "application/vnd.livy.statement-meta+json": {
              "execution_finish_time": "2023-01-11T18:44:13.7307242Z",
              "execution_start_time": "2023-01-11T18:44:13.5752226Z",
              "livy_statement_state": "available",
              "queued_time": "2023-01-11T18:44:13.4349506Z",
              "session_id": "58",
              "session_start_time": null,
              "spark_jobs": null,
              "spark_pool": "spark3p2med",
              "state": "finished",
              "statement_id": 44
            },
            "text/plain": [
              "StatementMeta(spark3p2med, 58, 44, Finished, Available)"
            ]
          },
          "metadata": {},
          "output_type": "display_data"
        }
      ],
      "source": [
        "dfInsights_activity = oea.load('stage2/Refined/M365/v' + insights_version + '/general/activity')\n",
        "dfInsights_session = oea.load('stage2/Refined/M365/v' + insights_version + '/general/Session')"
      ]
    },
    {
      "cell_type": "code",
      "execution_count": null,
      "metadata": {
        "collapsed": false,
        "jupyter": {
          "outputs_hidden": false,
          "source_hidden": false
        },
        "nteract": {
          "transient": {
            "deleting": false
          }
        }
      },
      "outputs": [
        {
          "data": {
            "application/vnd.livy.statement-meta+json": {
              "execution_finish_time": "2023-01-11T18:44:20.1895561Z",
              "execution_start_time": "2023-01-11T18:44:18.3630636Z",
              "livy_statement_state": "available",
              "queued_time": "2023-01-11T18:44:18.2322449Z",
              "session_id": "58",
              "session_start_time": null,
              "spark_jobs": null,
              "spark_pool": "spark3p2med",
              "state": "finished",
              "statement_id": 45
            },
            "text/plain": [
              "StatementMeta(spark3p2med, 58, 45, Finished, Available)"
            ]
          },
          "metadata": {},
          "output_type": "display_data"
        },
        {
          "data": {
            "application/vnd.synapse.widget-view+json": {
              "widget_id": "04f636ed-316a-4a5e-a5d7-c9b4a4433db7",
              "widget_type": "Synapse.DataFrame"
            },
            "text/plain": [
              "SynapseWidget(Synapse.DataFrame, 04f636ed-316a-4a5e-a5d7-c9b4a4433db7)"
            ]
          },
          "metadata": {},
          "output_type": "display_data"
        }
      ],
      "source": [
        "# NOTE: Double-check that all columns are relevant and used in the dashboard.\n",
        "# extract dates to create Date table from Insights activity data\n",
        "dfDate = dfInsights_activity.select('StartTime')\n",
        "dfDate = dfDate.withColumn('Date', F.to_date(F.col('StartTime')))\n",
        "dfDate = dfDate.groupBy('Date').count()\n",
        "dfDate = dfDate.orderBy('Date')\n",
        "dfDate = dfDate.drop('count').withColumn('Year', F.year(F.col('Date'))).withColumn('Month', F.month(F.col('Date')))\n",
        "# extract the start date of the school year from the Insights Session table; in this case filter the table to get the start date of the school year\n",
        "list_of_schoolStartDate = dfInsights_session.filter(dfInsights_session['Name'] == '2021-2022').select('StartDate').collect()\n",
        "dfDate = dfDate.withColumn('SchoolYearStartDate', F.lit(list_of_schoolStartDate[0][0]))\n",
        "dfDate = dfDate.withColumn('SchoolYearStartDate', F.to_date(F.col('SchoolYearStartDate')))\n",
        "# calculate the number of months between activity date and the start date of the school year - then add 1 month of the floor to get the month of the school year\n",
        "dfDate = dfDate.withColumn('MonthOfSchoolYear', F.months_between(F.col('Date'), F.col('SchoolYearStartDate')))\n",
        "dfDate = dfDate.withColumn('MonthOfSchoolYear', F.floor(F.col('MonthOfSchoolYear'))).withColumn('MonthOfSchoolYear', F.col('MonthOfSchoolYear') + 1)\n",
        "# calculate the number of days between date and start of school year - then take the floor of the number of weeks (add 1 week) to get the week number of the school year\n",
        "dfDate = dfDate.withColumn('WeekOfSchoolYear', F.datediff(F.col('Date'), F.col('SchoolYearStartDate'))/7)\n",
        "dfDate = dfDate.withColumn('WeekOfSchoolYear', F.floor(F.col('WeekOfSchoolYear'))).withColumn('WeekOfSchoolYear', F.col('WeekOfSchoolYear') + 1)\n",
        "display(dfDate.limit(10))"
      ]
    },
    {
      "cell_type": "code",
      "execution_count": null,
      "metadata": {
        "collapsed": false,
        "jupyter": {
          "outputs_hidden": false,
          "source_hidden": false
        },
        "nteract": {
          "transient": {
            "deleting": false
          }
        }
      },
      "outputs": [
        {
          "data": {
            "application/vnd.livy.statement-meta+json": {
              "execution_finish_time": "2023-01-11T18:44:26.1779532Z",
              "execution_start_time": "2023-01-11T18:44:24.355021Z",
              "livy_statement_state": "available",
              "queued_time": "2023-01-11T18:44:24.2224245Z",
              "session_id": "58",
              "session_start_time": null,
              "spark_jobs": null,
              "spark_pool": "spark3p2med",
              "state": "finished",
              "statement_id": 46
            },
            "text/plain": [
              "StatementMeta(spark3p2med, 58, 46, Finished, Available)"
            ]
          },
          "metadata": {},
          "output_type": "display_data"
        },
        {
          "data": {
            "application/vnd.synapse.widget-view+json": {
              "widget_id": "da904f7c-2d2f-462e-9a1b-8b4c72817a41",
              "widget_type": "Synapse.DataFrame"
            },
            "text/plain": [
              "SynapseWidget(Synapse.DataFrame, da904f7c-2d2f-462e-9a1b-8b4c72817a41)"
            ]
          },
          "metadata": {},
          "output_type": "display_data"
        }
      ],
      "source": [
        "# find the start date of the semester\n",
        "list_of_semesterStartDate = dfInsights_session.filter(dfInsights_session['Name'] == 'Spring2022').select('StartDate').collect()\n",
        "dfDate = dfDate.withColumn('SemesterStartDate', F.lit(list_of_semesterStartDate[0][0]))\n",
        "# calculate the number of months between activity date and the start date of the semester - then add 1 month of the floor to get the month of the semester\n",
        "dfDate = dfDate.withColumn('MonthOfSemester', F.months_between(F.col('Date'), F.col('SemesterStartDate')))\n",
        "dfDate = dfDate.withColumn('MonthOfSemester', F.floor(F.col('MonthOfSemester'))).withColumn('MonthOfSemester', F.col('MonthOfSemester') + 1)\n",
        "# calculate the number of days between date and start of semester - then take the floor of the number of weeks (add 1 week) to get the week number of the semester\n",
        "dfDate = dfDate.withColumn('WeekOfSemester', F.datediff(F.col('Date'), F.col('SemesterStartDate'))/7)\n",
        "dfDate = dfDate.withColumn('WeekOfSemester', F.floor(F.col('WeekOfSemester'))).withColumn('WeekOfSemester', F.col('WeekOfSemester') + 1)\n",
        "display(dfDate.limit(10))"
      ]
    },
    {
      "attachments": {},
      "cell_type": "markdown",
      "metadata": {
        "nteract": {
          "transient": {
            "deleting": false
          }
        }
      },
      "source": [
        "### Write to Stage 3"
      ]
    },
    {
      "cell_type": "code",
      "execution_count": null,
      "metadata": {
        "jupyter": {
          "outputs_hidden": false,
          "source_hidden": false
        },
        "nteract": {
          "transient": {
            "deleting": false
          }
        }
      },
      "outputs": [
        {
          "data": {
            "application/vnd.livy.statement-meta+json": {
              "execution_finish_time": "2023-01-11T18:45:38.8472943Z",
              "execution_start_time": "2023-01-11T18:45:31.9393446Z",
              "livy_statement_state": "available",
              "queued_time": "2023-01-11T18:45:31.8228336Z",
              "session_id": "58",
              "session_start_time": null,
              "spark_jobs": null,
              "spark_pool": "spark3p2med",
              "state": "finished",
              "statement_id": 47
            },
            "text/plain": [
              "StatementMeta(spark3p2med, 58, 47, Finished, Available)"
            ]
          },
          "metadata": {},
          "output_type": "display_data"
        },
        {
          "name": "stdout",
          "output_type": "stream",
          "text": [
            "2023-01-11 18:45:37,705 - OEA - INFO - Number of new inbound rows processed: 34\n"
          ]
        },
        {
          "data": {
            "text/plain": [
              "34"
            ]
          },
          "execution_count": 97,
          "metadata": {},
          "output_type": "execute_result"
        }
      ],
      "source": [
        "publish(dfDate, 'stage2/Enriched/learning_analytics/v1.0/general/dim_Date', 'stage3/Published/learning_analytics/v1.0/general/dim_Date', primary_key='Date')"
      ]
    }
  ],
  "metadata": {
    "description": null,
    "kernelspec": {
      "display_name": "Synapse PySpark",
      "name": "synapse_pyspark"
    },
    "language_info": {
      "name": "python"
    },
    "save_output": true,
    "synapse_widget": {
      "state": {},
      "version": "0.1"
    }
  },
  "nbformat": 4,
  "nbformat_minor": 2
}
