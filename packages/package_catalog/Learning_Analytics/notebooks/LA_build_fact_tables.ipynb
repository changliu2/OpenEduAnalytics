{
  "cells": [
    {
      "attachments": {},
      "cell_type": "markdown",
      "metadata": {
        "nteract": {
          "transient": {
            "deleting": false
          }
        }
      },
      "source": [
        "# Learning Analytics Package: Build Fact Tables\n",
        "\n",
        "Builds the fact table used for the Learning Analytics package **v1.0** dashboard, in the context of using the Higher Ed. test data from Microsoft Education Insights data, and Microsoft Graph meeting attendance data.\n",
        "\n",
        "The following tables are created in each of the steps outlined below:\n",
        "\n",
        "1. fact_Enrollment\n",
        "2. fact_MeetingAttendance\n",
        "3. fact_Assignment\n",
        "4. fact_Activity\n",
        "\n",
        "This package-notebook also uses two methods (defined and outlined below; same as the LA_build_dimension_tables notebook):\n",
        " - **_publish_to_stage2**: uses the OEA_py function *upsert* to land the current dataframe in stage2/Enriched\n",
        " - **publish**: uses the method above to land the package fact tables in stage2, then writes the same table to stage3/Published. Delta checkpoints are landed in the respective stage2/Enriched directory."
      ]
    },
    {
      "cell_type": "code",
      "execution_count": null,
      "metadata": {
        "jupyter": {
          "outputs_hidden": false,
          "source_hidden": false
        },
        "nteract": {
          "transient": {
            "deleting": false
          }
        },
        "tags": [
          "parameters"
        ]
      },
      "outputs": [
        {
          "data": {
            "application/vnd.livy.statement-meta+json": {
              "execution_finish_time": "2023-01-11T18:52:19.7932845Z",
              "execution_start_time": "2023-01-11T18:52:19.5940683Z",
              "livy_statement_state": "available",
              "queued_time": "2023-01-11T18:51:34.5151589Z",
              "session_id": "59",
              "session_start_time": "2023-01-11T18:51:34.5652712Z",
              "spark_jobs": null,
              "spark_pool": "spark3p2med",
              "state": "finished",
              "statement_id": 1
            },
            "text/plain": [
              "StatementMeta(spark3p2med, 59, 1, Finished, Available)"
            ]
          },
          "metadata": {},
          "output_type": "display_data"
        }
      ],
      "source": [
        "workspace = 'dev'\n",
        "insights_version  = '1.14'"
      ]
    },
    {
      "cell_type": "code",
      "execution_count": null,
      "metadata": {
        "jupyter": {
          "outputs_hidden": false,
          "source_hidden": false
        },
        "nteract": {
          "transient": {
            "deleting": false
          }
        }
      },
      "outputs": [
        {
          "data": {
            "application/vnd.livy.statement-meta+json": {
              "execution_finish_time": "2023-01-11T18:52:20.7778197Z",
              "execution_start_time": "2023-01-11T18:52:20.7775526Z",
              "livy_statement_state": "available",
              "queued_time": "2023-01-11T18:51:34.5203575Z",
              "session_id": "59",
              "session_start_time": null,
              "spark_jobs": null,
              "spark_pool": null,
              "state": "finished",
              "statement_id": -1
            },
            "text/plain": [
              "StatementMeta(, 59, -1, Finished, Available)"
            ]
          },
          "metadata": {},
          "output_type": "display_data"
        },
        {
          "name": "stdout",
          "output_type": "stream",
          "text": [
            "2023-01-11 18:52:20,470 - OEA - INFO - Now using workspace: dev\n",
            "2023-01-11 18:52:20,472 - OEA - INFO - OEA initialized.\n"
          ]
        }
      ],
      "source": [
        "%run OEA_py"
      ]
    },
    {
      "cell_type": "code",
      "execution_count": null,
      "metadata": {
        "jupyter": {
          "outputs_hidden": false,
          "source_hidden": false
        },
        "nteract": {
          "transient": {
            "deleting": false
          }
        }
      },
      "outputs": [
        {
          "data": {
            "application/vnd.livy.statement-meta+json": {
              "execution_finish_time": "2023-01-11T18:52:21.0415072Z",
              "execution_start_time": "2023-01-11T18:52:20.8782975Z",
              "livy_statement_state": "available",
              "queued_time": "2023-01-11T18:51:34.5279831Z",
              "session_id": "59",
              "session_start_time": null,
              "spark_jobs": null,
              "spark_pool": "spark3p2med",
              "state": "finished",
              "statement_id": 3
            },
            "text/plain": [
              "StatementMeta(spark3p2med, 59, 3, Finished, Available)"
            ]
          },
          "metadata": {},
          "output_type": "display_data"
        },
        {
          "name": "stdout",
          "output_type": "stream",
          "text": [
            "2023-01-11 18:52:20,864 - OEA - INFO - Now using workspace: dev\n"
          ]
        }
      ],
      "source": [
        "# set the workspace (this determines where in the data lake you'll be writing to and reading from).\n",
        "# You can work in 'dev', 'prod', or a sandbox with any name you choose.\n",
        "# For example, Sam the developer can create a 'sam' workspace and expect to find his datasets in the data lake under oea/sandboxes/sam\n",
        "oea.set_workspace(workspace)"
      ]
    },
    {
      "attachments": {},
      "cell_type": "markdown",
      "metadata": {
        "nteract": {
          "transient": {
            "deleting": false
          }
        }
      },
      "source": [
        "## 0.) Define the Publish Function"
      ]
    },
    {
      "cell_type": "code",
      "execution_count": null,
      "metadata": {
        "jupyter": {
          "outputs_hidden": false,
          "source_hidden": false
        },
        "nteract": {
          "transient": {
            "deleting": false
          }
        }
      },
      "outputs": [
        {
          "data": {
            "application/vnd.livy.statement-meta+json": {
              "execution_finish_time": "2023-01-11T18:52:21.3685559Z",
              "execution_start_time": "2023-01-11T18:52:21.2035852Z",
              "livy_statement_state": "available",
              "queued_time": "2023-01-11T18:51:34.545698Z",
              "session_id": "59",
              "session_start_time": null,
              "spark_jobs": null,
              "spark_pool": "spark3p2med",
              "state": "finished",
              "statement_id": 4
            },
            "text/plain": [
              "StatementMeta(spark3p2med, 59, 4, Finished, Available)"
            ]
          },
          "metadata": {},
          "output_type": "display_data"
        }
      ],
      "source": [
        "def _publish_to_stage2(df, destination, pk):\n",
        "    oea.upsert(df, destination, pk)\n",
        "\n",
        "def publish(df, stage2_destination, stage3_destination, primary_key='id'):\n",
        "    _publish_to_stage2(df, stage2_destination, primary_key)\n",
        "\n",
        "    streaming_df = spark.read.format('delta').load(oea.to_url(stage2_destination))\n",
        "    # for more info on append vs complete vs update modes for structured streaming: https://spark.apache.org/docs/latest/structured-streaming-programming-guide.html#basic-concepts\n",
        "    streaming_df.write.format('delta').mode('append').save(oea.to_url(stage3_destination))\n",
        "    number_of_new_inbound_rows = streaming_df.count()\n",
        "    logger.info(f'Number of new inbound rows processed: {number_of_new_inbound_rows}')\n",
        "    return number_of_new_inbound_rows"
      ]
    },
    {
      "attachments": {},
      "cell_type": "markdown",
      "metadata": {
        "nteract": {
          "transient": {
            "deleting": false
          }
        }
      },
      "source": [
        "## 1.) Build fact_Enrollment Table\n",
        "\n",
        "Data aggregations and curation on Insights roster data: Enrollment (as well as others).\n",
        "\n",
        "This table has one row per student enrollment in a section from the Insights roster data, with details around:\n",
        " - enrollment ID (unique ID per student enrolled in a section),\n",
        " - school ID (Id from Organization table),\n",
        " - course ID (course that the section belongs to),\n",
        " - section ID,\n",
        " - instructor ID (that section's instructor)\n",
        " - student ID (previously, student internal ID or PersonId from Person table), and\n",
        " - student section entry and exit date (from Insights Enrollment table).\n",
        "\n",
        "This table is then written out to```(stage2 and stage3)/(Enriched and Published)/learning_analytics/v1.0/general/fact_Enrollment```.\n",
        "\n",
        "**FIX ENTRY AND EXIT DATE COLUMNS**"
      ]
    },
    {
      "cell_type": "code",
      "execution_count": null,
      "metadata": {
        "jupyter": {
          "outputs_hidden": false,
          "source_hidden": false
        },
        "nteract": {
          "transient": {
            "deleting": false
          }
        }
      },
      "outputs": [
        {
          "data": {
            "application/vnd.livy.statement-meta+json": {
              "execution_finish_time": "2023-01-11T18:52:54.509421Z",
              "execution_start_time": "2023-01-11T18:52:23.1946075Z",
              "livy_statement_state": "available",
              "queued_time": "2023-01-11T18:52:23.079566Z",
              "session_id": "59",
              "session_start_time": null,
              "spark_jobs": null,
              "spark_pool": "spark3p2med",
              "state": "finished",
              "statement_id": 5
            },
            "text/plain": [
              "StatementMeta(spark3p2med, 59, 5, Finished, Available)"
            ]
          },
          "metadata": {},
          "output_type": "display_data"
        }
      ],
      "source": [
        "dfInsights_aadgroup = oea.load('stage2/Refined/M365/v'+ insights_version +'/general/AadGroup')\n",
        "dfInsights_activity = oea.load('stage2/Refined/M365/v'+ insights_version +'/general/activity')\n",
        "dfInsights_enrollment = oea.load('stage2/Refined/M365/v'+ insights_version +'/general/Enrollment')\n",
        "dfInsights_section = oea.load('stage2/Refined/M365/v'+ insights_version +'/general/Section')\n",
        "# lookup(s)\n",
        "dfInsights_aadgroup_np = oea.load('stage2/Refined/M365/v'+ insights_version +'/sensitive/AadGroup_lookup')"
      ]
    },
    {
      "cell_type": "code",
      "execution_count": null,
      "metadata": {
        "collapsed": false,
        "jupyter": {
          "outputs_hidden": false,
          "source_hidden": false
        },
        "nteract": {
          "transient": {
            "deleting": false
          }
        }
      },
      "outputs": [
        {
          "data": {
            "application/vnd.livy.statement-meta+json": {
              "execution_finish_time": "2023-01-11T18:53:01.6398427Z",
              "execution_start_time": "2023-01-11T18:52:54.6662662Z",
              "livy_statement_state": "available",
              "queued_time": "2023-01-11T18:52:35.1697866Z",
              "session_id": "59",
              "session_start_time": null,
              "spark_jobs": null,
              "spark_pool": "spark3p2med",
              "state": "finished",
              "statement_id": 6
            },
            "text/plain": [
              "StatementMeta(spark3p2med, 59, 6, Finished, Available)"
            ]
          },
          "metadata": {},
          "output_type": "display_data"
        },
        {
          "data": {
            "application/vnd.synapse.widget-view+json": {
              "widget_id": "59fc7326-631f-48c0-87db-f4985d5f9b4e",
              "widget_type": "Synapse.DataFrame"
            },
            "text/plain": [
              "SynapseWidget(Synapse.DataFrame, 59fc7326-631f-48c0-87db-f4985d5f9b4e)"
            ]
          },
          "metadata": {},
          "output_type": "display_data"
        }
      ],
      "source": [
        "# NOTE: Fix entry and exit date column-processing, and clean up curation process below.\n",
        "# extract the classes initally provided from the Insights Activity test data, and extract the Teacher IDs \n",
        "dfEnroll = dfInsights_activity.filter(dfInsights_activity['ActorRole'] != 'Student')\n",
        "dfEnroll = dfEnroll.filter(dfEnroll['ActorRole'] != 'ActorRole')\n",
        "dfEnroll = dfEnroll.select('ClassId', 'ActorId_pseudonym', 'ActorRole')\n",
        "dfEnroll = dfEnroll.groupBy('ClassId', 'ActorId_pseudonym', 'ActorRole').count()\n",
        "dfEnroll = dfEnroll.withColumnRenamed('ClassId', 'AADGroup_ClassId').withColumnRenamed('ActorId_pseudonym', 'InstructorId_pseudonym').withColumnRenamed('ActorRole', 'PersonRole')\n",
        "dfEnroll = dfEnroll.drop('count')\n",
        "# join the Insights AADGroup_pseudo and _lookup table to the dfEnroll table, to provide mapping of the hashed and non-hashed AADGroup Class IDs\n",
        "dfInsights_aadgroup_np_ = dfInsights_aadgroup_np.select('ObjectId', 'DisplayName', 'ObjectId_pseudonym').withColumnRenamed('ObjectId', 'Id').withColumnRenamed('ObjectId_pseudonym', 'AADGroup_ClassId_pseudonym')\n",
        "dfEnroll = dfEnroll.join(dfInsights_aadgroup_np_, dfEnroll.AADGroup_ClassId == dfInsights_aadgroup_np_.Id, how='inner')\n",
        "dfEnroll = dfEnroll.drop('Id')\n",
        "dfInsights_aadgroup_ = dfInsights_aadgroup.select('ObjectId_pseudonym', 'SectionId')\n",
        "dfEnroll = dfEnroll.join(dfInsights_aadgroup_, dfEnroll.AADGroup_ClassId_pseudonym == dfInsights_aadgroup_.ObjectId_pseudonym, how='inner')\n",
        "dfEnroll = dfEnroll.drop('ObjectId_pseudonym', 'PersonRole', 'DisplayName', 'AADGroup_ClassId', 'AADGroup_ClassId_pseudonym')\n",
        "# use the Insights Section table to get each associated Course and School ID with a Section\n",
        "df_metadata = dfInsights_section.select('Id', 'OrganizationId', 'CourseId')\n",
        "dfEnroll = dfEnroll.join(df_metadata, dfEnroll.SectionId == df_metadata.Id, how='inner').drop('Id')\n",
        "dfEnroll = dfEnroll.withColumnRenamed('OrganizationId', 'SchoolId')\n",
        "# last, use the Insights Enrollment table to get students enrolled within each class\n",
        "df_metadata = dfInsights_enrollment.select('Id', 'PersonId_pseudonym', 'RefSectionRoleId', 'SectionId', 'EntryDate', 'ExitDate')\n",
        "df_metadata = df_metadata.filter(df_metadata['RefSectionRoleId'] == 'Student')\n",
        "df_metadata = df_metadata.drop('RefSectionRoleId').withColumnRenamed('Id', 'EnrollmentId').withColumnRenamed('PersonId_pseudonym', 'StudentId_pseudonym').withColumnRenamed('SectionId', 'id')\n",
        "dfEnroll = dfEnroll.join(df_metadata, dfEnroll.SectionId == df_metadata.id, how='inner').drop('id')\n",
        "dfEnroll = dfEnroll.select('EnrollmentId', 'SchoolId', 'CourseId', 'SectionId', 'InstructorId_pseudonym', 'StudentId_pseudonym', 'EntryDate', 'ExitDate')\n",
        "display(dfEnroll.limit(10))"
      ]
    },
    {
      "attachments": {},
      "cell_type": "markdown",
      "metadata": {
        "nteract": {
          "transient": {
            "deleting": false
          }
        }
      },
      "source": [
        "### Write to Stage 3"
      ]
    },
    {
      "cell_type": "code",
      "execution_count": null,
      "metadata": {
        "jupyter": {
          "outputs_hidden": false,
          "source_hidden": false
        },
        "nteract": {
          "transient": {
            "deleting": false
          }
        }
      },
      "outputs": [
        {
          "data": {
            "application/vnd.livy.statement-meta+json": {
              "execution_finish_time": "2023-01-11T18:55:12.8510209Z",
              "execution_start_time": "2023-01-11T18:55:00.1906418Z",
              "livy_statement_state": "available",
              "queued_time": "2023-01-11T18:55:00.0832291Z",
              "session_id": "59",
              "session_start_time": null,
              "spark_jobs": null,
              "spark_pool": "spark3p2med",
              "state": "finished",
              "statement_id": 7
            },
            "text/plain": [
              "StatementMeta(spark3p2med, 59, 7, Finished, Available)"
            ]
          },
          "metadata": {},
          "output_type": "display_data"
        },
        {
          "name": "stdout",
          "output_type": "stream",
          "text": [
            "2023-01-11 18:55:11,111 - OEA - INFO - Number of new inbound rows processed: 3600\n"
          ]
        },
        {
          "data": {
            "text/plain": [
              "3600"
            ]
          },
          "execution_count": 17,
          "metadata": {},
          "output_type": "execute_result"
        }
      ],
      "source": [
        "publish(dfEnroll, 'stage2/Enriched/learning_analytics/v1.0/general/fact_Enrollment', 'stage3/Published/learning_analytics/v1.0/general/fact_Enrollment', primary_key='EnrollmentId')"
      ]
    },
    {
      "attachments": {},
      "cell_type": "markdown",
      "metadata": {
        "nteract": {
          "transient": {
            "deleting": false
          }
        }
      },
      "source": [
        "## 2.) Build fact_MeetingAttendance Table\n",
        "\n",
        "Data aggregations curation on Insights activity data and Graph meeting_attendance_report pertaining to meetings (as well as using a few other tables).\n",
        "\n",
        "This table has one row per student per meeting recorded from in both Insights and from the Graph query, with details around:\n",
        " - meeting attendance ID (unique ID per student per meeting - scraped from Insights Activity SignalId),\n",
        " - school ID (ID from Organization table),\n",
        " - course ID, \n",
        " - section ID, \n",
        " - instructor ID, \n",
        " - student ID (from Person table),\n",
        " - meeting ID (unique ID per meeting - same across Insights activity and Graph meeting query),\n",
        " - student join time, \n",
        " - student leave time,\n",
        " - student attendance time in seconds.\n",
        "\n",
        "This table is then written out to```(stage2 and stage3)/(Enriched and Published)/learning_analytics/v1.0/general/fact_MeetingAttendance```."
      ]
    },
    {
      "cell_type": "code",
      "execution_count": null,
      "metadata": {
        "jupyter": {
          "outputs_hidden": false,
          "source_hidden": false
        },
        "nteract": {
          "transient": {
            "deleting": false
          }
        }
      },
      "outputs": [
        {
          "data": {
            "application/vnd.livy.statement-meta+json": {
              "execution_finish_time": "2023-01-11T18:56:02.355334Z",
              "execution_start_time": "2023-01-11T18:55:59.5133054Z",
              "livy_statement_state": "available",
              "queued_time": "2023-01-11T18:55:59.3964133Z",
              "session_id": "59",
              "session_start_time": null,
              "spark_jobs": null,
              "spark_pool": "spark3p2med",
              "state": "finished",
              "statement_id": 8
            },
            "text/plain": [
              "StatementMeta(spark3p2med, 59, 8, Finished, Available)"
            ]
          },
          "metadata": {},
          "output_type": "display_data"
        }
      ],
      "source": [
        "dfInsights_aadgroup = oea.load('stage2/Refined/M365/v'+ insights_version +'/general/AadGroup')\n",
        "dfInsights_aaduserpersonmap = oea.load('stage2/Refined/M365/v'+ insights_version +'/general/AadUserPersonMapping')\n",
        "dfInsights_activity = oea.load('stage2/Refined/M365/v'+ insights_version +'/general/activity')\n",
        "dfInsights_enrollment = oea.load('stage2/Refined/M365/v'+ insights_version +'/general/Enrollment')\n",
        "dfGraph_meetingAtten = oea.load('stage2/Refined/graph_api/v1.0/general/meeting_attendance_report')\n",
        "# lookup(s)\n",
        "dfInsights_aadgroup_np = oea.load('stage2/Refined/M365/v'+ insights_version +'/sensitive/AadGroup_lookup')"
      ]
    },
    {
      "cell_type": "code",
      "execution_count": null,
      "metadata": {
        "collapsed": false,
        "jupyter": {
          "outputs_hidden": false,
          "source_hidden": false
        },
        "nteract": {
          "transient": {
            "deleting": false
          }
        }
      },
      "outputs": [
        {
          "data": {
            "application/vnd.livy.statement-meta+json": {
              "execution_finish_time": "2023-01-11T18:56:08.4903376Z",
              "execution_start_time": "2023-01-11T18:56:02.5344037Z",
              "livy_statement_state": "available",
              "queued_time": "2023-01-11T18:56:00.668086Z",
              "session_id": "59",
              "session_start_time": null,
              "spark_jobs": null,
              "spark_pool": "spark3p2med",
              "state": "finished",
              "statement_id": 9
            },
            "text/plain": [
              "StatementMeta(spark3p2med, 59, 9, Finished, Available)"
            ]
          },
          "metadata": {},
          "output_type": "display_data"
        },
        {
          "data": {
            "application/vnd.synapse.widget-view+json": {
              "widget_id": "d4a37f2f-6f30-4d10-9e18-94bfd6802c11",
              "widget_type": "Synapse.DataFrame"
            },
            "text/plain": [
              "SynapseWidget(Synapse.DataFrame, d4a37f2f-6f30-4d10-9e18-94bfd6802c11)"
            ]
          },
          "metadata": {},
          "output_type": "display_data"
        }
      ],
      "source": [
        "# grab only the relevant columns from the Graph meeting attendance report data, then join with the Insights AADUserPersonMapping to join with Insights activity data\n",
        "dfMeetingAtten = dfGraph_meetingAtten.filter(dfGraph_meetingAtten['role'] == 'Student').select('userId_pseudonym', 'meetingId', 'attendanceInterval_joinDateTime', 'attendanceInterval_leaveDateTime', 'totalAttendanceInSec')\n",
        "dfMeetingAtten = dfMeetingAtten.withColumnRenamed('userId_pseudonym', 'StudentId_pseudonym').withColumnRenamed('meetingId', 'MeetingId').withColumnRenamed('attendanceInterval_joinDateTime', 'JoinTime') \\\n",
        "                                .withColumnRenamed('attendanceInterval_leaveDateTime', 'LeaveTime').withColumnRenamed('totalAttendanceInSec', 'AttendanceTime_sec')\n",
        "df_metadata = dfInsights_aaduserpersonmap.select('ObjectId_pseudonym', 'PersonId_pseudonym')\n",
        "dfMeetingAtten = dfMeetingAtten.join(df_metadata, dfMeetingAtten.StudentId_pseudonym == df_metadata.PersonId_pseudonym, how='inner').drop('PersonId_pseudonym')\n",
        "# then join with Insights activity data to isolate meeting data\n",
        "df_metadata = dfInsights_activity.filter(dfInsights_activity['AppName'] == 'TeamsMeeting').filter(dfInsights_activity['ActorRole'] == 'Student')\n",
        "df_metadata = df_metadata.select('SignalId', 'ClassId', 'ActorId_pseudonym', 'MeetingSessionId')\n",
        "dfMeetingAtten = dfMeetingAtten.join(df_metadata, (dfMeetingAtten.MeetingId == df_metadata.MeetingSessionId) & (dfMeetingAtten.ObjectId_pseudonym == df_metadata.ActorId_pseudonym), how='inner') \\\n",
        "                            .drop('ActorId_pseudonym', 'MeetingSessionId', 'ObjectId_pseudonym').withColumnRenamed('SignalId', 'MeetingAttendanceId')\n",
        "# join the Insights AADGroup_pseudo and _lookup table to the dfMeetingAtten table, to provide mapping of the hashed and non-hashed AADGroup Class IDs\n",
        "dfInsights_aadgroup_np_ = dfInsights_aadgroup_np.select('ObjectId', 'ObjectId_pseudonym').withColumnRenamed('ObjectId', 'Id').withColumnRenamed('ObjectId_pseudonym', 'AADGroup_ClassId_pseudonym')\n",
        "dfMeetingAtten = dfMeetingAtten.join(dfInsights_aadgroup_np_, dfMeetingAtten.ClassId == dfInsights_aadgroup_np_.Id, how='inner').drop('Id')\n",
        "dfInsights_aadgroup_ = dfInsights_aadgroup.select('ObjectId_pseudonym', 'SectionId')\n",
        "dfMeetingAtten = dfMeetingAtten.join(dfInsights_aadgroup_, dfMeetingAtten.AADGroup_ClassId_pseudonym == dfInsights_aadgroup_.ObjectId_pseudonym, how='inner') \\\n",
        "                            .drop('ClassId', 'AADGroup_ClassId_pseudonym', 'ObjectId_pseudonym')\n",
        "# finally, join dfMeetingAtten with dfEnroll table to grab the school, course and instructor IDs\n",
        "df_metadata = dfEnroll.select('SchoolId', 'CourseId', 'SectionId', 'InstructorId_pseudonym', 'StudentId_pseudonym')\n",
        "df_metadata = df_metadata.withColumnRenamed('SectionId', 'classId').withColumnRenamed('StudentId_pseudonym', 'id')\n",
        "dfMeetingAtten = dfMeetingAtten.join(df_metadata, (dfMeetingAtten.StudentId_pseudonym == df_metadata.id) & (dfMeetingAtten.SectionId == df_metadata.classId), how='inner').drop('classId', 'id')\n",
        "dfMeetingAtten = dfMeetingAtten.select('MeetingAttendanceId', 'SchoolId', 'CourseId', 'SectionId', 'InstructorId_pseudonym', 'StudentId_pseudonym', 'MeetingId', 'JoinTime', 'LeaveTime', 'AttendanceTime_sec')\n",
        "display(dfMeetingAtten.limit(10))"
      ]
    },
    {
      "attachments": {},
      "cell_type": "markdown",
      "metadata": {
        "nteract": {
          "transient": {
            "deleting": false
          }
        }
      },
      "source": [
        "### Write to Stage 3"
      ]
    },
    {
      "cell_type": "code",
      "execution_count": null,
      "metadata": {
        "jupyter": {
          "outputs_hidden": false,
          "source_hidden": false
        },
        "nteract": {
          "transient": {
            "deleting": false
          }
        }
      },
      "outputs": [
        {
          "data": {
            "application/vnd.livy.statement-meta+json": {
              "execution_finish_time": "2023-01-11T18:57:26.1092577Z",
              "execution_start_time": "2023-01-11T18:57:13.3755186Z",
              "livy_statement_state": "available",
              "queued_time": "2023-01-11T18:57:13.2561715Z",
              "session_id": "59",
              "session_start_time": null,
              "spark_jobs": null,
              "spark_pool": "spark3p2med",
              "state": "finished",
              "statement_id": 10
            },
            "text/plain": [
              "StatementMeta(spark3p2med, 59, 10, Finished, Available)"
            ]
          },
          "metadata": {},
          "output_type": "display_data"
        },
        {
          "name": "stdout",
          "output_type": "stream",
          "text": [
            "2023-01-11 18:57:25,115 - OEA - INFO - Number of new inbound rows processed: 10170\n"
          ]
        },
        {
          "data": {
            "text/plain": [
              "10170"
            ]
          },
          "execution_count": 23,
          "metadata": {},
          "output_type": "execute_result"
        }
      ],
      "source": [
        "publish(dfMeetingAtten, 'stage2/Enriched/learning_analytics/v1.0/general/fact_MeetingAttendance', 'stage3/Published/learning_analytics/v1.0/general/fact_MeetingAttendance', primary_key='MeetingAttendanceId')"
      ]
    },
    {
      "attachments": {},
      "cell_type": "markdown",
      "metadata": {
        "nteract": {
          "transient": {
            "deleting": false
          }
        }
      },
      "source": [
        "## 3.) Build fact_Assignment Table\n",
        "\n",
        "Data aggregations curation on Insights activity data pertaining to assignments in the education system (as well as using a few other tables).\n",
        "\n",
        "This table has one row per student per assignment from the Insights activity data, with details around:\n",
        " - assignment ID (unique ID per assignment - scraped from Insights Activity AssignmentId),\n",
        " - school ID (ID from Organization table),\n",
        " - course ID, \n",
        " - section ID, \n",
        " - instructor ID, \n",
        " - student ID (from Person table),\n",
        " - assignment status ID (ID from dim_AssignmentStatus for student assignment status),\n",
        " - assigned date, \n",
        " - assignment due date, and\n",
        " - student grade.\n",
        "\n",
        "This table is then written out to```(stage2 and stage3)/(Enriched and Published)/learning_analytics/v1.0/general/fact_Assignment```."
      ]
    },
    {
      "cell_type": "code",
      "execution_count": null,
      "metadata": {
        "jupyter": {
          "outputs_hidden": false,
          "source_hidden": false
        },
        "nteract": {
          "transient": {
            "deleting": false
          }
        }
      },
      "outputs": [
        {
          "data": {
            "application/vnd.livy.statement-meta+json": {
              "execution_finish_time": "2023-01-11T18:57:41.4211408Z",
              "execution_start_time": "2023-01-11T18:57:40.8635417Z",
              "livy_statement_state": "available",
              "queued_time": "2023-01-11T18:57:40.7233398Z",
              "session_id": "59",
              "session_start_time": null,
              "spark_jobs": null,
              "spark_pool": "spark3p2med",
              "state": "finished",
              "statement_id": 11
            },
            "text/plain": [
              "StatementMeta(spark3p2med, 59, 11, Finished, Available)"
            ]
          },
          "metadata": {},
          "output_type": "display_data"
        }
      ],
      "source": [
        "dfInsights_aadgroup = oea.load('stage2/Refined/M365/v'+ insights_version +'/general/AadGroup')\n",
        "dfInsights_aaduserpersonmap = oea.load('stage2/Refined/M365/v'+ insights_version +'/general/AadUserPersonMapping')\n",
        "dfInsights_activity = oea.load('stage2/Refined/M365/v'+ insights_version +'/general/activity')\n",
        "# lookup(s)\n",
        "dfInsights_aadgroup_np = oea.load('stage2/Refined/M365/v'+ insights_version +'/sensitive/AadGroup_lookup')"
      ]
    },
    {
      "cell_type": "code",
      "execution_count": null,
      "metadata": {
        "collapsed": false,
        "jupyter": {
          "outputs_hidden": false,
          "source_hidden": false
        },
        "nteract": {
          "transient": {
            "deleting": false
          }
        }
      },
      "outputs": [
        {
          "data": {
            "application/vnd.livy.statement-meta+json": {
              "execution_finish_time": "2023-01-11T19:32:40.4153369Z",
              "execution_start_time": "2023-01-11T19:32:36.063162Z",
              "livy_statement_state": "available",
              "queued_time": "2023-01-11T19:32:35.9006164Z",
              "session_id": "59",
              "session_start_time": null,
              "spark_jobs": null,
              "spark_pool": "spark3p2med",
              "state": "finished",
              "statement_id": 23
            },
            "text/plain": [
              "StatementMeta(spark3p2med, 59, 23, Finished, Available)"
            ]
          },
          "metadata": {},
          "output_type": "display_data"
        },
        {
          "data": {
            "application/vnd.synapse.widget-view+json": {
              "widget_id": "22381c9b-6dd0-4dcd-bc8c-c085633cdb44",
              "widget_type": "Synapse.DataFrame"
            },
            "text/plain": [
              "SynapseWidget(Synapse.DataFrame, 22381c9b-6dd0-4dcd-bc8c-c085633cdb44)"
            ]
          },
          "metadata": {},
          "output_type": "display_data"
        }
      ],
      "source": [
        "# NOTE: clean up below\n",
        "# grab only the relevant columns from the Insights activity student assignment data\n",
        "dfAssign = dfInsights_activity.filter(dfInsights_activity['AppName'] == 'Assignments').filter(dfInsights_activity['ActorRole'] == 'Student')\n",
        "dfAssign = dfAssign.select('StartTime', 'ClassId', 'ActorId_pseudonym', 'AssignmentId', 'Action', 'DueDate', 'Grade').withColumnRenamed('StartTime', 'AssignmentStatusTime')\n",
        "# join the Insights AADGroup_pseudo and _lookup table to the dfAssign table, to provide mapping of the hashed and non-hashed AADGroup Class IDs\n",
        "dfInsights_aadgroup_np_ = dfInsights_aadgroup_np.select('ObjectId', 'ObjectId_pseudonym').withColumnRenamed('ObjectId', 'Id').withColumnRenamed('ObjectId_pseudonym', 'AADGroup_ClassId_pseudonym')\n",
        "dfAssign = dfAssign.join(dfInsights_aadgroup_np_, dfAssign.ClassId == dfInsights_aadgroup_np_.Id, how='inner').drop('Id')\n",
        "dfInsights_aadgroup_ = dfInsights_aadgroup.select('ObjectId_pseudonym', 'SectionId')\n",
        "dfAssign = dfAssign.join(dfInsights_aadgroup_, dfAssign.AADGroup_ClassId_pseudonym == dfInsights_aadgroup_.ObjectId_pseudonym, how='inner') \\\n",
        "                            .drop('ClassId', 'AADGroup_ClassId_pseudonym', 'ObjectId_pseudonym')\n",
        "# join the Insights AADUserPersonMapping table to get the student IDs\n",
        "df_metadata = dfInsights_aaduserpersonmap.select('ObjectId_pseudonym', 'PersonId_pseudonym')\n",
        "dfAssign = dfAssign.join(df_metadata, dfAssign.ActorId_pseudonym == df_metadata.ObjectId_pseudonym, how='inner').drop('ActorId_pseudonym', 'ObjectId_pseudonym')\n",
        "dfAssign = dfAssign.withColumnRenamed('PersonId_pseudonym', 'StudentId_pseudonym')\n",
        "# scrape the Insights activity data for when each Instructor assigned the assignment\n",
        "df_metadata = dfInsights_activity.filter(dfInsights_activity['SignalType'] == 'AssignmentEvent').filter(dfInsights_activity['Action'] == 'Assigned')\n",
        "df_metadata = df_metadata.select('StartTime', 'AssignmentId').withColumn('AssignedDate', F.to_date(F.col('StartTime')))\n",
        "df_metadata = df_metadata.withColumnRenamed('AssignmentId', 'id').drop('StartTime')\n",
        "dfAssign = dfAssign.join(df_metadata, dfAssign.AssignmentId == df_metadata.id, how='left').drop('id')\n",
        "# assign a status ID to each student assignment status update\n",
        "dfAssign = dfAssign.withColumn('AssignmentStatusId', F.when(F.col('Action') == 'Assigned', '1').otherwise(F.when(F.col('Action') == 'Visited', '2').otherwise(F.when(F.col('Action') == 'Submitted', '3').otherwise(F.when(F.col('Action') == 'Returned', '4')))))\n",
        "dfAssign = dfAssign.drop('Action')\n",
        "# join dfAssign with dfEnroll table to grab the school, course and instructor IDs\n",
        "df_metadata = dfEnroll.select('SchoolId', 'CourseId', 'SectionId', 'InstructorId_pseudonym', 'StudentId_pseudonym')\n",
        "df_metadata = df_metadata.withColumnRenamed('SectionId', 'classId').withColumnRenamed('StudentId_pseudonym', 'id')\n",
        "dfAssign = dfAssign.join(df_metadata, (dfAssign.StudentId_pseudonym == df_metadata.id) & (dfAssign.SectionId == df_metadata.classId), how='inner').drop('classId', 'id')\n",
        "dfAssign = dfAssign.select('AssignmentId', 'SchoolId', 'CourseId', 'SectionId', 'InstructorId_pseudonym', 'StudentId_pseudonym', 'AssignmentStatusId', 'AssignmentStatusTime', 'AssignedDate', 'DueDate', 'Grade')\n",
        "# finally, inject every instance of an assignment being assigned (Insights activity data doesn't originally assign each assignment to each student)\n",
        "df_metadata = dfAssign.groupBy('AssignmentId', 'SchoolId', 'CourseId', 'SectionId', 'InstructorId_pseudonym', 'StudentId_pseudonym', 'AssignedDate', 'DueDate').count()\n",
        "df_metadata = df_metadata.drop('count')\n",
        "df_metadata = df_metadata.withColumn('AssignmentStatusTime', F.col('AssignedDate')).withColumn('AssignmentStatusTime', F.col('AssignmentStatusTime').cast(TimestampType()))\n",
        "df_metadata = df_metadata.withColumn('AssignmentStatusId', F.lit('1')).withColumn('Grade', F.lit(None))\n",
        "df_metadata = df_metadata.select('AssignmentId', 'SchoolId', 'CourseId', 'SectionId', 'InstructorId_pseudonym', 'StudentId_pseudonym', 'AssignmentStatusId', 'AssignmentStatusTime', 'AssignedDate', 'DueDate', 'Grade')\n",
        "dfAssign = dfAssign.unionAll(df_metadata)\n",
        "# drop the AssignedDate and DueDate columns, and separate the AssignmentStatusTime column into AssignmentStatusDate and AssignmentStatusTime\n",
        "dfAssign = dfAssign.drop('AssignedDate', 'DueDate').withColumn('AssignmentStatusDate', F.to_date(F.col('AssignmentStatusTime'))).withColumn('AssignmentStatusTime', F.date_format('AssignmentStatusTime', 'HH:mm:ss'))\n",
        "dfAssign = dfAssign.select('AssignmentId', 'SchoolId', 'CourseId', 'SectionId', 'InstructorId_pseudonym', 'StudentId_pseudonym', 'AssignmentStatusId', 'AssignmentStatusDate', 'AssignmentStatusTime', 'Grade')\n",
        "display(dfAssign.limit(10))"
      ]
    },
    {
      "cell_type": "code",
      "execution_count": null,
      "metadata": {
        "jupyter": {
          "outputs_hidden": false,
          "source_hidden": false
        },
        "nteract": {
          "transient": {
            "deleting": false
          }
        }
      },
      "outputs": [],
      "source": [
        "# ad hoc - test data doesn't have grades rounded, so this rounds the grade to the nearest 2 decimal places.\n",
        "dfAssign = dfAssign.withColumn('Grade', F.round(F.col('Grade'), 2))"
      ]
    },
    {
      "cell_type": "code",
      "execution_count": null,
      "metadata": {
        "collapsed": false,
        "jupyter": {
          "outputs_hidden": false,
          "source_hidden": false
        },
        "nteract": {
          "transient": {
            "deleting": false
          }
        }
      },
      "outputs": [
        {
          "data": {
            "application/vnd.livy.statement-meta+json": {
              "execution_finish_time": "2023-01-11T19:33:20.3232654Z",
              "execution_start_time": "2023-01-11T19:33:16.3196418Z",
              "livy_statement_state": "available",
              "queued_time": "2023-01-11T19:33:16.1736803Z",
              "session_id": "59",
              "session_start_time": null,
              "spark_jobs": null,
              "spark_pool": "spark3p2med",
              "state": "finished",
              "statement_id": 24
            },
            "text/plain": [
              "StatementMeta(spark3p2med, 59, 24, Finished, Available)"
            ]
          },
          "metadata": {},
          "output_type": "display_data"
        },
        {
          "data": {
            "application/vnd.synapse.widget-view+json": {
              "widget_id": "436cf651-8042-4d9f-92db-6ab780ef9d02",
              "widget_type": "Synapse.DataFrame"
            },
            "text/plain": [
              "SynapseWidget(Synapse.DataFrame, 436cf651-8042-4d9f-92db-6ab780ef9d02)"
            ]
          },
          "metadata": {},
          "output_type": "display_data"
        }
      ],
      "source": [
        "# create a unique primary key, since publishing will drop duplicates, and we intentionally want Assignment Id's reoccuring\n",
        "dfAssign = dfAssign.withColumn('AssignmentActivityId', F.concat(F.col('AssignmentStatusTime'),F.lit('_'),F.col('StudentId_pseudonym'),F.lit('_'),F.col('AssignmentId')))\n",
        "dfAssign = dfAssign.select('AssignmentActivityId', 'AssignmentId', 'SchoolId', 'CourseId', 'SectionId', 'InstructorId_pseudonym', 'StudentId_pseudonym', 'AssignmentStatusId', 'AssignmentStatusDate', 'AssignmentStatusTime', 'Grade')\n",
        "\n",
        "display(dfAssign.limit(10))"
      ]
    },
    {
      "attachments": {},
      "cell_type": "markdown",
      "metadata": {
        "nteract": {
          "transient": {
            "deleting": false
          }
        }
      },
      "source": [
        "### Write to Stage 3"
      ]
    },
    {
      "cell_type": "code",
      "execution_count": null,
      "metadata": {
        "jupyter": {
          "outputs_hidden": false,
          "source_hidden": false
        },
        "nteract": {
          "transient": {
            "deleting": false
          }
        }
      },
      "outputs": [
        {
          "data": {
            "application/vnd.livy.statement-meta+json": {
              "execution_finish_time": "2023-01-11T19:35:07.7101457Z",
              "execution_start_time": "2023-01-11T19:34:53.9360935Z",
              "livy_statement_state": "available",
              "queued_time": "2023-01-11T19:34:53.7562541Z",
              "session_id": "59",
              "session_start_time": null,
              "spark_jobs": null,
              "spark_pool": "spark3p2med",
              "state": "finished",
              "statement_id": 25
            },
            "text/plain": [
              "StatementMeta(spark3p2med, 59, 25, Finished, Available)"
            ]
          },
          "metadata": {},
          "output_type": "display_data"
        },
        {
          "name": "stdout",
          "output_type": "stream",
          "text": [
            "2023-01-11 19:35:06,814 - OEA - INFO - Number of new inbound rows processed: 30785\n"
          ]
        },
        {
          "data": {
            "text/plain": [
              "30785"
            ]
          },
          "execution_count": 53,
          "metadata": {},
          "output_type": "execute_result"
        }
      ],
      "source": [
        "publish(dfAssign, 'stage2/Enriched/learning_analytics/v1.0/general/fact_Assignment', 'stage3/Published/learning_analytics/v1.0/general/fact_Assignment', primary_key='AssignmentActivityId')"
      ]
    },
    {
      "attachments": {},
      "cell_type": "markdown",
      "metadata": {
        "nteract": {
          "transient": {
            "deleting": false
          }
        }
      },
      "source": [
        "## 4.) Build fact_Activity Table\n",
        "\n",
        "Data aggregations curation on Insights activity data in the education system (as well as using a few other tables).\n",
        "\n",
        "This table has one row per student per signal from the Insights activity data, with details around:\n",
        " - activity ID (unique ID per assignment - scraped from Insights Activity SignalId),\n",
        " - school ID (ID from Organization table),\n",
        " - course ID, \n",
        " - section ID, \n",
        " - instructor ID, \n",
        " - student ID (from Person table),\n",
        " - signal type ID (ID from dim_SignalType for student signal type),\n",
        " - activity date (i.e. date of the Insights activity signal), and\n",
        " - activity start time (i.e. datetime of the Insights activity signal).\n",
        "\n",
        "This table is then written out to```(stage2 and stage3)/(Enriched and Published)/learning_analytics/v1.0/general/fact_Activity```."
      ]
    },
    {
      "cell_type": "code",
      "execution_count": null,
      "metadata": {
        "jupyter": {
          "outputs_hidden": false,
          "source_hidden": false
        },
        "nteract": {
          "transient": {
            "deleting": false
          }
        }
      },
      "outputs": [
        {
          "data": {
            "application/vnd.livy.statement-meta+json": {
              "execution_finish_time": "2023-01-11T19:35:14.9823978Z",
              "execution_start_time": "2023-01-11T19:35:14.2586097Z",
              "livy_statement_state": "available",
              "queued_time": "2023-01-11T19:35:14.1484923Z",
              "session_id": "59",
              "session_start_time": null,
              "spark_jobs": null,
              "spark_pool": "spark3p2med",
              "state": "finished",
              "statement_id": 26
            },
            "text/plain": [
              "StatementMeta(spark3p2med, 59, 26, Finished, Available)"
            ]
          },
          "metadata": {},
          "output_type": "display_data"
        }
      ],
      "source": [
        "dfInsights_aadgroup = oea.load('stage2/Refined/M365/v'+ insights_version +'/general/AadGroup')\n",
        "dfInsights_aaduserpersonmap = oea.load('stage2/Refined/M365/v'+ insights_version +'/general/AadUserPersonMapping')\n",
        "dfInsights_activity = oea.load('stage2/Refined/M365/v'+ insights_version +'/general/activity')\n",
        "# lookup(s)\n",
        "dfInsights_aadgroup_np = oea.load('stage2/Refined/M365/v'+ insights_version +'/sensitive/AadGroup_lookup')"
      ]
    },
    {
      "cell_type": "code",
      "execution_count": null,
      "metadata": {
        "jupyter": {
          "outputs_hidden": false,
          "source_hidden": false
        },
        "nteract": {
          "transient": {
            "deleting": false
          }
        }
      },
      "outputs": [
        {
          "data": {
            "application/vnd.livy.statement-meta+json": {
              "execution_finish_time": "2023-01-11T19:35:18.2523539Z",
              "execution_start_time": "2023-01-11T19:35:17.7176684Z",
              "livy_statement_state": "available",
              "queued_time": "2023-01-11T19:35:17.604543Z",
              "session_id": "59",
              "session_start_time": null,
              "spark_jobs": null,
              "spark_pool": "spark3p2med",
              "state": "finished",
              "statement_id": 27
            },
            "text/plain": [
              "StatementMeta(spark3p2med, 59, 27, Finished, Available)"
            ]
          },
          "metadata": {},
          "output_type": "display_data"
        }
      ],
      "source": [
        "# NOTE: clean up below\n",
        "# join IDs with Person IDs rather than AADUser IDs from Insights activity data\n",
        "dfActivity = dfInsights_activity.select('SignalType', 'StartTime', 'SignalId', 'ClassId', 'ActorId_pseudonym', 'ActorRole')\n",
        "df_metadata = dfInsights_aaduserpersonmap.select('ObjectId_pseudonym', 'PersonId_pseudonym')\n",
        "dfActivity = dfActivity.join(df_metadata, dfActivity.ActorId_pseudonym == df_metadata.ObjectId_pseudonym, how='left').drop('ActorId_pseudonym', 'ObjectId_pseudonym').withColumnRenamed('PersonId_pseudonym', 'ActorId_pseudonym')\n",
        "# separate Instructor IDs (via Actor IDs)\n",
        "df_metadata = dfActivity.select('SignalId', 'ActorId_pseudonym', 'ActorRole')\n",
        "df_metadata = df_metadata.filter(df_metadata['ActorRole'] != 'Student')\n",
        "df_metadata = df_metadata.drop('ActorRole').withColumnRenamed('ActorId_pseudonym', 'InstructorId_pseudonym').withColumnRenamed('SignalId', 'id')\n",
        "dfActivity = dfActivity.join(df_metadata, dfActivity.SignalId == df_metadata.id, how='left')\n",
        "dfActivity = dfActivity.drop('id')\n",
        "# seperate Student IDs (via Actor IDs)\n",
        "df_metadata = dfActivity.select('SignalId', 'ActorId_pseudonym', 'ActorRole')\n",
        "df_metadata = df_metadata.filter(df_metadata['ActorRole'] == 'Student')\n",
        "df_metadata = df_metadata.drop('ActorRole').withColumnRenamed('ActorId_pseudonym', 'StudentId_pseudonym').withColumnRenamed('SignalId', 'id')\n",
        "dfActivity = dfActivity.join(df_metadata, dfActivity.SignalId == df_metadata.id, how='left')\n",
        "dfActivity = dfActivity.drop('id', 'ActorId_pseudonym')\n",
        "dfActivity = dfActivity.select('SignalId', 'SignalType', 'StartTime', 'ClassId', 'StudentId_pseudonym', 'InstructorId_pseudonym')\n",
        "# replace AADGroup IDs with Section IDs\n",
        "dfInsights_aadgroup_np_ = dfInsights_aadgroup_np.select('ObjectId', 'ObjectId_pseudonym').withColumnRenamed('ObjectId', 'Id').withColumnRenamed('ObjectId_pseudonym', 'AADGroup_ClassId_pseudonym')\n",
        "dfActivity = dfActivity.join(dfInsights_aadgroup_np_, dfActivity.ClassId == dfInsights_aadgroup_np_.Id, how='inner').drop('Id')\n",
        "dfInsights_aadgroup_ = dfInsights_aadgroup.select('ObjectId_pseudonym', 'SectionId')\n",
        "dfActivity = dfActivity.join(dfInsights_aadgroup_, dfActivity.AADGroup_ClassId_pseudonym == dfInsights_aadgroup_.ObjectId_pseudonym, how='inner') \\\n",
        "                            .drop('ClassId', 'AADGroup_ClassId_pseudonym', 'ObjectId_pseudonym')\n",
        "# clean data as needed and join dfActivity with dfEnroll table to grab the school, course and instructor IDs\n",
        "df_metadata = dfEnroll.select('SchoolId', 'CourseId', 'SectionId', 'InstructorId_pseudonym', 'StudentId_pseudonym')\n",
        "df_metadata = df_metadata.withColumnRenamed('SectionId', 'classId').withColumnRenamed('StudentId_pseudonym', 'id').withColumnRenamed('InstructorId_pseudonym', 'id2')\n",
        "dfActivity = dfActivity.join(df_metadata, ((dfActivity.StudentId_pseudonym == df_metadata.id) | (dfActivity.InstructorId_pseudonym == df_metadata.id2)) & \\\n",
        "                            (dfActivity.SectionId == df_metadata.classId), how='inner').drop('classId', 'id', 'id2')\n",
        "dfActivity = dfActivity.withColumnRenamed('SignalId', 'ActivityId').withColumn('ActivityDate', F.to_date(F.col('StartTime')))\n",
        "dfActivity = dfActivity.select('ActivityId', 'SchoolId', 'CourseId', 'SectionId', 'InstructorId_pseudonym', 'StudentId_pseudonym', 'SignalType', 'ActivityDate', 'StartTime')\n"
      ]
    },
    {
      "cell_type": "code",
      "execution_count": null,
      "metadata": {
        "collapsed": false,
        "jupyter": {
          "outputs_hidden": false,
          "source_hidden": false
        },
        "nteract": {
          "transient": {
            "deleting": false
          }
        }
      },
      "outputs": [
        {
          "data": {
            "application/vnd.livy.statement-meta+json": {
              "execution_finish_time": "2023-01-11T19:35:28.621659Z",
              "execution_start_time": "2023-01-11T19:35:21.7035707Z",
              "livy_statement_state": "available",
              "queued_time": "2023-01-11T19:35:21.6025293Z",
              "session_id": "59",
              "session_start_time": null,
              "spark_jobs": null,
              "spark_pool": "spark3p2med",
              "state": "finished",
              "statement_id": 28
            },
            "text/plain": [
              "StatementMeta(spark3p2med, 59, 28, Finished, Available)"
            ]
          },
          "metadata": {},
          "output_type": "display_data"
        },
        {
          "data": {
            "application/vnd.synapse.widget-view+json": {
              "widget_id": "429ac374-d171-4ab2-90b5-9b044a9e8a92",
              "widget_type": "Synapse.DataFrame"
            },
            "text/plain": [
              "SynapseWidget(Synapse.DataFrame, 429ac374-d171-4ab2-90b5-9b044a9e8a92)"
            ]
          },
          "metadata": {},
          "output_type": "display_data"
        }
      ],
      "source": [
        "# NOTE: Clean up SignalType assignment/encoding process.\n",
        "def SignalTypeId(SignalType):\n",
        "    if SignalType == 'PostChannelMessage':\n",
        "        res = '000001'\n",
        "    elif SignalType == 'ReplyChannelMessage':\n",
        "        res = '000002'\n",
        "    elif SignalType == 'VisitTeamChannel':\n",
        "        res = '000003'\n",
        "    elif SignalType == 'ExpandChannelMessage':\n",
        "        res = '000004'\n",
        "    elif SignalType == 'ReactedWithEmoji':\n",
        "        res = '000005'\n",
        "    elif SignalType == 'Like':\n",
        "        res = '000010'\n",
        "    elif SignalType == 'Unlike':\n",
        "        res = '000011'\n",
        "    elif SignalType == 'FileAccessed':\n",
        "        res = '000020'\n",
        "    elif SignalType == 'FileModified':\n",
        "        res = '000021'\n",
        "    elif SignalType == 'FileDownloaded':\n",
        "        res = '000022'\n",
        "    elif SignalType == 'FileUploaded':\n",
        "        res = '000023'\n",
        "    elif SignalType == 'ShareNotificationRequested':\n",
        "        res = '000030'\n",
        "    elif SignalType == 'AddedToSharedWithMe':\n",
        "        res = '000040'\n",
        "    elif SignalType == 'CommentCreated':\n",
        "        res = '000050'\n",
        "    elif SignalType == 'CommentDeleted':\n",
        "        res = '000051'\n",
        "    elif SignalType == 'UserAtMentioned':\n",
        "        res = '000060'\n",
        "    elif SignalType == 'Reflect':\n",
        "        res = '000100'\n",
        "    elif SignalType == 'OneNotePageChanged':\n",
        "        res = '001000'\n",
        "    elif SignalType == 'SubmissionEvent':\n",
        "        res = '020000'\n",
        "    elif SignalType == 'AssignmentEvent':\n",
        "        res = '010000'\n",
        "    elif SignalType == 'CallRecordSummarized':\n",
        "        res = '100000'\n",
        "    else:\n",
        "        res = ''\n",
        "    return res\n",
        "# define the function/dataType\n",
        "new_f2 = F.udf(SignalTypeId, StringType())\n",
        "  \n",
        "# add the new column\n",
        "dfActivity = dfActivity.withColumn('SignalTypeId', new_f2('SignalType'))\n",
        "dfActivity = dfActivity.select('ActivityId', 'SchoolId', 'CourseId', 'SectionId', 'InstructorId_pseudonym', 'StudentId_pseudonym', 'SignalTypeId', 'ActivityDate', 'StartTime')\n",
        "display(dfActivity.limit(10))"
      ]
    },
    {
      "attachments": {},
      "cell_type": "markdown",
      "metadata": {
        "nteract": {
          "transient": {
            "deleting": false
          }
        }
      },
      "source": [
        "### Write to Stage 3"
      ]
    },
    {
      "cell_type": "code",
      "execution_count": null,
      "metadata": {
        "jupyter": {
          "outputs_hidden": false,
          "source_hidden": false
        },
        "nteract": {
          "transient": {
            "deleting": false
          }
        }
      },
      "outputs": [
        {
          "data": {
            "application/vnd.livy.statement-meta+json": {
              "execution_finish_time": "2023-01-11T19:36:44.7770869Z",
              "execution_start_time": "2023-01-11T19:36:31.9835672Z",
              "livy_statement_state": "available",
              "queued_time": "2023-01-11T19:36:31.8736581Z",
              "session_id": "59",
              "session_start_time": null,
              "spark_jobs": null,
              "spark_pool": "spark3p2med",
              "state": "finished",
              "statement_id": 29
            },
            "text/plain": [
              "StatementMeta(spark3p2med, 59, 29, Finished, Available)"
            ]
          },
          "metadata": {},
          "output_type": "display_data"
        },
        {
          "name": "stdout",
          "output_type": "stream",
          "text": [
            "2023-01-11 19:36:42,713 - OEA - INFO - Number of new inbound rows processed: 34379\n"
          ]
        },
        {
          "data": {
            "text/plain": [
              "34379"
            ]
          },
          "execution_count": 61,
          "metadata": {},
          "output_type": "execute_result"
        }
      ],
      "source": [
        "publish(dfActivity, 'stage2/Enriched/learning_analytics/v1.0/general/fact_Activity', 'stage3/Published/learning_analytics/v1.0/general/fact_Activity', primary_key='ActivityId')"
      ]
    }
  ],
  "metadata": {
    "description": null,
    "kernelspec": {
      "display_name": "Synapse PySpark",
      "name": "synapse_pyspark"
    },
    "language_info": {
      "name": "python"
    },
    "save_output": true,
    "synapse_widget": {
      "state": {},
      "version": "0.1"
    }
  },
  "nbformat": 4,
  "nbformat_minor": 2
}
